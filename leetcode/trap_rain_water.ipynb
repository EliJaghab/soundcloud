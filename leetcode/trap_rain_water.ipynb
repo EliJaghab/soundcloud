{
 "cells": [
  {
   "cell_type": "code",
   "execution_count": 3,
   "metadata": {},
   "outputs": [],
   "source": [
    "\n",
    "def trap(height): \n",
    "    if not height: return 0\n",
    "    \n",
    "    l, r = 0, len(height) - 1\n",
    "    leftMax, rightMax = height[l], height[r]\n",
    "    res = 0\n",
    "    while l < r:\n",
    "        if leftMax < rightMax:\n",
    "            l += 1\n",
    "            leftMax = max(leftMax, height[l])\n",
    "            res += leftMax - height[l]\n",
    "        else:\n",
    "            r -= 1\n",
    "            rightMax = max(rightMax, height[r])\n",
    "            res += rightMax - height[r]\n",
    "    return res"
   ]
  },
  {
   "cell_type": "code",
   "execution_count": 4,
   "metadata": {},
   "outputs": [
    {
     "name": "stdout",
     "output_type": "stream",
     "text": [
      "6\n"
     ]
    }
   ],
   "source": [
    "height = [0,1,0,2,1,0,1,3,2,1,2,1]\n",
    "print(trap(height))"
   ]
  }
 ],
 "metadata": {
  "interpreter": {
   "hash": "31f2aee4e71d21fbe5cf8b01ff0e069b9275f58929596ceb00d14d90e3e16cd6"
  },
  "kernelspec": {
   "display_name": "Python 3.8.9 64-bit",
   "language": "python",
   "name": "python3"
  },
  "language_info": {
   "codemirror_mode": {
    "name": "ipython",
    "version": 3
   },
   "file_extension": ".py",
   "mimetype": "text/x-python",
   "name": "python",
   "nbconvert_exporter": "python",
   "pygments_lexer": "ipython3",
   "version": "3.8.9"
  },
  "orig_nbformat": 4
 },
 "nbformat": 4,
 "nbformat_minor": 2
}
