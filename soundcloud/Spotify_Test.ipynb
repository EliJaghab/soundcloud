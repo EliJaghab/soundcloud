{
 "cells": [
  {
   "cell_type": "code",
   "execution_count": 23,
   "metadata": {},
   "outputs": [],
   "source": [
    "from Spotify import Spotify\n",
    "import json\n",
    "\n",
    "s = Spotify()\n",
    "def test_get_features():\n",
    "    actual = s.get_features(\"Lucid Dreams\", \"Juice WRLD\")\n",
    "    f = open('expected_lucid.json')\n",
    "    expected = json.load(f)\n",
    "    assert actual == expected\n",
    "\n",
    "test_get_features()"
   ]
  },
  {
   "cell_type": "code",
   "execution_count": 40,
   "metadata": {},
   "outputs": [],
   "source": [
    "import unittest\n",
    "\n",
    "class TestSpotify(unittest.TestCase):\n",
    "\n",
    "    def test_get_features_lucid(self):\n",
    "        s = Spotify()\n",
    "        actual = s.get_features(\"Lucid Dreams\", \"Juice WRLD\")\n",
    "        f = open('expected_lucid.json')\n",
    "        expected = json.load(f)\n",
    "        self.assertEqual(expected, actual)\n",
    "    \n",
    "    def test_get_features_roses(self):\n",
    "        s = Spotify()\n",
    "        actual = s.get_features(\"Roses\", \"benny\")\n",
    "        f = open('expected_roses.json')\n",
    "        expected = json.load(f)\n",
    "        self.assertEqual(expected, actual)\n",
    "    \n",
    "    def test_get_features_unknown_song(self):\n",
    "        s = Spotify()\n",
    "        actual = s.get_features(\"@#$%@#$%\", \"@#$%@\")"
   ]
  },
  {
   "cell_type": "code",
   "execution_count": 42,
   "metadata": {},
   "outputs": [
    {
     "name": "stdout",
     "output_type": "stream",
     "text": [
      "{'tracks': {'href': 'https://api.spotify.com/v1/search?query=artist%3A%40%23%24%25%40+track%3A%40%23%24%25%40%23%24%25&type=track&offset=0&limit=10',\n",
      "            'items': [],\n",
      "            'limit': 10,\n",
      "            'next': None,\n",
      "            'offset': 0,\n",
      "            'previous': None,\n",
      "            'total': 0}}\n"
     ]
    },
    {
     "ename": "AttributeError",
     "evalue": "'NoneType' object has no attribute 'split'",
     "output_type": "error",
     "traceback": [
      "\u001b[0;31m---------------------------------------------------------------------------\u001b[0m",
      "\u001b[0;31mAttributeError\u001b[0m                            Traceback (most recent call last)",
      "\u001b[1;32m/Users/eli/github/soundcloud/Spotify_Test.ipynb Cell 3'\u001b[0m in \u001b[0;36m<cell line: 4>\u001b[0;34m()\u001b[0m\n\u001b[1;32m      <a href='vscode-notebook-cell:/Users/eli/github/soundcloud/Spotify_Test.ipynb#ch0000006?line=0'>1</a>\u001b[0m ts \u001b[39m=\u001b[39m TestSpotify()\n\u001b[1;32m      <a href='vscode-notebook-cell:/Users/eli/github/soundcloud/Spotify_Test.ipynb#ch0000006?line=1'>2</a>\u001b[0m \u001b[39m#ts.test_get_features_lucid()\u001b[39;00m\n\u001b[1;32m      <a href='vscode-notebook-cell:/Users/eli/github/soundcloud/Spotify_Test.ipynb#ch0000006?line=2'>3</a>\u001b[0m \u001b[39m#ts.test_get_features_roses()\u001b[39;00m\n\u001b[0;32m----> <a href='vscode-notebook-cell:/Users/eli/github/soundcloud/Spotify_Test.ipynb#ch0000006?line=3'>4</a>\u001b[0m ts\u001b[39m.\u001b[39;49mtest_get_features_unknown_song()\n",
      "\u001b[1;32m/Users/eli/github/soundcloud/Spotify_Test.ipynb Cell 2'\u001b[0m in \u001b[0;36mTestSpotify.test_get_features_unknown_song\u001b[0;34m(self)\u001b[0m\n\u001b[1;32m     <a href='vscode-notebook-cell:/Users/eli/github/soundcloud/Spotify_Test.ipynb#ch0000005?line=18'>19</a>\u001b[0m \u001b[39mdef\u001b[39;00m \u001b[39mtest_get_features_unknown_song\u001b[39m(\u001b[39mself\u001b[39m):\n\u001b[1;32m     <a href='vscode-notebook-cell:/Users/eli/github/soundcloud/Spotify_Test.ipynb#ch0000005?line=19'>20</a>\u001b[0m     s \u001b[39m=\u001b[39m Spotify()\n\u001b[0;32m---> <a href='vscode-notebook-cell:/Users/eli/github/soundcloud/Spotify_Test.ipynb#ch0000005?line=20'>21</a>\u001b[0m     actual \u001b[39m=\u001b[39m s\u001b[39m.\u001b[39;49mget_features(\u001b[39m\"\u001b[39;49m\u001b[39m@#$\u001b[39;49m\u001b[39m%\u001b[39;49m\u001b[39m@#$\u001b[39;49m\u001b[39m%\u001b[39;49m\u001b[39m\"\u001b[39;49m, \u001b[39m\"\u001b[39;49m\u001b[39m@#$\u001b[39;49m\u001b[39m%\u001b[39;49m\u001b[39m@\u001b[39;49m\u001b[39m\"\u001b[39;49m)\n",
      "File \u001b[0;32m~/github/soundcloud/Spotify.py:33\u001b[0m, in \u001b[0;36mSpotify.get_features\u001b[0;34m(self, track, artist)\u001b[0m\n\u001b[1;32m     <a href='file:///Users/eli/github/soundcloud/Spotify.py?line=28'>29</a>\u001b[0m     features[\u001b[39m'\u001b[39m\u001b[39martist_name\u001b[39m\u001b[39m'\u001b[39m] \u001b[39m=\u001b[39m artist\n\u001b[1;32m     <a href='file:///Users/eli/github/soundcloud/Spotify.py?line=29'>30</a>\u001b[0m     \u001b[39mreturn\u001b[39;00m features\n\u001b[0;32m---> <a href='file:///Users/eli/github/soundcloud/Spotify.py?line=32'>33</a>\u001b[0m \u001b[39mreturn\u001b[39;00m _get_features(\u001b[39mself\u001b[39;49m)\n",
      "File \u001b[0;32m~/github/soundcloud/Spotify.py:27\u001b[0m, in \u001b[0;36mSpotify.get_features.<locals>._get_features\u001b[0;34m(self)\u001b[0m\n\u001b[1;32m     <a href='file:///Users/eli/github/soundcloud/Spotify.py?line=24'>25</a>\u001b[0m \u001b[39mdef\u001b[39;00m \u001b[39m_get_features\u001b[39m(\u001b[39mself\u001b[39m):\n\u001b[1;32m     <a href='file:///Users/eli/github/soundcloud/Spotify.py?line=25'>26</a>\u001b[0m     track, artist, track_id \u001b[39m=\u001b[39m _get_track_id(\u001b[39mself\u001b[39m)\n\u001b[0;32m---> <a href='file:///Users/eli/github/soundcloud/Spotify.py?line=26'>27</a>\u001b[0m     features \u001b[39m=\u001b[39m \u001b[39mself\u001b[39;49m\u001b[39m.\u001b[39;49mclient\u001b[39m.\u001b[39;49maudio_features(track_id)[\u001b[39m0\u001b[39m]\n\u001b[1;32m     <a href='file:///Users/eli/github/soundcloud/Spotify.py?line=27'>28</a>\u001b[0m     features[\u001b[39m'\u001b[39m\u001b[39mtrack_name\u001b[39m\u001b[39m'\u001b[39m] \u001b[39m=\u001b[39m track\n\u001b[1;32m     <a href='file:///Users/eli/github/soundcloud/Spotify.py?line=28'>29</a>\u001b[0m     features[\u001b[39m'\u001b[39m\u001b[39martist_name\u001b[39m\u001b[39m'\u001b[39m] \u001b[39m=\u001b[39m artist\n",
      "File \u001b[0;32m~/Library/Python/3.8/lib/python/site-packages/spotipy/client.py:1682\u001b[0m, in \u001b[0;36mSpotify.audio_features\u001b[0;34m(self, tracks)\u001b[0m\n\u001b[1;32m   <a href='file:///Users/eli/Library/Python/3.8/lib/python/site-packages/spotipy/client.py?line=1679'>1680</a>\u001b[0m     results \u001b[39m=\u001b[39m \u001b[39mself\u001b[39m\u001b[39m.\u001b[39m_get(\u001b[39m\"\u001b[39m\u001b[39maudio-features/?ids=\u001b[39m\u001b[39m\"\u001b[39m \u001b[39m+\u001b[39m trackid)\n\u001b[1;32m   <a href='file:///Users/eli/Library/Python/3.8/lib/python/site-packages/spotipy/client.py?line=1680'>1681</a>\u001b[0m \u001b[39melse\u001b[39;00m:\n\u001b[0;32m-> <a href='file:///Users/eli/Library/Python/3.8/lib/python/site-packages/spotipy/client.py?line=1681'>1682</a>\u001b[0m     tlist \u001b[39m=\u001b[39m [\u001b[39mself\u001b[39m\u001b[39m.\u001b[39m_get_id(\u001b[39m\"\u001b[39m\u001b[39mtrack\u001b[39m\u001b[39m\"\u001b[39m, t) \u001b[39mfor\u001b[39;00m t \u001b[39min\u001b[39;00m tracks]\n\u001b[1;32m   <a href='file:///Users/eli/Library/Python/3.8/lib/python/site-packages/spotipy/client.py?line=1682'>1683</a>\u001b[0m     results \u001b[39m=\u001b[39m \u001b[39mself\u001b[39m\u001b[39m.\u001b[39m_get(\u001b[39m\"\u001b[39m\u001b[39maudio-features/?ids=\u001b[39m\u001b[39m\"\u001b[39m \u001b[39m+\u001b[39m \u001b[39m\"\u001b[39m\u001b[39m,\u001b[39m\u001b[39m\"\u001b[39m\u001b[39m.\u001b[39mjoin(tlist))\n\u001b[1;32m   <a href='file:///Users/eli/Library/Python/3.8/lib/python/site-packages/spotipy/client.py?line=1683'>1684</a>\u001b[0m \u001b[39m# the response has changed, look for the new style first, and if\u001b[39;00m\n\u001b[1;32m   <a href='file:///Users/eli/Library/Python/3.8/lib/python/site-packages/spotipy/client.py?line=1684'>1685</a>\u001b[0m \u001b[39m# its not there, fallback on the old style\u001b[39;00m\n",
      "File \u001b[0;32m~/Library/Python/3.8/lib/python/site-packages/spotipy/client.py:1682\u001b[0m, in \u001b[0;36m<listcomp>\u001b[0;34m(.0)\u001b[0m\n\u001b[1;32m   <a href='file:///Users/eli/Library/Python/3.8/lib/python/site-packages/spotipy/client.py?line=1679'>1680</a>\u001b[0m     results \u001b[39m=\u001b[39m \u001b[39mself\u001b[39m\u001b[39m.\u001b[39m_get(\u001b[39m\"\u001b[39m\u001b[39maudio-features/?ids=\u001b[39m\u001b[39m\"\u001b[39m \u001b[39m+\u001b[39m trackid)\n\u001b[1;32m   <a href='file:///Users/eli/Library/Python/3.8/lib/python/site-packages/spotipy/client.py?line=1680'>1681</a>\u001b[0m \u001b[39melse\u001b[39;00m:\n\u001b[0;32m-> <a href='file:///Users/eli/Library/Python/3.8/lib/python/site-packages/spotipy/client.py?line=1681'>1682</a>\u001b[0m     tlist \u001b[39m=\u001b[39m [\u001b[39mself\u001b[39;49m\u001b[39m.\u001b[39;49m_get_id(\u001b[39m\"\u001b[39;49m\u001b[39mtrack\u001b[39;49m\u001b[39m\"\u001b[39;49m, t) \u001b[39mfor\u001b[39;00m t \u001b[39min\u001b[39;00m tracks]\n\u001b[1;32m   <a href='file:///Users/eli/Library/Python/3.8/lib/python/site-packages/spotipy/client.py?line=1682'>1683</a>\u001b[0m     results \u001b[39m=\u001b[39m \u001b[39mself\u001b[39m\u001b[39m.\u001b[39m_get(\u001b[39m\"\u001b[39m\u001b[39maudio-features/?ids=\u001b[39m\u001b[39m\"\u001b[39m \u001b[39m+\u001b[39m \u001b[39m\"\u001b[39m\u001b[39m,\u001b[39m\u001b[39m\"\u001b[39m\u001b[39m.\u001b[39mjoin(tlist))\n\u001b[1;32m   <a href='file:///Users/eli/Library/Python/3.8/lib/python/site-packages/spotipy/client.py?line=1683'>1684</a>\u001b[0m \u001b[39m# the response has changed, look for the new style first, and if\u001b[39;00m\n\u001b[1;32m   <a href='file:///Users/eli/Library/Python/3.8/lib/python/site-packages/spotipy/client.py?line=1684'>1685</a>\u001b[0m \u001b[39m# its not there, fallback on the old style\u001b[39;00m\n",
      "File \u001b[0;32m~/Library/Python/3.8/lib/python/site-packages/spotipy/client.py:1911\u001b[0m, in \u001b[0;36mSpotify._get_id\u001b[0;34m(self, type, id)\u001b[0m\n\u001b[1;32m   <a href='file:///Users/eli/Library/Python/3.8/lib/python/site-packages/spotipy/client.py?line=1909'>1910</a>\u001b[0m \u001b[39mdef\u001b[39;00m \u001b[39m_get_id\u001b[39m(\u001b[39mself\u001b[39m, \u001b[39mtype\u001b[39m, \u001b[39mid\u001b[39m):\n\u001b[0;32m-> <a href='file:///Users/eli/Library/Python/3.8/lib/python/site-packages/spotipy/client.py?line=1910'>1911</a>\u001b[0m     fields \u001b[39m=\u001b[39m \u001b[39mid\u001b[39;49m\u001b[39m.\u001b[39;49msplit(\u001b[39m\"\u001b[39m\u001b[39m:\u001b[39m\u001b[39m\"\u001b[39m)\n\u001b[1;32m   <a href='file:///Users/eli/Library/Python/3.8/lib/python/site-packages/spotipy/client.py?line=1911'>1912</a>\u001b[0m     \u001b[39mif\u001b[39;00m \u001b[39mlen\u001b[39m(fields) \u001b[39m>\u001b[39m\u001b[39m=\u001b[39m \u001b[39m3\u001b[39m:\n\u001b[1;32m   <a href='file:///Users/eli/Library/Python/3.8/lib/python/site-packages/spotipy/client.py?line=1912'>1913</a>\u001b[0m         \u001b[39mif\u001b[39;00m \u001b[39mtype\u001b[39m \u001b[39m!=\u001b[39m fields[\u001b[39m-\u001b[39m\u001b[39m2\u001b[39m]:\n",
      "\u001b[0;31mAttributeError\u001b[0m: 'NoneType' object has no attribute 'split'"
     ]
    }
   ],
   "source": [
    "ts = TestSpotify()\n",
    "#ts.test_get_features_lucid()\n",
    "#ts.test_get_features_roses()\n",
    "ts.test_get_features_unknown_song()\n",
    "\n"
   ]
  },
  {
   "cell_type": "code",
   "execution_count": null,
   "metadata": {},
   "outputs": [],
   "source": []
  }
 ],
 "metadata": {
  "interpreter": {
   "hash": "31f2aee4e71d21fbe5cf8b01ff0e069b9275f58929596ceb00d14d90e3e16cd6"
  },
  "kernelspec": {
   "display_name": "Python 3.8.9 64-bit",
   "language": "python",
   "name": "python3"
  },
  "language_info": {
   "codemirror_mode": {
    "name": "ipython",
    "version": 3
   },
   "file_extension": ".py",
   "mimetype": "text/x-python",
   "name": "python",
   "nbconvert_exporter": "python",
   "pygments_lexer": "ipython3",
   "version": "3.8.9"
  },
  "orig_nbformat": 4
 },
 "nbformat": 4,
 "nbformat_minor": 2
}
