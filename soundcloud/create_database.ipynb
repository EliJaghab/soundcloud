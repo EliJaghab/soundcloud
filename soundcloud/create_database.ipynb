{
 "cells": [
  {
   "cell_type": "code",
   "execution_count": 1,
   "metadata": {},
   "outputs": [],
   "source": [
    "from pyspark.sql import SparkSession"
   ]
  },
  {
   "cell_type": "code",
   "execution_count": 2,
   "metadata": {},
   "outputs": [
    {
     "name": "stderr",
     "output_type": "stream",
     "text": [
      "Using Spark's default log4j profile: org/apache/spark/log4j-defaults.properties\n",
      "Setting default log level to \"WARN\".\n",
      "To adjust logging level use sc.setLogLevel(newLevel). For SparkR, use setLogLevel(newLevel).\n",
      "22/05/19 20:23:31 WARN NativeCodeLoader: Unable to load native-hadoop library for your platform... using builtin-java classes where applicable\n",
      "22/05/19 20:23:32 WARN Utils: Service 'SparkUI' could not bind on port 4040. Attempting port 4041.\n"
     ]
    }
   ],
   "source": [
    "spark = SparkSession.builder.appName('Practice').enableHiveSupport().getOrCreate()"
   ]
  },
  {
   "cell_type": "code",
   "execution_count": null,
   "metadata": {},
   "outputs": [],
   "source": [
    "db_name = \"soundcloud\"\n",
    "spark.sql(f\"CREATE DATABASE IF NOT EXISTS {db_name}\")"
   ]
  },
  {
   "cell_type": "code",
   "execution_count": 9,
   "metadata": {},
   "outputs": [
    {
     "name": "stderr",
     "output_type": "stream",
     "text": [
      "                                                                                \r"
     ]
    }
   ],
   "source": [
    "my_likes=spark.read.option(\"multiline\",\"true\").json(\"liked_songs5_19_22.json\")\n",
    "my_likes.write.saveAsTable(f\"{db_name}.my_likes\")\n"
   ]
  },
  {
   "cell_type": "code",
   "execution_count": 16,
   "metadata": {},
   "outputs": [
    {
     "name": "stdout",
     "output_type": "stream",
     "text": [
      "+----------------+----------------+------------+-------------+------------+--------------------+--------------------+--------------+-----------+----------+-----+----------------+--------------------+-----------+--------------+------------+-----------------+--------------------+-------------+--------------------+--------------------+\n",
      "|          artist|artist_followers|        city|comment_count|country_code|        date_created|          date_liked|download_count|      genre|        id| kind|      label_name|       last_modified|likes_count|playback_count|raw_duration|raw_full_duration|        release_date|reposts_count|   station_permalink|               title|\n",
      "+----------------+----------------+------------+-------------+------------+--------------------+--------------------+--------------+-----------+----------+-----+----------------+--------------------+-----------+--------------+------------+-----------------+--------------------+-------------+--------------------+--------------------+\n",
      "| James Mawdesley|             508|  Manchester|          115|          GB|2013-05-10 19:58:...|2022-05-15 20:33:...|           238|      Dance|  91611338|track|                |2022-03-27 01:24:...|      34658|       2175807|      217804|           217829|                null|         2534|track-stations:91...|Ultrabeat - Prett...|\n",
      "|          Fusion|              54| clarksville|           26|          US|2014-06-20 17:40:...|2022-05-10 13:24:...|           100|    dubstep| 155259874|track|            null|2022-01-02 14:52:...|       1563|        104738|      275199|           275199|                null|           55|track-stations:15...|Skrillex-Nothing Yet|\n",
      "| SICKKUNT SOUNDS|            2814|FUAAAAAAAAAA|           36|        null|2022-04-06 17:41:...|2022-05-08 20:52:...|             0|  Hardstyle|1245452611|track| Sickkunt Sounds|2022-04-12 09:35:...|       1242|         65152|      154584|           154593|2022-04-04T00:00:00Z|           15|track-stations:12...|Mqx - Falling (Si...|\n",
      "| SICKKUNT SOUNDS|            2814|FUAAAAAAAAAA|           11|        null|2022-04-08 04:13:...|2022-05-08 15:52:...|             0|  Hardstyle|1246432021|track| Sickkunt Sounds|2022-04-08 20:58:...|        793|         43967|      135892|           135915|2022-04-05T00:00:00Z|            6|track-stations:12...|Mqx - Not Our Tim...|\n",
      "|   Martin Garrix|         2020188|   Amsterdam|          266|          NL|2022-03-25 09:04:...|2022-05-06 15:23:...|             0|Dance & EDM|1238539492|track|     STMPD RCRDS|2022-05-04 03:16:...|       6027|        154320|      221242|           221257|2022-03-25T00:00:00Z|          821|track-stations:12...|Martin Garrix & Z...|\n",
      "|Spinnin' Records|         1743077|            |           13|        null|2022-05-05 13:14:...|2022-05-06 15:23:...|             0|Dance & EDM|1262673313|track|Spinnin' Records|2022-05-05 23:00:...|        299|          6683|      157521|           157544|2022-05-06T00:00:00Z|           29|track-stations:12...|Alfons & Xillions...|\n",
      "+----------------+----------------+------------+-------------+------------+--------------------+--------------------+--------------+-----------+----------+-----+----------------+--------------------+-----------+--------------+------------+-----------------+--------------------+-------------+--------------------+--------------------+\n",
      "\n"
     ]
    }
   ],
   "source": [
    "spark.sql(\"select * from soundcloud.my_likes limit 6\").show() "
   ]
  },
  {
   "cell_type": "code",
   "execution_count": null,
   "metadata": {},
   "outputs": [],
   "source": []
  }
 ],
 "metadata": {
  "interpreter": {
   "hash": "31f2aee4e71d21fbe5cf8b01ff0e069b9275f58929596ceb00d14d90e3e16cd6"
  },
  "kernelspec": {
   "display_name": "Python 3.8.9 64-bit",
   "language": "python",
   "name": "python3"
  },
  "language_info": {
   "codemirror_mode": {
    "name": "ipython",
    "version": 3
   },
   "file_extension": ".py",
   "mimetype": "text/x-python",
   "name": "python",
   "nbconvert_exporter": "python",
   "pygments_lexer": "ipython3",
   "version": "3.8.9"
  },
  "orig_nbformat": 4
 },
 "nbformat": 4,
 "nbformat_minor": 2
}
