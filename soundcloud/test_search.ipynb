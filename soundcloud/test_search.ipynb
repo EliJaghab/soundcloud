{
 "cells": [
  {
   "cell_type": "code",
   "execution_count": 15,
   "metadata": {},
   "outputs": [
    {
     "name": "stdout",
     "output_type": "stream",
     "text": [
      "Elton John - Dua Lipa   Cold Hear\n"
     ]
    }
   ],
   "source": [
    "\n",
    "dua_string = \"Elton John - Dua Lipa - Cold Heart (PNAU Javier Penna Extended Remix)FREE24BIT48HZ MASTER FINAL\"\n",
    "if \"-\" in dua_string:\n",
    "    new_string = dua_string.rsplit(\"-\", 1)\n",
    "    left = new_string[0]\n",
    "    right = new_string[1][:10]\n",
    "print(left, right)"
   ]
  },
  {
   "cell_type": "code",
   "execution_count": null,
   "metadata": {},
   "outputs": [],
   "source": [
    "(\"Memories (feat. Kid Cudi) [2021 Remix] (2021 Remix)\", \"David Guetta\")"
   ]
  },
  {
   "cell_type": "code",
   "execution_count": 1,
   "metadata": {},
   "outputs": [
    {
     "name": "stderr",
     "output_type": "stream",
     "text": [
      "/Users/eli/Library/Python/3.8/lib/python/site-packages/requests/__init__.py:102: RequestsDependencyWarning: urllib3 (1.26.9) or chardet (5.0.0)/charset_normalizer (2.0.12) doesn't match a supported version!\n",
      "  warnings.warn(\"urllib3 ({}) or chardet ({})/charset_normalizer ({}) doesn't match a supported \"\n"
     ]
    }
   ],
   "source": [
    "\n",
    "from utils.spotify import Spotify"
   ]
  },
  {
   "cell_type": "code",
   "execution_count": 9,
   "metadata": {},
   "outputs": [],
   "source": [
    "del Spotify"
   ]
  },
  {
   "cell_type": "code",
   "execution_count": 15,
   "metadata": {},
   "outputs": [
    {
     "name": "stdout",
     "output_type": "stream",
     "text": [
      "None\n"
     ]
    }
   ],
   "source": [
    "s = Spotify()\n",
    "print(s.get_track_id(\"Giving Up (feat. Mafro)\", \"TSHA Mafro)\"))"
   ]
  },
  {
   "cell_type": "code",
   "execution_count": 14,
   "metadata": {},
   "outputs": [
    {
     "data": {
      "text/plain": [
       "'Giving Up'"
      ]
     },
     "execution_count": 14,
     "metadata": {},
     "output_type": "execute_result"
    }
   ],
   "source": [
    "import re\n",
    "track = \"Giving Up (feat. Mafro)\"\n",
    "track_result = re.findall('\\(.*?\\)', track)[0]\n",
    "track_output = track.replace(track_result, \"\").strip()\n",
    "track_output"
   ]
  },
  {
   "cell_type": "code",
   "execution_count": 19,
   "metadata": {},
   "outputs": [
    {
     "data": {
      "text/plain": [
       "'Mafro'"
      ]
     },
     "execution_count": 19,
     "metadata": {},
     "output_type": "execute_result"
    }
   ],
   "source": [
    "track_result.split(\" \", 1)[1][:-1]"
   ]
  },
  {
   "cell_type": "code",
   "execution_count": 1,
   "metadata": {},
   "outputs": [
    {
     "name": "stderr",
     "output_type": "stream",
     "text": [
      "/Users/eli/Library/Python/3.8/lib/python/site-packages/requests/__init__.py:102: RequestsDependencyWarning: urllib3 (1.26.9) or chardet (5.0.0)/charset_normalizer (2.0.12) doesn't match a supported version!\n",
      "  warnings.warn(\"urllib3 ({}) or chardet ({})/charset_normalizer ({}) doesn't match a supported \"\n"
     ]
    },
    {
     "ename": "NameError",
     "evalue": "name 'right' is not defined",
     "output_type": "error",
     "traceback": [
      "\u001b[0;31m---------------------------------------------------------------------------\u001b[0m",
      "\u001b[0;31mNameError\u001b[0m                                 Traceback (most recent call last)",
      "\u001b[1;32m/Users/eli/github/soundcloud/test_search.ipynb Cell 3'\u001b[0m in \u001b[0;36m<cell line: 4>\u001b[0;34m()\u001b[0m\n\u001b[1;32m      <a href='vscode-notebook-cell:/Users/eli/github/soundcloud/test_search.ipynb#ch0000001?line=0'>1</a>\u001b[0m \u001b[39mfrom\u001b[39;00m \u001b[39mutils\u001b[39;00m\u001b[39m.\u001b[39;00m\u001b[39mspotify\u001b[39;00m \u001b[39mimport\u001b[39;00m Spotify\n\u001b[1;32m      <a href='vscode-notebook-cell:/Users/eli/github/soundcloud/test_search.ipynb#ch0000001?line=2'>3</a>\u001b[0m s \u001b[39m=\u001b[39m Spotify()\n\u001b[0;32m----> <a href='vscode-notebook-cell:/Users/eli/github/soundcloud/test_search.ipynb#ch0000001?line=3'>4</a>\u001b[0m \u001b[39mprint\u001b[39m(right, left)\n\u001b[1;32m      <a href='vscode-notebook-cell:/Users/eli/github/soundcloud/test_search.ipynb#ch0000001?line=4'>5</a>\u001b[0m actual \u001b[39m=\u001b[39m s\u001b[39m.\u001b[39mget_features(\u001b[39m\"\u001b[39m\u001b[39m\"\u001b[39m, left)\n\u001b[1;32m      <a href='vscode-notebook-cell:/Users/eli/github/soundcloud/test_search.ipynb#ch0000001?line=5'>6</a>\u001b[0m actual\n",
      "\u001b[0;31mNameError\u001b[0m: name 'right' is not defined"
     ]
    }
   ],
   "source": [
    "\n",
    "\n",
    "s = Spotify()\n",
    "print(right, left)\n",
    "actual = s.get_features(\"\", left)\n",
    "actual"
   ]
  },
  {
   "cell_type": "code",
   "execution_count": 45,
   "metadata": {},
   "outputs": [
    {
     "name": "stdout",
     "output_type": "stream",
     "text": [
      "/Users/eli/Library/Python/3.8/lib/python/site-packages/requests/__init__.py:102: RequestsDependencyWarning: urllib3 (1.26.9) or chardet (5.0.0)/charset_normalizer (2.0.12) doesn't match a supported version!\n",
      "  warnings.warn(\"urllib3 ({}) or chardet ({})/charset_normalizer ({}) doesn't match a supported \"\n",
      "Defaulting to user installation because normal site-packages is not writeable\n",
      "Collecting en-core-web-sm==3.4.0\n",
      "  Downloading https://github.com/explosion/spacy-models/releases/download/en_core_web_sm-3.4.0/en_core_web_sm-3.4.0-py3-none-any.whl (12.8 MB)\n",
      "\u001b[2K     \u001b[90m━━━━━━━━━━━━━━━━━━━━━━━━━━━━━━━━━━━━━━━━\u001b[0m \u001b[32m12.8/12.8 MB\u001b[0m \u001b[31m37.8 MB/s\u001b[0m eta \u001b[36m0:00:00\u001b[0m00:01\u001b[0m00:01\u001b[0m\n",
      "\u001b[?25hRequirement already satisfied: spacy<3.5.0,>=3.4.0 in /Users/eli/Library/Python/3.8/lib/python/site-packages (from en-core-web-sm==3.4.0) (3.4.0)\n",
      "Requirement already satisfied: catalogue<2.1.0,>=2.0.6 in /Users/eli/Library/Python/3.8/lib/python/site-packages (from spacy<3.5.0,>=3.4.0->en-core-web-sm==3.4.0) (2.0.7)\n",
      "Requirement already satisfied: cymem<2.1.0,>=2.0.2 in /Users/eli/Library/Python/3.8/lib/python/site-packages (from spacy<3.5.0,>=3.4.0->en-core-web-sm==3.4.0) (2.0.6)\n",
      "Requirement already satisfied: requests<3.0.0,>=2.13.0 in /Users/eli/Library/Python/3.8/lib/python/site-packages (from spacy<3.5.0,>=3.4.0->en-core-web-sm==3.4.0) (2.27.1)\n",
      "Requirement already satisfied: spacy-legacy<3.1.0,>=3.0.9 in /Users/eli/Library/Python/3.8/lib/python/site-packages (from spacy<3.5.0,>=3.4.0->en-core-web-sm==3.4.0) (3.0.9)\n",
      "Requirement already satisfied: preshed<3.1.0,>=3.0.2 in /Users/eli/Library/Python/3.8/lib/python/site-packages (from spacy<3.5.0,>=3.4.0->en-core-web-sm==3.4.0) (3.0.6)\n",
      "Requirement already satisfied: wasabi<1.1.0,>=0.9.1 in /Users/eli/Library/Python/3.8/lib/python/site-packages (from spacy<3.5.0,>=3.4.0->en-core-web-sm==3.4.0) (0.9.1)\n",
      "Requirement already satisfied: langcodes<4.0.0,>=3.2.0 in /Users/eli/Library/Python/3.8/lib/python/site-packages (from spacy<3.5.0,>=3.4.0->en-core-web-sm==3.4.0) (3.3.0)\n",
      "Requirement already satisfied: thinc<8.2.0,>=8.1.0 in /Users/eli/Library/Python/3.8/lib/python/site-packages (from spacy<3.5.0,>=3.4.0->en-core-web-sm==3.4.0) (8.1.0)\n",
      "Requirement already satisfied: srsly<3.0.0,>=2.4.3 in /Users/eli/Library/Python/3.8/lib/python/site-packages (from spacy<3.5.0,>=3.4.0->en-core-web-sm==3.4.0) (2.4.3)\n",
      "Requirement already satisfied: pydantic!=1.8,!=1.8.1,<1.10.0,>=1.7.4 in /Users/eli/Library/Python/3.8/lib/python/site-packages (from spacy<3.5.0,>=3.4.0->en-core-web-sm==3.4.0) (1.9.1)\n",
      "Requirement already satisfied: setuptools in /Users/eli/Library/Python/3.8/lib/python/site-packages (from spacy<3.5.0,>=3.4.0->en-core-web-sm==3.4.0) (63.2.0)\n",
      "Requirement already satisfied: spacy-loggers<2.0.0,>=1.0.0 in /Users/eli/Library/Python/3.8/lib/python/site-packages (from spacy<3.5.0,>=3.4.0->en-core-web-sm==3.4.0) (1.0.3)\n",
      "Requirement already satisfied: packaging>=20.0 in /Users/eli/Library/Python/3.8/lib/python/site-packages (from spacy<3.5.0,>=3.4.0->en-core-web-sm==3.4.0) (21.3)\n",
      "Requirement already satisfied: tqdm<5.0.0,>=4.38.0 in /Users/eli/Library/Python/3.8/lib/python/site-packages (from spacy<3.5.0,>=3.4.0->en-core-web-sm==3.4.0) (4.64.0)\n",
      "Requirement already satisfied: jinja2 in /Users/eli/Library/Python/3.8/lib/python/site-packages (from spacy<3.5.0,>=3.4.0->en-core-web-sm==3.4.0) (3.1.2)\n",
      "Requirement already satisfied: typer<0.5.0,>=0.3.0 in /Users/eli/Library/Python/3.8/lib/python/site-packages (from spacy<3.5.0,>=3.4.0->en-core-web-sm==3.4.0) (0.4.2)\n",
      "Requirement already satisfied: murmurhash<1.1.0,>=0.28.0 in /Users/eli/Library/Python/3.8/lib/python/site-packages (from spacy<3.5.0,>=3.4.0->en-core-web-sm==3.4.0) (1.0.7)\n",
      "Requirement already satisfied: pathy>=0.3.5 in /Users/eli/Library/Python/3.8/lib/python/site-packages (from spacy<3.5.0,>=3.4.0->en-core-web-sm==3.4.0) (0.6.2)\n",
      "Requirement already satisfied: numpy>=1.15.0 in /Users/eli/Library/Python/3.8/lib/python/site-packages (from spacy<3.5.0,>=3.4.0->en-core-web-sm==3.4.0) (1.22.3)\n",
      "Requirement already satisfied: pyparsing!=3.0.5,>=2.0.2 in /Users/eli/Library/Python/3.8/lib/python/site-packages (from packaging>=20.0->spacy<3.5.0,>=3.4.0->en-core-web-sm==3.4.0) (3.0.8)\n",
      "Requirement already satisfied: smart-open<6.0.0,>=5.2.1 in /Users/eli/Library/Python/3.8/lib/python/site-packages (from pathy>=0.3.5->spacy<3.5.0,>=3.4.0->en-core-web-sm==3.4.0) (5.2.1)\n",
      "Requirement already satisfied: typing-extensions>=3.7.4.3 in /Users/eli/Library/Python/3.8/lib/python/site-packages (from pydantic!=1.8,!=1.8.1,<1.10.0,>=1.7.4->spacy<3.5.0,>=3.4.0->en-core-web-sm==3.4.0) (4.3.0)\n",
      "Requirement already satisfied: certifi>=2017.4.17 in /Users/eli/Library/Python/3.8/lib/python/site-packages (from requests<3.0.0,>=2.13.0->spacy<3.5.0,>=3.4.0->en-core-web-sm==3.4.0) (2021.10.8)\n",
      "Requirement already satisfied: urllib3<1.27,>=1.21.1 in /Users/eli/Library/Python/3.8/lib/python/site-packages (from requests<3.0.0,>=2.13.0->spacy<3.5.0,>=3.4.0->en-core-web-sm==3.4.0) (1.26.9)\n",
      "Requirement already satisfied: charset-normalizer~=2.0.0 in /Users/eli/Library/Python/3.8/lib/python/site-packages (from requests<3.0.0,>=2.13.0->spacy<3.5.0,>=3.4.0->en-core-web-sm==3.4.0) (2.0.12)\n",
      "Requirement already satisfied: idna<4,>=2.5 in /Users/eli/Library/Python/3.8/lib/python/site-packages (from requests<3.0.0,>=2.13.0->spacy<3.5.0,>=3.4.0->en-core-web-sm==3.4.0) (3.3)\n",
      "Requirement already satisfied: blis<0.8.0,>=0.7.8 in /Users/eli/Library/Python/3.8/lib/python/site-packages (from thinc<8.2.0,>=8.1.0->spacy<3.5.0,>=3.4.0->en-core-web-sm==3.4.0) (0.7.8)\n",
      "Requirement already satisfied: click<9.0.0,>=7.1.1 in /Users/eli/Library/Python/3.8/lib/python/site-packages (from typer<0.5.0,>=0.3.0->spacy<3.5.0,>=3.4.0->en-core-web-sm==3.4.0) (8.1.3)\n",
      "Requirement already satisfied: MarkupSafe>=2.0 in /Users/eli/Library/Python/3.8/lib/python/site-packages (from jinja2->spacy<3.5.0,>=3.4.0->en-core-web-sm==3.4.0) (2.1.1)\n",
      "Installing collected packages: en-core-web-sm\n",
      "  Attempting uninstall: en-core-web-sm\n",
      "    Found existing installation: en-core-web-sm 2.3.1\n",
      "    Uninstalling en-core-web-sm-2.3.1:\n",
      "      Successfully uninstalled en-core-web-sm-2.3.1\n",
      "Successfully installed en-core-web-sm-3.4.0\n",
      "\u001b[38;5;2m✔ Download and installation successful\u001b[0m\n",
      "You can now load the package via spacy.load('en_core_web_sm')\n"
     ]
    }
   ],
   "source": [
    "import sys\n",
    "!{sys.executable} -m spacy download en_core_web_sm"
   ]
  },
  {
   "cell_type": "code",
   "execution_count": 54,
   "metadata": {},
   "outputs": [
    {
     "name": "stdout",
     "output_type": "stream",
     "text": [
      "Elton John - Dua Lipa - Cold Heart PERSON\n",
      "Remix)FREE24BIT48HZ MASTER PERSON\n"
     ]
    }
   ],
   "source": [
    "import spacy \n",
    "nlp = spacy.load(\"en_core_web_sm\")\n",
    "\n",
    "doc = nlp(\"Elton John - Dua Lipa - Cold Heart (PNAU Javier Penna Extended Remix)FREE24BIT48HZ MASTER FINAL\")\n",
    "for ent in doc.ents:\n",
    "    print(ent.text,  ent.label_)"
   ]
  },
  {
   "cell_type": "code",
   "execution_count": 52,
   "metadata": {},
   "outputs": [
    {
     "name": "stdout",
     "output_type": "stream",
     "text": [
      "Text Elton John Dua Lipa Cold Heart Label: PERSON\n",
      "Text Remix)FREE24BIT48HZ MASTER Label: PERSON\n"
     ]
    }
   ],
   "source": [
    "import en_core_web_sm\n",
    "import spacy\n",
    "nlp = en_core_web_sm.load()\n",
    "\n",
    "article = nlp(\"Elton John Dua Lipa Cold Heart (PNAU Javier Penna Extended Remix)FREE24BIT48HZ MASTER FINAL\")\n",
    "\n",
    "for x in article.ents:\n",
    "    print(f\"Text {x.text} Label: {x.label_}\")"
   ]
  },
  {
   "cell_type": "code",
   "execution_count": 20,
   "metadata": {},
   "outputs": [
    {
     "ename": "OSError",
     "evalue": "[E053] Could not read config file from /Users/eli/Library/Python/3.8/lib/python/site-packages/en_core_web_sm/en_core_web_sm-2.2.0/config.cfg",
     "output_type": "error",
     "traceback": [
      "\u001b[0;31m---------------------------------------------------------------------------\u001b[0m",
      "\u001b[0;31mOSError\u001b[0m                                   Traceback (most recent call last)",
      "\u001b[1;32m/Users/eli/github/soundcloud/test_search.ipynb Cell 2'\u001b[0m in \u001b[0;36m<cell line: 2>\u001b[0;34m()\u001b[0m\n\u001b[1;32m      <a href='vscode-notebook-cell:/Users/eli/github/soundcloud/test_search.ipynb#ch0000023?line=0'>1</a>\u001b[0m \u001b[39mimport\u001b[39;00m \u001b[39mspacy\u001b[39;00m\n\u001b[0;32m----> <a href='vscode-notebook-cell:/Users/eli/github/soundcloud/test_search.ipynb#ch0000023?line=1'>2</a>\u001b[0m spacy\u001b[39m.\u001b[39;49mload(\u001b[39m\"\u001b[39;49m\u001b[39men_core_web_sm\u001b[39;49m\u001b[39m\"\u001b[39;49m)\n",
      "File \u001b[0;32m~/Library/Python/3.8/lib/python/site-packages/spacy/__init__.py:54\u001b[0m, in \u001b[0;36mload\u001b[0;34m(name, vocab, disable, enable, exclude, config)\u001b[0m\n\u001b[1;32m     <a href='file:///Users/eli/Library/Python/3.8/lib/python/site-packages/spacy/__init__.py?line=29'>30</a>\u001b[0m \u001b[39mdef\u001b[39;00m \u001b[39mload\u001b[39m(\n\u001b[1;32m     <a href='file:///Users/eli/Library/Python/3.8/lib/python/site-packages/spacy/__init__.py?line=30'>31</a>\u001b[0m     name: Union[\u001b[39mstr\u001b[39m, Path],\n\u001b[1;32m     <a href='file:///Users/eli/Library/Python/3.8/lib/python/site-packages/spacy/__init__.py?line=31'>32</a>\u001b[0m     \u001b[39m*\u001b[39m,\n\u001b[0;32m   (...)\u001b[0m\n\u001b[1;32m     <a href='file:///Users/eli/Library/Python/3.8/lib/python/site-packages/spacy/__init__.py?line=36'>37</a>\u001b[0m     config: Union[Dict[\u001b[39mstr\u001b[39m, Any], Config] \u001b[39m=\u001b[39m util\u001b[39m.\u001b[39mSimpleFrozenDict(),\n\u001b[1;32m     <a href='file:///Users/eli/Library/Python/3.8/lib/python/site-packages/spacy/__init__.py?line=37'>38</a>\u001b[0m ) \u001b[39m-\u001b[39m\u001b[39m>\u001b[39m Language:\n\u001b[1;32m     <a href='file:///Users/eli/Library/Python/3.8/lib/python/site-packages/spacy/__init__.py?line=38'>39</a>\u001b[0m     \u001b[39m\"\"\"Load a spaCy model from an installed package or a local path.\u001b[39;00m\n\u001b[1;32m     <a href='file:///Users/eli/Library/Python/3.8/lib/python/site-packages/spacy/__init__.py?line=39'>40</a>\u001b[0m \n\u001b[1;32m     <a href='file:///Users/eli/Library/Python/3.8/lib/python/site-packages/spacy/__init__.py?line=40'>41</a>\u001b[0m \u001b[39m    name (str): Package name or model path.\u001b[39;00m\n\u001b[0;32m   (...)\u001b[0m\n\u001b[1;32m     <a href='file:///Users/eli/Library/Python/3.8/lib/python/site-packages/spacy/__init__.py?line=51'>52</a>\u001b[0m \u001b[39m    RETURNS (Language): The loaded nlp object.\u001b[39;00m\n\u001b[1;32m     <a href='file:///Users/eli/Library/Python/3.8/lib/python/site-packages/spacy/__init__.py?line=52'>53</a>\u001b[0m \u001b[39m    \"\"\"\u001b[39;00m\n\u001b[0;32m---> <a href='file:///Users/eli/Library/Python/3.8/lib/python/site-packages/spacy/__init__.py?line=53'>54</a>\u001b[0m     \u001b[39mreturn\u001b[39;00m util\u001b[39m.\u001b[39;49mload_model(\n\u001b[1;32m     <a href='file:///Users/eli/Library/Python/3.8/lib/python/site-packages/spacy/__init__.py?line=54'>55</a>\u001b[0m         name,\n\u001b[1;32m     <a href='file:///Users/eli/Library/Python/3.8/lib/python/site-packages/spacy/__init__.py?line=55'>56</a>\u001b[0m         vocab\u001b[39m=\u001b[39;49mvocab,\n\u001b[1;32m     <a href='file:///Users/eli/Library/Python/3.8/lib/python/site-packages/spacy/__init__.py?line=56'>57</a>\u001b[0m         disable\u001b[39m=\u001b[39;49mdisable,\n\u001b[1;32m     <a href='file:///Users/eli/Library/Python/3.8/lib/python/site-packages/spacy/__init__.py?line=57'>58</a>\u001b[0m         enable\u001b[39m=\u001b[39;49menable,\n\u001b[1;32m     <a href='file:///Users/eli/Library/Python/3.8/lib/python/site-packages/spacy/__init__.py?line=58'>59</a>\u001b[0m         exclude\u001b[39m=\u001b[39;49mexclude,\n\u001b[1;32m     <a href='file:///Users/eli/Library/Python/3.8/lib/python/site-packages/spacy/__init__.py?line=59'>60</a>\u001b[0m         config\u001b[39m=\u001b[39;49mconfig,\n\u001b[1;32m     <a href='file:///Users/eli/Library/Python/3.8/lib/python/site-packages/spacy/__init__.py?line=60'>61</a>\u001b[0m     )\n",
      "File \u001b[0;32m~/Library/Python/3.8/lib/python/site-packages/spacy/util.py:429\u001b[0m, in \u001b[0;36mload_model\u001b[0;34m(name, vocab, disable, enable, exclude, config)\u001b[0m\n\u001b[1;32m    <a href='file:///Users/eli/Library/Python/3.8/lib/python/site-packages/spacy/util.py?line=426'>427</a>\u001b[0m     \u001b[39mreturn\u001b[39;00m get_lang_class(name\u001b[39m.\u001b[39mreplace(\u001b[39m\"\u001b[39m\u001b[39mblank:\u001b[39m\u001b[39m\"\u001b[39m, \u001b[39m\"\u001b[39m\u001b[39m\"\u001b[39m))()\n\u001b[1;32m    <a href='file:///Users/eli/Library/Python/3.8/lib/python/site-packages/spacy/util.py?line=427'>428</a>\u001b[0m \u001b[39mif\u001b[39;00m is_package(name):  \u001b[39m# installed as package\u001b[39;00m\n\u001b[0;32m--> <a href='file:///Users/eli/Library/Python/3.8/lib/python/site-packages/spacy/util.py?line=428'>429</a>\u001b[0m     \u001b[39mreturn\u001b[39;00m load_model_from_package(name, \u001b[39m*\u001b[39;49m\u001b[39m*\u001b[39;49mkwargs)  \u001b[39m# type: ignore[arg-type]\u001b[39;00m\n\u001b[1;32m    <a href='file:///Users/eli/Library/Python/3.8/lib/python/site-packages/spacy/util.py?line=429'>430</a>\u001b[0m \u001b[39mif\u001b[39;00m Path(name)\u001b[39m.\u001b[39mexists():  \u001b[39m# path to model data directory\u001b[39;00m\n\u001b[1;32m    <a href='file:///Users/eli/Library/Python/3.8/lib/python/site-packages/spacy/util.py?line=430'>431</a>\u001b[0m     \u001b[39mreturn\u001b[39;00m load_model_from_path(Path(name), \u001b[39m*\u001b[39m\u001b[39m*\u001b[39mkwargs)  \u001b[39m# type: ignore[arg-type]\u001b[39;00m\n",
      "File \u001b[0;32m~/Library/Python/3.8/lib/python/site-packages/spacy/util.py:465\u001b[0m, in \u001b[0;36mload_model_from_package\u001b[0;34m(name, vocab, disable, enable, exclude, config)\u001b[0m\n\u001b[1;32m    <a href='file:///Users/eli/Library/Python/3.8/lib/python/site-packages/spacy/util.py?line=447'>448</a>\u001b[0m \u001b[39m\"\"\"Load a model from an installed package.\u001b[39;00m\n\u001b[1;32m    <a href='file:///Users/eli/Library/Python/3.8/lib/python/site-packages/spacy/util.py?line=448'>449</a>\u001b[0m \n\u001b[1;32m    <a href='file:///Users/eli/Library/Python/3.8/lib/python/site-packages/spacy/util.py?line=449'>450</a>\u001b[0m \u001b[39mname (str): The package name.\u001b[39;00m\n\u001b[0;32m   (...)\u001b[0m\n\u001b[1;32m    <a href='file:///Users/eli/Library/Python/3.8/lib/python/site-packages/spacy/util.py?line=461'>462</a>\u001b[0m \u001b[39mRETURNS (Language): The loaded nlp object.\u001b[39;00m\n\u001b[1;32m    <a href='file:///Users/eli/Library/Python/3.8/lib/python/site-packages/spacy/util.py?line=462'>463</a>\u001b[0m \u001b[39m\"\"\"\u001b[39;00m\n\u001b[1;32m    <a href='file:///Users/eli/Library/Python/3.8/lib/python/site-packages/spacy/util.py?line=463'>464</a>\u001b[0m \u001b[39mcls\u001b[39m \u001b[39m=\u001b[39m importlib\u001b[39m.\u001b[39mimport_module(name)\n\u001b[0;32m--> <a href='file:///Users/eli/Library/Python/3.8/lib/python/site-packages/spacy/util.py?line=464'>465</a>\u001b[0m \u001b[39mreturn\u001b[39;00m \u001b[39mcls\u001b[39;49m\u001b[39m.\u001b[39;49mload(vocab\u001b[39m=\u001b[39;49mvocab, disable\u001b[39m=\u001b[39;49mdisable, enable\u001b[39m=\u001b[39;49menable, exclude\u001b[39m=\u001b[39;49mexclude, config\u001b[39m=\u001b[39;49mconfig)\n",
      "File \u001b[0;32m~/Library/Python/3.8/lib/python/site-packages/en_core_web_sm/__init__.py:12\u001b[0m, in \u001b[0;36mload\u001b[0;34m(**overrides)\u001b[0m\n\u001b[1;32m     <a href='file:///Users/eli/Library/Python/3.8/lib/python/site-packages/en_core_web_sm/__init__.py?line=10'>11</a>\u001b[0m \u001b[39mdef\u001b[39;00m \u001b[39mload\u001b[39m(\u001b[39m*\u001b[39m\u001b[39m*\u001b[39moverrides):\n\u001b[0;32m---> <a href='file:///Users/eli/Library/Python/3.8/lib/python/site-packages/en_core_web_sm/__init__.py?line=11'>12</a>\u001b[0m     \u001b[39mreturn\u001b[39;00m load_model_from_init_py(\u001b[39m__file__\u001b[39;49m, \u001b[39m*\u001b[39;49m\u001b[39m*\u001b[39;49moverrides)\n",
      "File \u001b[0;32m~/Library/Python/3.8/lib/python/site-packages/spacy/util.py:646\u001b[0m, in \u001b[0;36mload_model_from_init_py\u001b[0;34m(init_file, vocab, disable, enable, exclude, config)\u001b[0m\n\u001b[1;32m    <a href='file:///Users/eli/Library/Python/3.8/lib/python/site-packages/spacy/util.py?line=643'>644</a>\u001b[0m \u001b[39mif\u001b[39;00m \u001b[39mnot\u001b[39;00m model_path\u001b[39m.\u001b[39mexists():\n\u001b[1;32m    <a href='file:///Users/eli/Library/Python/3.8/lib/python/site-packages/spacy/util.py?line=644'>645</a>\u001b[0m     \u001b[39mraise\u001b[39;00m \u001b[39mIOError\u001b[39;00m(Errors\u001b[39m.\u001b[39mE052\u001b[39m.\u001b[39mformat(path\u001b[39m=\u001b[39mdata_path))\n\u001b[0;32m--> <a href='file:///Users/eli/Library/Python/3.8/lib/python/site-packages/spacy/util.py?line=645'>646</a>\u001b[0m \u001b[39mreturn\u001b[39;00m load_model_from_path(\n\u001b[1;32m    <a href='file:///Users/eli/Library/Python/3.8/lib/python/site-packages/spacy/util.py?line=646'>647</a>\u001b[0m     data_path,\n\u001b[1;32m    <a href='file:///Users/eli/Library/Python/3.8/lib/python/site-packages/spacy/util.py?line=647'>648</a>\u001b[0m     vocab\u001b[39m=\u001b[39;49mvocab,\n\u001b[1;32m    <a href='file:///Users/eli/Library/Python/3.8/lib/python/site-packages/spacy/util.py?line=648'>649</a>\u001b[0m     meta\u001b[39m=\u001b[39;49mmeta,\n\u001b[1;32m    <a href='file:///Users/eli/Library/Python/3.8/lib/python/site-packages/spacy/util.py?line=649'>650</a>\u001b[0m     disable\u001b[39m=\u001b[39;49mdisable,\n\u001b[1;32m    <a href='file:///Users/eli/Library/Python/3.8/lib/python/site-packages/spacy/util.py?line=650'>651</a>\u001b[0m     enable\u001b[39m=\u001b[39;49menable,\n\u001b[1;32m    <a href='file:///Users/eli/Library/Python/3.8/lib/python/site-packages/spacy/util.py?line=651'>652</a>\u001b[0m     exclude\u001b[39m=\u001b[39;49mexclude,\n\u001b[1;32m    <a href='file:///Users/eli/Library/Python/3.8/lib/python/site-packages/spacy/util.py?line=652'>653</a>\u001b[0m     config\u001b[39m=\u001b[39;49mconfig,\n\u001b[1;32m    <a href='file:///Users/eli/Library/Python/3.8/lib/python/site-packages/spacy/util.py?line=653'>654</a>\u001b[0m )\n",
      "File \u001b[0;32m~/Library/Python/3.8/lib/python/site-packages/spacy/util.py:502\u001b[0m, in \u001b[0;36mload_model_from_path\u001b[0;34m(model_path, meta, vocab, disable, enable, exclude, config)\u001b[0m\n\u001b[1;32m    <a href='file:///Users/eli/Library/Python/3.8/lib/python/site-packages/spacy/util.py?line=499'>500</a>\u001b[0m config_path \u001b[39m=\u001b[39m model_path \u001b[39m/\u001b[39m \u001b[39m\"\u001b[39m\u001b[39mconfig.cfg\u001b[39m\u001b[39m\"\u001b[39m\n\u001b[1;32m    <a href='file:///Users/eli/Library/Python/3.8/lib/python/site-packages/spacy/util.py?line=500'>501</a>\u001b[0m overrides \u001b[39m=\u001b[39m dict_to_dot(config)\n\u001b[0;32m--> <a href='file:///Users/eli/Library/Python/3.8/lib/python/site-packages/spacy/util.py?line=501'>502</a>\u001b[0m config \u001b[39m=\u001b[39m load_config(config_path, overrides\u001b[39m=\u001b[39;49moverrides)\n\u001b[1;32m    <a href='file:///Users/eli/Library/Python/3.8/lib/python/site-packages/spacy/util.py?line=502'>503</a>\u001b[0m nlp \u001b[39m=\u001b[39m load_model_from_config(\n\u001b[1;32m    <a href='file:///Users/eli/Library/Python/3.8/lib/python/site-packages/spacy/util.py?line=503'>504</a>\u001b[0m     config,\n\u001b[1;32m    <a href='file:///Users/eli/Library/Python/3.8/lib/python/site-packages/spacy/util.py?line=504'>505</a>\u001b[0m     vocab\u001b[39m=\u001b[39mvocab,\n\u001b[0;32m   (...)\u001b[0m\n\u001b[1;32m    <a href='file:///Users/eli/Library/Python/3.8/lib/python/site-packages/spacy/util.py?line=508'>509</a>\u001b[0m     meta\u001b[39m=\u001b[39mmeta,\n\u001b[1;32m    <a href='file:///Users/eli/Library/Python/3.8/lib/python/site-packages/spacy/util.py?line=509'>510</a>\u001b[0m )\n\u001b[1;32m    <a href='file:///Users/eli/Library/Python/3.8/lib/python/site-packages/spacy/util.py?line=510'>511</a>\u001b[0m \u001b[39mreturn\u001b[39;00m nlp\u001b[39m.\u001b[39mfrom_disk(model_path, exclude\u001b[39m=\u001b[39mexclude, overrides\u001b[39m=\u001b[39moverrides)\n",
      "File \u001b[0;32m~/Library/Python/3.8/lib/python/site-packages/spacy/util.py:678\u001b[0m, in \u001b[0;36mload_config\u001b[0;34m(path, overrides, interpolate)\u001b[0m\n\u001b[1;32m    <a href='file:///Users/eli/Library/Python/3.8/lib/python/site-packages/spacy/util.py?line=675'>676</a>\u001b[0m \u001b[39melse\u001b[39;00m:\n\u001b[1;32m    <a href='file:///Users/eli/Library/Python/3.8/lib/python/site-packages/spacy/util.py?line=676'>677</a>\u001b[0m     \u001b[39mif\u001b[39;00m \u001b[39mnot\u001b[39;00m config_path \u001b[39mor\u001b[39;00m \u001b[39mnot\u001b[39;00m config_path\u001b[39m.\u001b[39mis_file():\n\u001b[0;32m--> <a href='file:///Users/eli/Library/Python/3.8/lib/python/site-packages/spacy/util.py?line=677'>678</a>\u001b[0m         \u001b[39mraise\u001b[39;00m \u001b[39mIOError\u001b[39;00m(Errors\u001b[39m.\u001b[39mE053\u001b[39m.\u001b[39mformat(path\u001b[39m=\u001b[39mconfig_path, name\u001b[39m=\u001b[39m\u001b[39m\"\u001b[39m\u001b[39mconfig file\u001b[39m\u001b[39m\"\u001b[39m))\n\u001b[1;32m    <a href='file:///Users/eli/Library/Python/3.8/lib/python/site-packages/spacy/util.py?line=678'>679</a>\u001b[0m     \u001b[39mreturn\u001b[39;00m config\u001b[39m.\u001b[39mfrom_disk(\n\u001b[1;32m    <a href='file:///Users/eli/Library/Python/3.8/lib/python/site-packages/spacy/util.py?line=679'>680</a>\u001b[0m         config_path, overrides\u001b[39m=\u001b[39moverrides, interpolate\u001b[39m=\u001b[39minterpolate\n\u001b[1;32m    <a href='file:///Users/eli/Library/Python/3.8/lib/python/site-packages/spacy/util.py?line=680'>681</a>\u001b[0m     )\n",
      "\u001b[0;31mOSError\u001b[0m: [E053] Could not read config file from /Users/eli/Library/Python/3.8/lib/python/site-packages/en_core_web_sm/en_core_web_sm-2.2.0/config.cfg"
     ]
    }
   ],
   "source": [
    "import spacy\n",
    "spacy.load(\"en_core_web_sm\")"
   ]
  },
  {
   "cell_type": "code",
   "execution_count": 18,
   "metadata": {},
   "outputs": [
    {
     "name": "stderr",
     "output_type": "stream",
     "text": [
      "/Users/eli/Library/Python/3.8/lib/python/site-packages/spacy/util.py:873: UserWarning: [W094] Model 'en_core_web_sm' (2.2.0) specifies an under-constrained spaCy version requirement: >=2.2.0. This can lead to compatibility problems with older versions, or as new spaCy versions are released, because the model may say it's compatible when it's not. Consider changing the \"spacy_version\" in your meta.json to a version range, with a lower and upper pin. For example: >=3.4.0,<3.5.0\n",
      "  warnings.warn(warn_msg)\n"
     ]
    },
    {
     "ename": "OSError",
     "evalue": "[E053] Could not read config file from /Users/eli/Library/Python/3.8/lib/python/site-packages/en_core_web_sm/en_core_web_sm-2.2.0/config.cfg",
     "output_type": "error",
     "traceback": [
      "\u001b[0;31m---------------------------------------------------------------------------\u001b[0m",
      "\u001b[0;31mOSError\u001b[0m                                   Traceback (most recent call last)",
      "\u001b[1;32m/Users/eli/github/soundcloud/test_search.ipynb Cell 2'\u001b[0m in \u001b[0;36m<cell line: 2>\u001b[0;34m()\u001b[0m\n\u001b[1;32m      <a href='vscode-notebook-cell:/Users/eli/github/soundcloud/test_search.ipynb#ch0000022?line=0'>1</a>\u001b[0m \u001b[39mimport\u001b[39;00m \u001b[39men_core_web_sm\u001b[39;00m\n\u001b[0;32m----> <a href='vscode-notebook-cell:/Users/eli/github/soundcloud/test_search.ipynb#ch0000022?line=1'>2</a>\u001b[0m nlp \u001b[39m=\u001b[39m en_core_web_sm\u001b[39m.\u001b[39;49mload()\n",
      "File \u001b[0;32m~/Library/Python/3.8/lib/python/site-packages/en_core_web_sm/__init__.py:12\u001b[0m, in \u001b[0;36mload\u001b[0;34m(**overrides)\u001b[0m\n\u001b[1;32m     <a href='file:///Users/eli/Library/Python/3.8/lib/python/site-packages/en_core_web_sm/__init__.py?line=10'>11</a>\u001b[0m \u001b[39mdef\u001b[39;00m \u001b[39mload\u001b[39m(\u001b[39m*\u001b[39m\u001b[39m*\u001b[39moverrides):\n\u001b[0;32m---> <a href='file:///Users/eli/Library/Python/3.8/lib/python/site-packages/en_core_web_sm/__init__.py?line=11'>12</a>\u001b[0m     \u001b[39mreturn\u001b[39;00m load_model_from_init_py(\u001b[39m__file__\u001b[39;49m, \u001b[39m*\u001b[39;49m\u001b[39m*\u001b[39;49moverrides)\n",
      "File \u001b[0;32m~/Library/Python/3.8/lib/python/site-packages/spacy/util.py:646\u001b[0m, in \u001b[0;36mload_model_from_init_py\u001b[0;34m(init_file, vocab, disable, enable, exclude, config)\u001b[0m\n\u001b[1;32m    <a href='file:///Users/eli/Library/Python/3.8/lib/python/site-packages/spacy/util.py?line=643'>644</a>\u001b[0m \u001b[39mif\u001b[39;00m \u001b[39mnot\u001b[39;00m model_path\u001b[39m.\u001b[39mexists():\n\u001b[1;32m    <a href='file:///Users/eli/Library/Python/3.8/lib/python/site-packages/spacy/util.py?line=644'>645</a>\u001b[0m     \u001b[39mraise\u001b[39;00m \u001b[39mIOError\u001b[39;00m(Errors\u001b[39m.\u001b[39mE052\u001b[39m.\u001b[39mformat(path\u001b[39m=\u001b[39mdata_path))\n\u001b[0;32m--> <a href='file:///Users/eli/Library/Python/3.8/lib/python/site-packages/spacy/util.py?line=645'>646</a>\u001b[0m \u001b[39mreturn\u001b[39;00m load_model_from_path(\n\u001b[1;32m    <a href='file:///Users/eli/Library/Python/3.8/lib/python/site-packages/spacy/util.py?line=646'>647</a>\u001b[0m     data_path,\n\u001b[1;32m    <a href='file:///Users/eli/Library/Python/3.8/lib/python/site-packages/spacy/util.py?line=647'>648</a>\u001b[0m     vocab\u001b[39m=\u001b[39;49mvocab,\n\u001b[1;32m    <a href='file:///Users/eli/Library/Python/3.8/lib/python/site-packages/spacy/util.py?line=648'>649</a>\u001b[0m     meta\u001b[39m=\u001b[39;49mmeta,\n\u001b[1;32m    <a href='file:///Users/eli/Library/Python/3.8/lib/python/site-packages/spacy/util.py?line=649'>650</a>\u001b[0m     disable\u001b[39m=\u001b[39;49mdisable,\n\u001b[1;32m    <a href='file:///Users/eli/Library/Python/3.8/lib/python/site-packages/spacy/util.py?line=650'>651</a>\u001b[0m     enable\u001b[39m=\u001b[39;49menable,\n\u001b[1;32m    <a href='file:///Users/eli/Library/Python/3.8/lib/python/site-packages/spacy/util.py?line=651'>652</a>\u001b[0m     exclude\u001b[39m=\u001b[39;49mexclude,\n\u001b[1;32m    <a href='file:///Users/eli/Library/Python/3.8/lib/python/site-packages/spacy/util.py?line=652'>653</a>\u001b[0m     config\u001b[39m=\u001b[39;49mconfig,\n\u001b[1;32m    <a href='file:///Users/eli/Library/Python/3.8/lib/python/site-packages/spacy/util.py?line=653'>654</a>\u001b[0m )\n",
      "File \u001b[0;32m~/Library/Python/3.8/lib/python/site-packages/spacy/util.py:502\u001b[0m, in \u001b[0;36mload_model_from_path\u001b[0;34m(model_path, meta, vocab, disable, enable, exclude, config)\u001b[0m\n\u001b[1;32m    <a href='file:///Users/eli/Library/Python/3.8/lib/python/site-packages/spacy/util.py?line=499'>500</a>\u001b[0m config_path \u001b[39m=\u001b[39m model_path \u001b[39m/\u001b[39m \u001b[39m\"\u001b[39m\u001b[39mconfig.cfg\u001b[39m\u001b[39m\"\u001b[39m\n\u001b[1;32m    <a href='file:///Users/eli/Library/Python/3.8/lib/python/site-packages/spacy/util.py?line=500'>501</a>\u001b[0m overrides \u001b[39m=\u001b[39m dict_to_dot(config)\n\u001b[0;32m--> <a href='file:///Users/eli/Library/Python/3.8/lib/python/site-packages/spacy/util.py?line=501'>502</a>\u001b[0m config \u001b[39m=\u001b[39m load_config(config_path, overrides\u001b[39m=\u001b[39;49moverrides)\n\u001b[1;32m    <a href='file:///Users/eli/Library/Python/3.8/lib/python/site-packages/spacy/util.py?line=502'>503</a>\u001b[0m nlp \u001b[39m=\u001b[39m load_model_from_config(\n\u001b[1;32m    <a href='file:///Users/eli/Library/Python/3.8/lib/python/site-packages/spacy/util.py?line=503'>504</a>\u001b[0m     config,\n\u001b[1;32m    <a href='file:///Users/eli/Library/Python/3.8/lib/python/site-packages/spacy/util.py?line=504'>505</a>\u001b[0m     vocab\u001b[39m=\u001b[39mvocab,\n\u001b[0;32m   (...)\u001b[0m\n\u001b[1;32m    <a href='file:///Users/eli/Library/Python/3.8/lib/python/site-packages/spacy/util.py?line=508'>509</a>\u001b[0m     meta\u001b[39m=\u001b[39mmeta,\n\u001b[1;32m    <a href='file:///Users/eli/Library/Python/3.8/lib/python/site-packages/spacy/util.py?line=509'>510</a>\u001b[0m )\n\u001b[1;32m    <a href='file:///Users/eli/Library/Python/3.8/lib/python/site-packages/spacy/util.py?line=510'>511</a>\u001b[0m \u001b[39mreturn\u001b[39;00m nlp\u001b[39m.\u001b[39mfrom_disk(model_path, exclude\u001b[39m=\u001b[39mexclude, overrides\u001b[39m=\u001b[39moverrides)\n",
      "File \u001b[0;32m~/Library/Python/3.8/lib/python/site-packages/spacy/util.py:678\u001b[0m, in \u001b[0;36mload_config\u001b[0;34m(path, overrides, interpolate)\u001b[0m\n\u001b[1;32m    <a href='file:///Users/eli/Library/Python/3.8/lib/python/site-packages/spacy/util.py?line=675'>676</a>\u001b[0m \u001b[39melse\u001b[39;00m:\n\u001b[1;32m    <a href='file:///Users/eli/Library/Python/3.8/lib/python/site-packages/spacy/util.py?line=676'>677</a>\u001b[0m     \u001b[39mif\u001b[39;00m \u001b[39mnot\u001b[39;00m config_path \u001b[39mor\u001b[39;00m \u001b[39mnot\u001b[39;00m config_path\u001b[39m.\u001b[39mis_file():\n\u001b[0;32m--> <a href='file:///Users/eli/Library/Python/3.8/lib/python/site-packages/spacy/util.py?line=677'>678</a>\u001b[0m         \u001b[39mraise\u001b[39;00m \u001b[39mIOError\u001b[39;00m(Errors\u001b[39m.\u001b[39mE053\u001b[39m.\u001b[39mformat(path\u001b[39m=\u001b[39mconfig_path, name\u001b[39m=\u001b[39m\u001b[39m\"\u001b[39m\u001b[39mconfig file\u001b[39m\u001b[39m\"\u001b[39m))\n\u001b[1;32m    <a href='file:///Users/eli/Library/Python/3.8/lib/python/site-packages/spacy/util.py?line=678'>679</a>\u001b[0m     \u001b[39mreturn\u001b[39;00m config\u001b[39m.\u001b[39mfrom_disk(\n\u001b[1;32m    <a href='file:///Users/eli/Library/Python/3.8/lib/python/site-packages/spacy/util.py?line=679'>680</a>\u001b[0m         config_path, overrides\u001b[39m=\u001b[39moverrides, interpolate\u001b[39m=\u001b[39minterpolate\n\u001b[1;32m    <a href='file:///Users/eli/Library/Python/3.8/lib/python/site-packages/spacy/util.py?line=680'>681</a>\u001b[0m     )\n",
      "\u001b[0;31mOSError\u001b[0m: [E053] Could not read config file from /Users/eli/Library/Python/3.8/lib/python/site-packages/en_core_web_sm/en_core_web_sm-2.2.0/config.cfg"
     ]
    }
   ],
   "source": [
    "import en_core_web_sm\n",
    "nlp = en_core_web_sm.load()"
   ]
  },
  {
   "cell_type": "code",
   "execution_count": 15,
   "metadata": {},
   "outputs": [
    {
     "ename": "OSError",
     "evalue": "[E050] Can't find model 'en_core_web_sm'. It doesn't seem to be a Python package or a valid path to a data directory.",
     "output_type": "error",
     "traceback": [
      "\u001b[0;31m---------------------------------------------------------------------------\u001b[0m",
      "\u001b[0;31mOSError\u001b[0m                                   Traceback (most recent call last)",
      "\u001b[1;32m/Users/eli/github/soundcloud/test_search.ipynb Cell 2'\u001b[0m in \u001b[0;36m<cell line: 1>\u001b[0;34m()\u001b[0m\n\u001b[0;32m----> <a href='vscode-notebook-cell:/Users/eli/github/soundcloud/test_search.ipynb#ch0000019?line=0'>1</a>\u001b[0m sp \u001b[39m=\u001b[39m spacy\u001b[39m.\u001b[39;49mload(\u001b[39m'\u001b[39;49m\u001b[39men_core_web_sm\u001b[39;49m\u001b[39m'\u001b[39;49m)\n\u001b[1;32m      <a href='vscode-notebook-cell:/Users/eli/github/soundcloud/test_search.ipynb#ch0000019?line=1'>2</a>\u001b[0m sen \u001b[39m=\u001b[39m sp(\u001b[39mu\u001b[39m\u001b[39m\"\u001b[39m\u001b[39mI like to play football. I hated it in my childhood though\u001b[39m\u001b[39m\"\u001b[39m)\n",
      "File \u001b[0;32m~/Library/Python/3.8/lib/python/site-packages/spacy/__init__.py:54\u001b[0m, in \u001b[0;36mload\u001b[0;34m(name, vocab, disable, enable, exclude, config)\u001b[0m\n\u001b[1;32m     <a href='file:///Users/eli/Library/Python/3.8/lib/python/site-packages/spacy/__init__.py?line=29'>30</a>\u001b[0m \u001b[39mdef\u001b[39;00m \u001b[39mload\u001b[39m(\n\u001b[1;32m     <a href='file:///Users/eli/Library/Python/3.8/lib/python/site-packages/spacy/__init__.py?line=30'>31</a>\u001b[0m     name: Union[\u001b[39mstr\u001b[39m, Path],\n\u001b[1;32m     <a href='file:///Users/eli/Library/Python/3.8/lib/python/site-packages/spacy/__init__.py?line=31'>32</a>\u001b[0m     \u001b[39m*\u001b[39m,\n\u001b[0;32m   (...)\u001b[0m\n\u001b[1;32m     <a href='file:///Users/eli/Library/Python/3.8/lib/python/site-packages/spacy/__init__.py?line=36'>37</a>\u001b[0m     config: Union[Dict[\u001b[39mstr\u001b[39m, Any], Config] \u001b[39m=\u001b[39m util\u001b[39m.\u001b[39mSimpleFrozenDict(),\n\u001b[1;32m     <a href='file:///Users/eli/Library/Python/3.8/lib/python/site-packages/spacy/__init__.py?line=37'>38</a>\u001b[0m ) \u001b[39m-\u001b[39m\u001b[39m>\u001b[39m Language:\n\u001b[1;32m     <a href='file:///Users/eli/Library/Python/3.8/lib/python/site-packages/spacy/__init__.py?line=38'>39</a>\u001b[0m     \u001b[39m\"\"\"Load a spaCy model from an installed package or a local path.\u001b[39;00m\n\u001b[1;32m     <a href='file:///Users/eli/Library/Python/3.8/lib/python/site-packages/spacy/__init__.py?line=39'>40</a>\u001b[0m \n\u001b[1;32m     <a href='file:///Users/eli/Library/Python/3.8/lib/python/site-packages/spacy/__init__.py?line=40'>41</a>\u001b[0m \u001b[39m    name (str): Package name or model path.\u001b[39;00m\n\u001b[0;32m   (...)\u001b[0m\n\u001b[1;32m     <a href='file:///Users/eli/Library/Python/3.8/lib/python/site-packages/spacy/__init__.py?line=51'>52</a>\u001b[0m \u001b[39m    RETURNS (Language): The loaded nlp object.\u001b[39;00m\n\u001b[1;32m     <a href='file:///Users/eli/Library/Python/3.8/lib/python/site-packages/spacy/__init__.py?line=52'>53</a>\u001b[0m \u001b[39m    \"\"\"\u001b[39;00m\n\u001b[0;32m---> <a href='file:///Users/eli/Library/Python/3.8/lib/python/site-packages/spacy/__init__.py?line=53'>54</a>\u001b[0m     \u001b[39mreturn\u001b[39;00m util\u001b[39m.\u001b[39;49mload_model(\n\u001b[1;32m     <a href='file:///Users/eli/Library/Python/3.8/lib/python/site-packages/spacy/__init__.py?line=54'>55</a>\u001b[0m         name,\n\u001b[1;32m     <a href='file:///Users/eli/Library/Python/3.8/lib/python/site-packages/spacy/__init__.py?line=55'>56</a>\u001b[0m         vocab\u001b[39m=\u001b[39;49mvocab,\n\u001b[1;32m     <a href='file:///Users/eli/Library/Python/3.8/lib/python/site-packages/spacy/__init__.py?line=56'>57</a>\u001b[0m         disable\u001b[39m=\u001b[39;49mdisable,\n\u001b[1;32m     <a href='file:///Users/eli/Library/Python/3.8/lib/python/site-packages/spacy/__init__.py?line=57'>58</a>\u001b[0m         enable\u001b[39m=\u001b[39;49menable,\n\u001b[1;32m     <a href='file:///Users/eli/Library/Python/3.8/lib/python/site-packages/spacy/__init__.py?line=58'>59</a>\u001b[0m         exclude\u001b[39m=\u001b[39;49mexclude,\n\u001b[1;32m     <a href='file:///Users/eli/Library/Python/3.8/lib/python/site-packages/spacy/__init__.py?line=59'>60</a>\u001b[0m         config\u001b[39m=\u001b[39;49mconfig,\n\u001b[1;32m     <a href='file:///Users/eli/Library/Python/3.8/lib/python/site-packages/spacy/__init__.py?line=60'>61</a>\u001b[0m     )\n",
      "File \u001b[0;32m~/Library/Python/3.8/lib/python/site-packages/spacy/util.py:436\u001b[0m, in \u001b[0;36mload_model\u001b[0;34m(name, vocab, disable, enable, exclude, config)\u001b[0m\n\u001b[1;32m    <a href='file:///Users/eli/Library/Python/3.8/lib/python/site-packages/spacy/util.py?line=433'>434</a>\u001b[0m \u001b[39mif\u001b[39;00m name \u001b[39min\u001b[39;00m OLD_MODEL_SHORTCUTS:\n\u001b[1;32m    <a href='file:///Users/eli/Library/Python/3.8/lib/python/site-packages/spacy/util.py?line=434'>435</a>\u001b[0m     \u001b[39mraise\u001b[39;00m \u001b[39mIOError\u001b[39;00m(Errors\u001b[39m.\u001b[39mE941\u001b[39m.\u001b[39mformat(name\u001b[39m=\u001b[39mname, full\u001b[39m=\u001b[39mOLD_MODEL_SHORTCUTS[name]))  \u001b[39m# type: ignore[index]\u001b[39;00m\n\u001b[0;32m--> <a href='file:///Users/eli/Library/Python/3.8/lib/python/site-packages/spacy/util.py?line=435'>436</a>\u001b[0m \u001b[39mraise\u001b[39;00m \u001b[39mIOError\u001b[39;00m(Errors\u001b[39m.\u001b[39mE050\u001b[39m.\u001b[39mformat(name\u001b[39m=\u001b[39mname))\n",
      "\u001b[0;31mOSError\u001b[0m: [E050] Can't find model 'en_core_web_sm'. It doesn't seem to be a Python package or a valid path to a data directory."
     ]
    }
   ],
   "source": [
    "sp = spacy.load('en_core_web_sm')\n",
    "sen = sp(u\"I like to play football. I hated it in my childhood though\")\n"
   ]
  },
  {
   "cell_type": "code",
   "execution_count": null,
   "metadata": {},
   "outputs": [],
   "source": [
    "61rELAKbEKXdidjxXviWd0"
   ]
  }
 ],
 "metadata": {
  "interpreter": {
   "hash": "31f2aee4e71d21fbe5cf8b01ff0e069b9275f58929596ceb00d14d90e3e16cd6"
  },
  "kernelspec": {
   "display_name": "Python 3.8.9 64-bit",
   "language": "python",
   "name": "python3"
  },
  "language_info": {
   "codemirror_mode": {
    "name": "ipython",
    "version": 3
   },
   "file_extension": ".py",
   "mimetype": "text/x-python",
   "name": "python",
   "nbconvert_exporter": "python",
   "pygments_lexer": "ipython3",
   "version": "3.8.9"
  },
  "orig_nbformat": 4
 },
 "nbformat": 4,
 "nbformat_minor": 2
}
