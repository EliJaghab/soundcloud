{
 "cells": [
  {
   "cell_type": "code",
   "execution_count": 1,
   "metadata": {},
   "outputs": [],
   "source": [
    "import json\n",
    "from soundcloud import SoundCloud"
   ]
  },
  {
   "cell_type": "code",
   "execution_count": 2,
   "metadata": {},
   "outputs": [],
   "source": [
    "sc = SoundCloud(\"ZA68dFpqtNM36uKAmylwTlo5n0KjJ140\", \"2-293488-62408522-LPj8q4Jqxfkhq3A\")\n",
    "assert sc.is_client_id_valid()\n",
    "assert sc.is_auth_token_valid()\n",
    "me = sc.get_user_by_username(\"elijaghab\")\n",
    "assert me.permalink == \"elijaghab\""
   ]
  },
  {
   "cell_type": "code",
   "execution_count": 3,
   "metadata": {},
   "outputs": [],
   "source": [
    "first_result = next(sc.search_users(\"Eli Jaghab\"))\n",
    "my_user_id = first_result.id\n",
    "object = sc.get_user_likes(my_user_id)\n",
    "likes = [x for x in object]"
   ]
  },
  {
   "cell_type": "code",
   "execution_count": 5,
   "metadata": {},
   "outputs": [],
   "source": [
    "likes_attributes = []\n",
    "for like in likes:\n",
    "    like_entry = {}\n",
    "    try:\n",
    "        like_entry['date_liked'] = like.created_at\n",
    "        like_entry['comment_count'] = like.track.comment_count\n",
    "        like_entry['date_created'] = like.track.created_at\n",
    "        like_entry['download_count'] = like.track.download_count\n",
    "        like_entry['raw_duration'] = like.track.duration\n",
    "        like_entry['genre'] = like.track.genre\n",
    "        like_entry['raw_full_duration'] = like.track.full_duration\n",
    "        like_entry['id'] = like.track.id\n",
    "        like_entry['kind'] = like.track.kind \n",
    "        like_entry['label_name'] = like.track.label_name\n",
    "        like_entry['last_modified'] = like.track.last_modified\n",
    "        like_entry['likes_count'] = like.track.likes_count\n",
    "        like_entry['playback_count'] = like.track.playback_count\n",
    "        like_entry['release_date'] = like.track.release_date\n",
    "        like_entry['reposts_count'] = like.track.reposts_count\n",
    "        like_entry['station_permalink'] = like.track.station_permalink\n",
    "        like_entry['title'] = like.track.title\n",
    "        like_entry['artist'] = like.track.user.username\n",
    "        like_entry['artist_followers'] = like.track.user.followers_count\n",
    "        like_entry['city'] = like.track.user.city\n",
    "        like_entry['country_code'] = like.track.user.country_code\n",
    "    except AttributeError:\n",
    "        continue\n",
    "    likes_attributes.append(like_entry)"
   ]
  },
  {
   "cell_type": "code",
   "execution_count": 1,
   "metadata": {},
   "outputs": [],
   "source": [
    "import pickle\n",
    "\n",
    "with open('likes_attributes.pkl', 'rb') as f:\n",
    "    likes_attributes = pickle.load(f)"
   ]
  },
  {
   "cell_type": "code",
   "execution_count": 2,
   "metadata": {},
   "outputs": [],
   "source": [
    "from Spotify import Spotify\n",
    "sp = Spotify()"
   ]
  },
  {
   "cell_type": "code",
   "execution_count": 3,
   "metadata": {},
   "outputs": [
    {
     "name": "stdout",
     "output_type": "stream",
     "text": [
      "{'tracks': {'href': 'https://api.spotify.com/v1/search?query=artist%3A%E2%9A%A1%EF%B8%8FDom+Livez+%E2%9A%A1%EF%B8%8F+track%3AMADONNA+-+FROZEN+%28DOM+LIVEZ+GYM+BOOTLEG%29&type=track&offset=0&limit=10',\n",
      "            'items': [],\n",
      "            'limit': 10,\n",
      "            'next': None,\n",
      "            'offset': 0,\n",
      "            'previous': None,\n",
      "            'total': 0}}\n"
     ]
    },
    {
     "ename": "AttributeError",
     "evalue": "'NoneType' object has no attribute 'split'",
     "output_type": "error",
     "traceback": [
      "\u001b[0;31m---------------------------------------------------------------------------\u001b[0m",
      "\u001b[0;31mAttributeError\u001b[0m                            Traceback (most recent call last)",
      "\u001b[1;32m/Users/eli/github/soundcloud/get_liked_songs.ipynb Cell 7'\u001b[0m in \u001b[0;36m<cell line: 2>\u001b[0;34m()\u001b[0m\n\u001b[1;32m      <a href='vscode-notebook-cell:/Users/eli/github/soundcloud/get_liked_songs.ipynb#ch0000006?line=1'>2</a>\u001b[0m \u001b[39mfor\u001b[39;00m like \u001b[39min\u001b[39;00m likes_attributes:\n\u001b[1;32m      <a href='vscode-notebook-cell:/Users/eli/github/soundcloud/get_liked_songs.ipynb#ch0000006?line=2'>3</a>\u001b[0m     count \u001b[39m+\u001b[39m\u001b[39m=\u001b[39m \u001b[39m1\u001b[39m\n\u001b[0;32m----> <a href='vscode-notebook-cell:/Users/eli/github/soundcloud/get_liked_songs.ipynb#ch0000006?line=3'>4</a>\u001b[0m     spotify_features \u001b[39m=\u001b[39m sp\u001b[39m.\u001b[39;49mget_features(like[\u001b[39m'\u001b[39;49m\u001b[39mtitle\u001b[39;49m\u001b[39m'\u001b[39;49m], like[\u001b[39m'\u001b[39;49m\u001b[39martist\u001b[39;49m\u001b[39m'\u001b[39;49m])\n\u001b[1;32m      <a href='vscode-notebook-cell:/Users/eli/github/soundcloud/get_liked_songs.ipynb#ch0000006?line=4'>5</a>\u001b[0m     like[\u001b[39m'\u001b[39m\u001b[39mspotify_track_id\u001b[39m\u001b[39m'\u001b[39m] \u001b[39m=\u001b[39m spotify_features[\u001b[39m'\u001b[39m\u001b[39mid\u001b[39m\u001b[39m'\u001b[39m]\n\u001b[1;32m      <a href='vscode-notebook-cell:/Users/eli/github/soundcloud/get_liked_songs.ipynb#ch0000006?line=5'>6</a>\u001b[0m     like[\u001b[39m'\u001b[39m\u001b[39macousticness\u001b[39m\u001b[39m'\u001b[39m] \u001b[39m=\u001b[39m spotify_features[\u001b[39m'\u001b[39m\u001b[39macousticness\u001b[39m\u001b[39m'\u001b[39m]\n",
      "File \u001b[0;32m~/github/soundcloud/Spotify.py:33\u001b[0m, in \u001b[0;36mSpotify.get_features\u001b[0;34m(self, track, artist)\u001b[0m\n\u001b[1;32m     <a href='file:///Users/eli/github/soundcloud/Spotify.py?line=28'>29</a>\u001b[0m     features[\u001b[39m'\u001b[39m\u001b[39martist_name\u001b[39m\u001b[39m'\u001b[39m] \u001b[39m=\u001b[39m artist\n\u001b[1;32m     <a href='file:///Users/eli/github/soundcloud/Spotify.py?line=29'>30</a>\u001b[0m     \u001b[39mreturn\u001b[39;00m features\n\u001b[0;32m---> <a href='file:///Users/eli/github/soundcloud/Spotify.py?line=32'>33</a>\u001b[0m \u001b[39mreturn\u001b[39;00m _get_features(\u001b[39mself\u001b[39;49m)\n",
      "File \u001b[0;32m~/github/soundcloud/Spotify.py:27\u001b[0m, in \u001b[0;36mSpotify.get_features.<locals>._get_features\u001b[0;34m(self)\u001b[0m\n\u001b[1;32m     <a href='file:///Users/eli/github/soundcloud/Spotify.py?line=24'>25</a>\u001b[0m \u001b[39mdef\u001b[39;00m \u001b[39m_get_features\u001b[39m(\u001b[39mself\u001b[39m):\n\u001b[1;32m     <a href='file:///Users/eli/github/soundcloud/Spotify.py?line=25'>26</a>\u001b[0m     track, artist, track_id \u001b[39m=\u001b[39m _get_track_id(\u001b[39mself\u001b[39m)\n\u001b[0;32m---> <a href='file:///Users/eli/github/soundcloud/Spotify.py?line=26'>27</a>\u001b[0m     features \u001b[39m=\u001b[39m \u001b[39mself\u001b[39;49m\u001b[39m.\u001b[39;49mclient\u001b[39m.\u001b[39;49maudio_features(track_id)[\u001b[39m0\u001b[39m]\n\u001b[1;32m     <a href='file:///Users/eli/github/soundcloud/Spotify.py?line=27'>28</a>\u001b[0m     features[\u001b[39m'\u001b[39m\u001b[39mtrack_name\u001b[39m\u001b[39m'\u001b[39m] \u001b[39m=\u001b[39m track\n\u001b[1;32m     <a href='file:///Users/eli/github/soundcloud/Spotify.py?line=28'>29</a>\u001b[0m     features[\u001b[39m'\u001b[39m\u001b[39martist_name\u001b[39m\u001b[39m'\u001b[39m] \u001b[39m=\u001b[39m artist\n",
      "File \u001b[0;32m~/Library/Python/3.8/lib/python/site-packages/spotipy/client.py:1682\u001b[0m, in \u001b[0;36mSpotify.audio_features\u001b[0;34m(self, tracks)\u001b[0m\n\u001b[1;32m   <a href='file:///Users/eli/Library/Python/3.8/lib/python/site-packages/spotipy/client.py?line=1679'>1680</a>\u001b[0m     results \u001b[39m=\u001b[39m \u001b[39mself\u001b[39m\u001b[39m.\u001b[39m_get(\u001b[39m\"\u001b[39m\u001b[39maudio-features/?ids=\u001b[39m\u001b[39m\"\u001b[39m \u001b[39m+\u001b[39m trackid)\n\u001b[1;32m   <a href='file:///Users/eli/Library/Python/3.8/lib/python/site-packages/spotipy/client.py?line=1680'>1681</a>\u001b[0m \u001b[39melse\u001b[39;00m:\n\u001b[0;32m-> <a href='file:///Users/eli/Library/Python/3.8/lib/python/site-packages/spotipy/client.py?line=1681'>1682</a>\u001b[0m     tlist \u001b[39m=\u001b[39m [\u001b[39mself\u001b[39m\u001b[39m.\u001b[39m_get_id(\u001b[39m\"\u001b[39m\u001b[39mtrack\u001b[39m\u001b[39m\"\u001b[39m, t) \u001b[39mfor\u001b[39;00m t \u001b[39min\u001b[39;00m tracks]\n\u001b[1;32m   <a href='file:///Users/eli/Library/Python/3.8/lib/python/site-packages/spotipy/client.py?line=1682'>1683</a>\u001b[0m     results \u001b[39m=\u001b[39m \u001b[39mself\u001b[39m\u001b[39m.\u001b[39m_get(\u001b[39m\"\u001b[39m\u001b[39maudio-features/?ids=\u001b[39m\u001b[39m\"\u001b[39m \u001b[39m+\u001b[39m \u001b[39m\"\u001b[39m\u001b[39m,\u001b[39m\u001b[39m\"\u001b[39m\u001b[39m.\u001b[39mjoin(tlist))\n\u001b[1;32m   <a href='file:///Users/eli/Library/Python/3.8/lib/python/site-packages/spotipy/client.py?line=1683'>1684</a>\u001b[0m \u001b[39m# the response has changed, look for the new style first, and if\u001b[39;00m\n\u001b[1;32m   <a href='file:///Users/eli/Library/Python/3.8/lib/python/site-packages/spotipy/client.py?line=1684'>1685</a>\u001b[0m \u001b[39m# its not there, fallback on the old style\u001b[39;00m\n",
      "File \u001b[0;32m~/Library/Python/3.8/lib/python/site-packages/spotipy/client.py:1682\u001b[0m, in \u001b[0;36m<listcomp>\u001b[0;34m(.0)\u001b[0m\n\u001b[1;32m   <a href='file:///Users/eli/Library/Python/3.8/lib/python/site-packages/spotipy/client.py?line=1679'>1680</a>\u001b[0m     results \u001b[39m=\u001b[39m \u001b[39mself\u001b[39m\u001b[39m.\u001b[39m_get(\u001b[39m\"\u001b[39m\u001b[39maudio-features/?ids=\u001b[39m\u001b[39m\"\u001b[39m \u001b[39m+\u001b[39m trackid)\n\u001b[1;32m   <a href='file:///Users/eli/Library/Python/3.8/lib/python/site-packages/spotipy/client.py?line=1680'>1681</a>\u001b[0m \u001b[39melse\u001b[39;00m:\n\u001b[0;32m-> <a href='file:///Users/eli/Library/Python/3.8/lib/python/site-packages/spotipy/client.py?line=1681'>1682</a>\u001b[0m     tlist \u001b[39m=\u001b[39m [\u001b[39mself\u001b[39;49m\u001b[39m.\u001b[39;49m_get_id(\u001b[39m\"\u001b[39;49m\u001b[39mtrack\u001b[39;49m\u001b[39m\"\u001b[39;49m, t) \u001b[39mfor\u001b[39;00m t \u001b[39min\u001b[39;00m tracks]\n\u001b[1;32m   <a href='file:///Users/eli/Library/Python/3.8/lib/python/site-packages/spotipy/client.py?line=1682'>1683</a>\u001b[0m     results \u001b[39m=\u001b[39m \u001b[39mself\u001b[39m\u001b[39m.\u001b[39m_get(\u001b[39m\"\u001b[39m\u001b[39maudio-features/?ids=\u001b[39m\u001b[39m\"\u001b[39m \u001b[39m+\u001b[39m \u001b[39m\"\u001b[39m\u001b[39m,\u001b[39m\u001b[39m\"\u001b[39m\u001b[39m.\u001b[39mjoin(tlist))\n\u001b[1;32m   <a href='file:///Users/eli/Library/Python/3.8/lib/python/site-packages/spotipy/client.py?line=1683'>1684</a>\u001b[0m \u001b[39m# the response has changed, look for the new style first, and if\u001b[39;00m\n\u001b[1;32m   <a href='file:///Users/eli/Library/Python/3.8/lib/python/site-packages/spotipy/client.py?line=1684'>1685</a>\u001b[0m \u001b[39m# its not there, fallback on the old style\u001b[39;00m\n",
      "File \u001b[0;32m~/Library/Python/3.8/lib/python/site-packages/spotipy/client.py:1911\u001b[0m, in \u001b[0;36mSpotify._get_id\u001b[0;34m(self, type, id)\u001b[0m\n\u001b[1;32m   <a href='file:///Users/eli/Library/Python/3.8/lib/python/site-packages/spotipy/client.py?line=1909'>1910</a>\u001b[0m \u001b[39mdef\u001b[39;00m \u001b[39m_get_id\u001b[39m(\u001b[39mself\u001b[39m, \u001b[39mtype\u001b[39m, \u001b[39mid\u001b[39m):\n\u001b[0;32m-> <a href='file:///Users/eli/Library/Python/3.8/lib/python/site-packages/spotipy/client.py?line=1910'>1911</a>\u001b[0m     fields \u001b[39m=\u001b[39m \u001b[39mid\u001b[39;49m\u001b[39m.\u001b[39;49msplit(\u001b[39m\"\u001b[39m\u001b[39m:\u001b[39m\u001b[39m\"\u001b[39m)\n\u001b[1;32m   <a href='file:///Users/eli/Library/Python/3.8/lib/python/site-packages/spotipy/client.py?line=1911'>1912</a>\u001b[0m     \u001b[39mif\u001b[39;00m \u001b[39mlen\u001b[39m(fields) \u001b[39m>\u001b[39m\u001b[39m=\u001b[39m \u001b[39m3\u001b[39m:\n\u001b[1;32m   <a href='file:///Users/eli/Library/Python/3.8/lib/python/site-packages/spotipy/client.py?line=1912'>1913</a>\u001b[0m         \u001b[39mif\u001b[39;00m \u001b[39mtype\u001b[39m \u001b[39m!=\u001b[39m fields[\u001b[39m-\u001b[39m\u001b[39m2\u001b[39m]:\n",
      "\u001b[0;31mAttributeError\u001b[0m: 'NoneType' object has no attribute 'split'"
     ]
    }
   ],
   "source": [
    "\n",
    "count = 0\n",
    "for like in likes_attributes:\n",
    "    count += 1\n",
    "    spotify_features = sp.get_features(like['title'], like['artist'])\n",
    "    like['spotify_track_id'] = spotify_features['id']\n",
    "    like['acousticness'] = spotify_features['acousticness']\n",
    "    like['danceability'] = spotify_features['danceability']\n",
    "    like['energy'] = spotify_features['energy']\n",
    "    like['instrumentalness'] = spotify_features['instrumentalness']\n",
    "    like['key'] = spotify_features['key']\n",
    "    like['liveness'] = spotify_features['liveness']\n",
    "    like['loudness'] = spotify_features['loudness']\n",
    "    like['mode'] = spotify_features['mode']\n",
    "    like['tempo'] = spotify_features['tempo']\n",
    "    like['time_signature'] = spotify_features['time_signature']\n",
    "    like['valence'] = spotify_features['valence']\n",
    "    if count == 5:\n",
    "        break\n"
   ]
  },
  {
   "cell_type": "code",
   "execution_count": 8,
   "metadata": {},
   "outputs": [],
   "source": [
    "with open('liked_songs7_05_22.json', 'w') as fp:\n",
    "    json.dump(likes_attributes, fp, indent=4, sort_keys=True, default = str)"
   ]
  },
  {
   "cell_type": "code",
   "execution_count": null,
   "metadata": {},
   "outputs": [],
   "source": []
  }
 ],
 "metadata": {
  "interpreter": {
   "hash": "31f2aee4e71d21fbe5cf8b01ff0e069b9275f58929596ceb00d14d90e3e16cd6"
  },
  "kernelspec": {
   "display_name": "Python 3.8.9 64-bit",
   "language": "python",
   "name": "python3"
  },
  "language_info": {
   "codemirror_mode": {
    "name": "ipython",
    "version": 3
   },
   "file_extension": ".py",
   "mimetype": "text/x-python",
   "name": "python",
   "nbconvert_exporter": "python",
   "pygments_lexer": "ipython3",
   "version": "3.8.9"
  },
  "orig_nbformat": 4
 },
 "nbformat": 4,
 "nbformat_minor": 2
}
