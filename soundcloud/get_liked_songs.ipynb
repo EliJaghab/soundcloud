{
 "cells": [
  {
   "cell_type": "code",
   "execution_count": 1,
   "metadata": {},
   "outputs": [],
   "source": [
    "import json\n",
    "from soundcloud import SoundCloud"
   ]
  },
  {
   "cell_type": "code",
   "execution_count": 2,
   "metadata": {},
   "outputs": [],
   "source": [
    "sc = SoundCloud(\"ZA68dFpqtNM36uKAmylwTlo5n0KjJ140\", \"2-293488-62408522-LPj8q4Jqxfkhq3A\")\n",
    "assert sc.is_client_id_valid()\n",
    "assert sc.is_auth_token_valid()\n",
    "me = sc.get_user_by_username(\"elijaghab\")\n",
    "assert me.permalink == \"elijaghab\""
   ]
  },
  {
   "cell_type": "code",
   "execution_count": 3,
   "metadata": {},
   "outputs": [],
   "source": [
    "first_result = next(sc.search_users(\"Eli Jaghab\"))\n",
    "my_user_id = first_result.id\n",
    "object = sc.get_user_likes(my_user_id)\n",
    "likes = [x for x in object]"
   ]
  },
  {
   "cell_type": "code",
   "execution_count": 5,
   "metadata": {},
   "outputs": [],
   "source": [
    "likes_attributes = []\n",
    "for like in likes:\n",
    "    like_entry = {}\n",
    "    try:\n",
    "        like_entry['date_liked'] = like.created_at\n",
    "        like_entry['comment_count'] = like.track.comment_count\n",
    "        like_entry['date_created'] = like.track.created_at\n",
    "        like_entry['download_count'] = like.track.download_count\n",
    "        like_entry['raw_duration'] = like.track.duration\n",
    "        like_entry['genre'] = like.track.genre\n",
    "        like_entry['raw_full_duration'] = like.track.full_duration\n",
    "        like_entry['id'] = like.track.id\n",
    "        like_entry['kind'] = like.track.kind \n",
    "        like_entry['label_name'] = like.track.label_name\n",
    "        like_entry['last_modified'] = like.track.last_modified\n",
    "        like_entry['likes_count'] = like.track.likes_count\n",
    "        like_entry['playback_count'] = like.track.playback_count\n",
    "        like_entry['release_date'] = like.track.release_date\n",
    "        like_entry['reposts_count'] = like.track.reposts_count\n",
    "        like_entry['station_permalink'] = like.track.station_permalink\n",
    "        like_entry['title'] = like.track.title\n",
    "        like_entry['artist'] = like.track.user.username\n",
    "        like_entry['artist_followers'] = like.track.user.followers_count\n",
    "        like_entry['city'] = like.track.user.city\n",
    "        like_entry['country_code'] = like.track.user.country_code\n",
    "    except AttributeError:\n",
    "        continue\n",
    "    likes_attributes.append(like_entry)"
   ]
  },
  {
   "cell_type": "code",
   "execution_count": 5,
   "metadata": {},
   "outputs": [],
   "source": [
    "import pickle\n",
    "\n",
    "with open('likes_attributes.pkl', 'rb') as f:\n",
    "    likes_attributes = pickle.load(f)"
   ]
  },
  {
   "cell_type": "code",
   "execution_count": 6,
   "metadata": {},
   "outputs": [],
   "source": [
    "from utils.spotify import Spotify\n",
    "sp = Spotify()"
   ]
  },
  {
   "cell_type": "code",
   "execution_count": 8,
   "metadata": {},
   "outputs": [
    {
     "name": "stderr",
     "output_type": "stream",
     "text": [
      "HTTP Error for GET to https://api.spotify.com/v1/search with Params: {'q': 'artist:Ayush Jain track:Pandemonium Tribute Version - Mondays Feat Hanna Stone Dag Lundberg Acoustic Group[Mp3Converter.net]', 'limit': 10, 'offset': 0, 'type': 'track', 'market': None} returned 404 due to Not found.\n"
     ]
    },
    {
     "name": "stdout",
     "output_type": "stream",
     "text": [
      "http status: 404, code:-1 - https://api.spotify.com/v1/search?q=artist%3AAyush+Jain+track%3APandemonium+Tribute+Version+-+Mondays+Feat+Hanna+Stone+Dag+Lundberg+Acoustic+Group%5BMp3Converter.net%5D&limit=10&offset=0&type=track:\n",
      " Not found., reason: None\n"
     ]
    },
    {
     "name": "stderr",
     "output_type": "stream",
     "text": [
      "HTTP Error for GET to https://api.spotify.com/v1/search with Params: {'q': 'artist:Ayush Jain track:Pandemonium Tribute Version - Mondays Feat Hanna Stone Dag Lundberg Acoustic Group[Mp3Converter.net]', 'limit': 10, 'offset': 0, 'type': 'track', 'market': None} returned 404 due to Not found.\n"
     ]
    },
    {
     "name": "stdout",
     "output_type": "stream",
     "text": [
      "http status: 404, code:-1 - https://api.spotify.com/v1/search?q=artist%3AAyush+Jain+track%3APandemonium+Tribute+Version+-+Mondays+Feat+Hanna+Stone+Dag+Lundberg+Acoustic+Group%5BMp3Converter.net%5D&limit=10&offset=0&type=track:\n",
      " Not found., reason: None\n"
     ]
    },
    {
     "name": "stderr",
     "output_type": "stream",
     "text": [
      "HTTP Error for GET to https://api.spotify.com/v1/search with Params: {'q': 'artist:dimitrivegasandlikemike track:Dimitri Vegas & Like Mike ft Wolfpack & Katy B - Find Tomorrow ( Ocarina ) OUT SOON ON ITUNES', 'limit': 10, 'offset': 0, 'type': 'track', 'market': None} returned 404 due to Not found.\n",
      "HTTP Error for GET to https://api.spotify.com/v1/search with Params: {'q': 'artist:dimitrivegasandlikemike track:Dimitri Vegas & Like Mike ft Wolfpack & Katy B - Find Tomorrow ( Ocarina ) OUT SOON ON ITUNES', 'limit': 10, 'offset': 0, 'type': 'track', 'market': None} returned 404 due to Not found.\n"
     ]
    },
    {
     "name": "stdout",
     "output_type": "stream",
     "text": [
      "http status: 404, code:-1 - https://api.spotify.com/v1/search?q=artist%3Adimitrivegasandlikemike+track%3ADimitri+Vegas+%26+Like+Mike+ft+Wolfpack+%26+Katy+B+-+Find+Tomorrow+%28+Ocarina+%29+OUT+SOON+ON+ITUNES&limit=10&offset=0&type=track:\n",
      " Not found., reason: None\n",
      "http status: 404, code:-1 - https://api.spotify.com/v1/search?q=artist%3Adimitrivegasandlikemike+track%3ADimitri+Vegas+%26+Like+Mike+ft+Wolfpack+%26+Katy+B+-+Find+Tomorrow+%28+Ocarina+%29+OUT+SOON+ON+ITUNES&limit=10&offset=0&type=track:\n",
      " Not found., reason: None\n"
     ]
    },
    {
     "name": "stderr",
     "output_type": "stream",
     "text": [
      "HTTP Error for GET to https://api.spotify.com/v1/search with Params: {'q': 'artist:Anderex 🛸 track:Noisecontrollers - Gimme Love (Anderex Bootleg) *SUPPORT FROM NOISECONTROLLERS & ATMOZFEARS*', 'limit': 10, 'offset': 0, 'type': 'track', 'market': None} returned 404 due to Not found.\n",
      "HTTP Error for GET to https://api.spotify.com/v1/search with Params: {'q': 'artist:Anderex 🛸 track:Noisecontrollers - Gimme Love (Anderex Bootleg) *SUPPORT FROM NOISECONTROLLERS & ATMOZFEARS*', 'limit': 10, 'offset': 0, 'type': 'track', 'market': None} returned 404 due to Not found.\n"
     ]
    },
    {
     "name": "stdout",
     "output_type": "stream",
     "text": [
      "http status: 404, code:-1 - https://api.spotify.com/v1/search?q=artist%3AAnderex+%F0%9F%9B%B8+track%3ANoisecontrollers+-+Gimme+Love+%28Anderex+Bootleg%29+%2ASUPPORT+FROM+NOISECONTROLLERS+%26+ATMOZFEARS%2A&limit=10&offset=0&type=track:\n",
      " Not found., reason: None\n",
      "http status: 404, code:-1 - https://api.spotify.com/v1/search?q=artist%3AAnderex+%F0%9F%9B%B8+track%3ANoisecontrollers+-+Gimme+Love+%28Anderex+Bootleg%29+%2ASUPPORT+FROM+NOISECONTROLLERS+%26+ATMOZFEARS%2A&limit=10&offset=0&type=track:\n",
      " Not found., reason: None\n"
     ]
    },
    {
     "name": "stderr",
     "output_type": "stream",
     "text": [
      "HTTP Error for GET to https://api.spotify.com/v1/search with Params: {'q': 'artist:Javier penna track:Elton John - Dua Lipa - Cold Heart (PNAU Javier Penna Extended Remix)FREE24BIT48HZ MASTER FINAL', 'limit': 10, 'offset': 0, 'type': 'track', 'market': None} returned 404 due to Not found.\n",
      "HTTP Error for GET to https://api.spotify.com/v1/search with Params: {'q': 'artist:Javier penna track:Elton John - Dua Lipa - Cold Heart (PNAU Javier Penna Extended Remix)FREE24BIT48HZ MASTER FINAL', 'limit': 10, 'offset': 0, 'type': 'track', 'market': None} returned 404 due to Not found.\n"
     ]
    },
    {
     "name": "stdout",
     "output_type": "stream",
     "text": [
      "http status: 404, code:-1 - https://api.spotify.com/v1/search?q=artist%3AJavier+penna+track%3AElton+John+-+Dua+Lipa+-+Cold+Heart+%28PNAU+Javier+Penna+Extended+Remix%29FREE24BIT48HZ+MASTER+FINAL&limit=10&offset=0&type=track:\n",
      " Not found., reason: None\n",
      "http status: 404, code:-1 - https://api.spotify.com/v1/search?q=artist%3AJavier+penna+track%3AElton+John+-+Dua+Lipa+-+Cold+Heart+%28PNAU+Javier+Penna+Extended+Remix%29FREE24BIT48HZ+MASTER+FINAL&limit=10&offset=0&type=track:\n",
      " Not found., reason: None\n"
     ]
    },
    {
     "name": "stderr",
     "output_type": "stream",
     "text": [
      "HTTP Error for GET to https://api.spotify.com/v1/search with Params: {'q': 'artist:Dj Ahmed track:DVBBS_&_GATTÜSO_-_Leave_The_World_Behind_feat._Alida_(Visualizer)_[Ultra_Music](360p).m4a', 'limit': 10, 'offset': 0, 'type': 'track', 'market': None} returned 404 due to Not found.\n",
      "HTTP Error for GET to https://api.spotify.com/v1/search with Params: {'q': 'artist:Dj Ahmed track:DVBBS_&_GATTÜSO_-_Leave_The_World_Behind_feat._Alida_(Visualizer)_[Ultra_Music](360p).m4a', 'limit': 10, 'offset': 0, 'type': 'track', 'market': None} returned 404 due to Not found.\n"
     ]
    },
    {
     "name": "stdout",
     "output_type": "stream",
     "text": [
      "http status: 404, code:-1 - https://api.spotify.com/v1/search?q=artist%3ADj+Ahmed+track%3ADVBBS_%26_GATTU%CC%88SO_-_Leave_The_World_Behind_feat._Alida_%28Visualizer%29_%5BUltra_Music%5D%28360p%29.m4a&limit=10&offset=0&type=track:\n",
      " Not found., reason: None\n",
      "http status: 404, code:-1 - https://api.spotify.com/v1/search?q=artist%3ADj+Ahmed+track%3ADVBBS_%26_GATTU%CC%88SO_-_Leave_The_World_Behind_feat._Alida_%28Visualizer%29_%5BUltra_Music%5D%28360p%29.m4a&limit=10&offset=0&type=track:\n",
      " Not found., reason: None\n"
     ]
    },
    {
     "ename": "KeyboardInterrupt",
     "evalue": "",
     "output_type": "error",
     "traceback": [
      "\u001b[0;31m---------------------------------------------------------------------------\u001b[0m",
      "\u001b[0;31mKeyboardInterrupt\u001b[0m                         Traceback (most recent call last)",
      "\u001b[1;32m/Users/eli/github/soundcloud/get_liked_songs.ipynb Cell 7'\u001b[0m in \u001b[0;36m<cell line: 2>\u001b[0;34m()\u001b[0m\n\u001b[1;32m      <a href='vscode-notebook-cell:/Users/eli/github/soundcloud/get_liked_songs.ipynb#ch0000006?line=1'>2</a>\u001b[0m \u001b[39mfor\u001b[39;00m like \u001b[39min\u001b[39;00m likes_attributes:\n\u001b[1;32m      <a href='vscode-notebook-cell:/Users/eli/github/soundcloud/get_liked_songs.ipynb#ch0000006?line=2'>3</a>\u001b[0m     count \u001b[39m+\u001b[39m\u001b[39m=\u001b[39m \u001b[39m1\u001b[39m\n\u001b[0;32m----> <a href='vscode-notebook-cell:/Users/eli/github/soundcloud/get_liked_songs.ipynb#ch0000006?line=3'>4</a>\u001b[0m     spotify_features \u001b[39m=\u001b[39m sp\u001b[39m.\u001b[39;49mget_features(like[\u001b[39m'\u001b[39;49m\u001b[39mtitle\u001b[39;49m\u001b[39m'\u001b[39;49m], like[\u001b[39m'\u001b[39;49m\u001b[39martist\u001b[39;49m\u001b[39m'\u001b[39;49m])\n\u001b[1;32m      <a href='vscode-notebook-cell:/Users/eli/github/soundcloud/get_liked_songs.ipynb#ch0000006?line=4'>5</a>\u001b[0m     like[\u001b[39m'\u001b[39m\u001b[39mspotify_track_id\u001b[39m\u001b[39m'\u001b[39m] \u001b[39m=\u001b[39m spotify_features[\u001b[39m'\u001b[39m\u001b[39mid\u001b[39m\u001b[39m'\u001b[39m]\n\u001b[1;32m      <a href='vscode-notebook-cell:/Users/eli/github/soundcloud/get_liked_songs.ipynb#ch0000006?line=5'>6</a>\u001b[0m     like[\u001b[39m'\u001b[39m\u001b[39macousticness\u001b[39m\u001b[39m'\u001b[39m] \u001b[39m=\u001b[39m spotify_features[\u001b[39m'\u001b[39m\u001b[39macousticness\u001b[39m\u001b[39m'\u001b[39m]\n",
      "File \u001b[0;32m~/github/soundcloud/utils/spotify.py:82\u001b[0m, in \u001b[0;36mSpotify.get_features\u001b[0;34m(self, track, artist)\u001b[0m\n\u001b[1;32m     <a href='file:///Users/eli/github/soundcloud/utils/spotify.py?line=78'>79</a>\u001b[0m         features \u001b[39m=\u001b[39m \u001b[39mself\u001b[39m\u001b[39m.\u001b[39mnull_response\n\u001b[1;32m     <a href='file:///Users/eli/github/soundcloud/utils/spotify.py?line=79'>80</a>\u001b[0m     \u001b[39mreturn\u001b[39;00m features\n\u001b[0;32m---> <a href='file:///Users/eli/github/soundcloud/utils/spotify.py?line=81'>82</a>\u001b[0m \u001b[39mreturn\u001b[39;00m _get_features(\u001b[39mself\u001b[39;49m)\n",
      "File \u001b[0;32m~/github/soundcloud/utils/spotify.py:70\u001b[0m, in \u001b[0;36mSpotify.get_features.<locals>._get_features\u001b[0;34m(self)\u001b[0m\n\u001b[1;32m     <a href='file:///Users/eli/github/soundcloud/utils/spotify.py?line=68'>69</a>\u001b[0m \u001b[39mdef\u001b[39;00m \u001b[39m_get_features\u001b[39m(\u001b[39mself\u001b[39m):\n\u001b[0;32m---> <a href='file:///Users/eli/github/soundcloud/utils/spotify.py?line=69'>70</a>\u001b[0m     track, artist, track_id \u001b[39m=\u001b[39m _get_track_id()\n\u001b[1;32m     <a href='file:///Users/eli/github/soundcloud/utils/spotify.py?line=70'>71</a>\u001b[0m     \u001b[39mif\u001b[39;00m track_id:\n\u001b[1;32m     <a href='file:///Users/eli/github/soundcloud/utils/spotify.py?line=71'>72</a>\u001b[0m         features \u001b[39m=\u001b[39m \u001b[39mself\u001b[39m\u001b[39m.\u001b[39mclient\u001b[39m.\u001b[39maudio_features(track_id)[\u001b[39m0\u001b[39m]\n",
      "File \u001b[0;32m~/github/soundcloud/utils/spotify.py:55\u001b[0m, in \u001b[0;36mSpotify.get_features.<locals>._get_track_id\u001b[0;34m()\u001b[0m\n\u001b[1;32m     <a href='file:///Users/eli/github/soundcloud/utils/spotify.py?line=52'>53</a>\u001b[0m \u001b[39mtry\u001b[39;00m:\n\u001b[1;32m     <a href='file:///Users/eli/github/soundcloud/utils/spotify.py?line=53'>54</a>\u001b[0m     track_id_results \u001b[39m=\u001b[39m _is_valid_search()\n\u001b[0;32m---> <a href='file:///Users/eli/github/soundcloud/utils/spotify.py?line=54'>55</a>\u001b[0m     \u001b[39mif\u001b[39;00m _is_valid_search() \u001b[39mand\u001b[39;00m _is_valid_response(track_id_results):\n\u001b[1;32m     <a href='file:///Users/eli/github/soundcloud/utils/spotify.py?line=55'>56</a>\u001b[0m         first_result \u001b[39m=\u001b[39m track_id_results[\u001b[39m'\u001b[39m\u001b[39mtracks\u001b[39m\u001b[39m'\u001b[39m][\u001b[39m'\u001b[39m\u001b[39mitems\u001b[39m\u001b[39m'\u001b[39m][\u001b[39m0\u001b[39m]\n\u001b[1;32m     <a href='file:///Users/eli/github/soundcloud/utils/spotify.py?line=56'>57</a>\u001b[0m         track_name \u001b[39m=\u001b[39m first_result[\u001b[39m'\u001b[39m\u001b[39mname\u001b[39m\u001b[39m'\u001b[39m]\n",
      "File \u001b[0;32m~/github/soundcloud/utils/spotify.py:41\u001b[0m, in \u001b[0;36mSpotify.get_features.<locals>._is_valid_search\u001b[0;34m()\u001b[0m\n\u001b[1;32m     <a href='file:///Users/eli/github/soundcloud/utils/spotify.py?line=38'>39</a>\u001b[0m \u001b[39mdef\u001b[39;00m \u001b[39m_is_valid_search\u001b[39m():\n\u001b[1;32m     <a href='file:///Users/eli/github/soundcloud/utils/spotify.py?line=39'>40</a>\u001b[0m     \u001b[39mtry\u001b[39;00m:\n\u001b[0;32m---> <a href='file:///Users/eli/github/soundcloud/utils/spotify.py?line=40'>41</a>\u001b[0m         track_id_results \u001b[39m=\u001b[39m \u001b[39mself\u001b[39;49m\u001b[39m.\u001b[39;49mclient\u001b[39m.\u001b[39;49msearch(q\u001b[39m=\u001b[39;49m\u001b[39m'\u001b[39;49m\u001b[39martist:\u001b[39;49m\u001b[39m'\u001b[39;49m \u001b[39m+\u001b[39;49m artist \u001b[39m+\u001b[39;49m \u001b[39m'\u001b[39;49m\u001b[39m track:\u001b[39;49m\u001b[39m'\u001b[39;49m \u001b[39m+\u001b[39;49m track, \u001b[39mtype\u001b[39;49m\u001b[39m=\u001b[39;49m\u001b[39m'\u001b[39;49m\u001b[39mtrack\u001b[39;49m\u001b[39m'\u001b[39;49m)\n\u001b[1;32m     <a href='file:///Users/eli/github/soundcloud/utils/spotify.py?line=41'>42</a>\u001b[0m         \u001b[39mreturn\u001b[39;00m track_id_results\n\u001b[1;32m     <a href='file:///Users/eli/github/soundcloud/utils/spotify.py?line=42'>43</a>\u001b[0m     \u001b[39mexcept\u001b[39;00m (SpotifyException, HTTPError) \u001b[39mas\u001b[39;00m error:\n",
      "File \u001b[0;32m~/Library/Python/3.8/lib/python/site-packages/spotipy/client.py:553\u001b[0m, in \u001b[0;36mSpotify.search\u001b[0;34m(self, q, limit, offset, type, market)\u001b[0m\n\u001b[1;32m    <a href='file:///Users/eli/Library/Python/3.8/lib/python/site-packages/spotipy/client.py?line=537'>538</a>\u001b[0m \u001b[39mdef\u001b[39;00m \u001b[39msearch\u001b[39m(\u001b[39mself\u001b[39m, q, limit\u001b[39m=\u001b[39m\u001b[39m10\u001b[39m, offset\u001b[39m=\u001b[39m\u001b[39m0\u001b[39m, \u001b[39mtype\u001b[39m\u001b[39m=\u001b[39m\u001b[39m\"\u001b[39m\u001b[39mtrack\u001b[39m\u001b[39m\"\u001b[39m, market\u001b[39m=\u001b[39m\u001b[39mNone\u001b[39;00m):\n\u001b[1;32m    <a href='file:///Users/eli/Library/Python/3.8/lib/python/site-packages/spotipy/client.py?line=538'>539</a>\u001b[0m     \u001b[39m\"\"\" searches for an item\u001b[39;00m\n\u001b[1;32m    <a href='file:///Users/eli/Library/Python/3.8/lib/python/site-packages/spotipy/client.py?line=539'>540</a>\u001b[0m \n\u001b[1;32m    <a href='file:///Users/eli/Library/Python/3.8/lib/python/site-packages/spotipy/client.py?line=540'>541</a>\u001b[0m \u001b[39m        Parameters:\u001b[39;00m\n\u001b[0;32m   (...)\u001b[0m\n\u001b[1;32m    <a href='file:///Users/eli/Library/Python/3.8/lib/python/site-packages/spotipy/client.py?line=550'>551</a>\u001b[0m \u001b[39m                       from_token.\u001b[39;00m\n\u001b[1;32m    <a href='file:///Users/eli/Library/Python/3.8/lib/python/site-packages/spotipy/client.py?line=551'>552</a>\u001b[0m \u001b[39m    \"\"\"\u001b[39;00m\n\u001b[0;32m--> <a href='file:///Users/eli/Library/Python/3.8/lib/python/site-packages/spotipy/client.py?line=552'>553</a>\u001b[0m     \u001b[39mreturn\u001b[39;00m \u001b[39mself\u001b[39;49m\u001b[39m.\u001b[39;49m_get(\n\u001b[1;32m    <a href='file:///Users/eli/Library/Python/3.8/lib/python/site-packages/spotipy/client.py?line=553'>554</a>\u001b[0m         \u001b[39m\"\u001b[39;49m\u001b[39msearch\u001b[39;49m\u001b[39m\"\u001b[39;49m, q\u001b[39m=\u001b[39;49mq, limit\u001b[39m=\u001b[39;49mlimit, offset\u001b[39m=\u001b[39;49moffset, \u001b[39mtype\u001b[39;49m\u001b[39m=\u001b[39;49m\u001b[39mtype\u001b[39;49m, market\u001b[39m=\u001b[39;49mmarket\n\u001b[1;32m    <a href='file:///Users/eli/Library/Python/3.8/lib/python/site-packages/spotipy/client.py?line=554'>555</a>\u001b[0m     )\n",
      "File \u001b[0;32m~/Library/Python/3.8/lib/python/site-packages/spotipy/client.py:297\u001b[0m, in \u001b[0;36mSpotify._get\u001b[0;34m(self, url, args, payload, **kwargs)\u001b[0m\n\u001b[1;32m    <a href='file:///Users/eli/Library/Python/3.8/lib/python/site-packages/spotipy/client.py?line=293'>294</a>\u001b[0m \u001b[39mif\u001b[39;00m args:\n\u001b[1;32m    <a href='file:///Users/eli/Library/Python/3.8/lib/python/site-packages/spotipy/client.py?line=294'>295</a>\u001b[0m     kwargs\u001b[39m.\u001b[39mupdate(args)\n\u001b[0;32m--> <a href='file:///Users/eli/Library/Python/3.8/lib/python/site-packages/spotipy/client.py?line=296'>297</a>\u001b[0m \u001b[39mreturn\u001b[39;00m \u001b[39mself\u001b[39;49m\u001b[39m.\u001b[39;49m_internal_call(\u001b[39m\"\u001b[39;49m\u001b[39mGET\u001b[39;49m\u001b[39m\"\u001b[39;49m, url, payload, kwargs)\n",
      "File \u001b[0;32m~/Library/Python/3.8/lib/python/site-packages/spotipy/client.py:240\u001b[0m, in \u001b[0;36mSpotify._internal_call\u001b[0;34m(self, method, url, payload, params)\u001b[0m\n\u001b[1;32m    <a href='file:///Users/eli/Library/Python/3.8/lib/python/site-packages/spotipy/client.py?line=235'>236</a>\u001b[0m logger\u001b[39m.\u001b[39mdebug(\u001b[39m'\u001b[39m\u001b[39mSending \u001b[39m\u001b[39m%s\u001b[39;00m\u001b[39m to \u001b[39m\u001b[39m%s\u001b[39;00m\u001b[39m with Params: \u001b[39m\u001b[39m%s\u001b[39;00m\u001b[39m Headers: \u001b[39m\u001b[39m%s\u001b[39;00m\u001b[39m and Body: \u001b[39m\u001b[39m%r\u001b[39;00m\u001b[39m \u001b[39m\u001b[39m'\u001b[39m,\n\u001b[1;32m    <a href='file:///Users/eli/Library/Python/3.8/lib/python/site-packages/spotipy/client.py?line=236'>237</a>\u001b[0m              method, url, args\u001b[39m.\u001b[39mget(\u001b[39m\"\u001b[39m\u001b[39mparams\u001b[39m\u001b[39m\"\u001b[39m), headers, args\u001b[39m.\u001b[39mget(\u001b[39m'\u001b[39m\u001b[39mdata\u001b[39m\u001b[39m'\u001b[39m))\n\u001b[1;32m    <a href='file:///Users/eli/Library/Python/3.8/lib/python/site-packages/spotipy/client.py?line=238'>239</a>\u001b[0m \u001b[39mtry\u001b[39;00m:\n\u001b[0;32m--> <a href='file:///Users/eli/Library/Python/3.8/lib/python/site-packages/spotipy/client.py?line=239'>240</a>\u001b[0m     response \u001b[39m=\u001b[39m \u001b[39mself\u001b[39;49m\u001b[39m.\u001b[39;49m_session\u001b[39m.\u001b[39;49mrequest(\n\u001b[1;32m    <a href='file:///Users/eli/Library/Python/3.8/lib/python/site-packages/spotipy/client.py?line=240'>241</a>\u001b[0m         method, url, headers\u001b[39m=\u001b[39;49mheaders, proxies\u001b[39m=\u001b[39;49m\u001b[39mself\u001b[39;49m\u001b[39m.\u001b[39;49mproxies,\n\u001b[1;32m    <a href='file:///Users/eli/Library/Python/3.8/lib/python/site-packages/spotipy/client.py?line=241'>242</a>\u001b[0m         timeout\u001b[39m=\u001b[39;49m\u001b[39mself\u001b[39;49m\u001b[39m.\u001b[39;49mrequests_timeout, \u001b[39m*\u001b[39;49m\u001b[39m*\u001b[39;49margs\n\u001b[1;32m    <a href='file:///Users/eli/Library/Python/3.8/lib/python/site-packages/spotipy/client.py?line=242'>243</a>\u001b[0m     )\n\u001b[1;32m    <a href='file:///Users/eli/Library/Python/3.8/lib/python/site-packages/spotipy/client.py?line=244'>245</a>\u001b[0m     response\u001b[39m.\u001b[39mraise_for_status()\n\u001b[1;32m    <a href='file:///Users/eli/Library/Python/3.8/lib/python/site-packages/spotipy/client.py?line=245'>246</a>\u001b[0m     results \u001b[39m=\u001b[39m response\u001b[39m.\u001b[39mjson()\n",
      "File \u001b[0;32m~/Library/Python/3.8/lib/python/site-packages/requests/sessions.py:529\u001b[0m, in \u001b[0;36mSession.request\u001b[0;34m(self, method, url, params, data, headers, cookies, files, auth, timeout, allow_redirects, proxies, hooks, stream, verify, cert, json)\u001b[0m\n\u001b[1;32m    <a href='file:///Users/eli/Library/Python/3.8/lib/python/site-packages/requests/sessions.py?line=523'>524</a>\u001b[0m send_kwargs \u001b[39m=\u001b[39m {\n\u001b[1;32m    <a href='file:///Users/eli/Library/Python/3.8/lib/python/site-packages/requests/sessions.py?line=524'>525</a>\u001b[0m     \u001b[39m'\u001b[39m\u001b[39mtimeout\u001b[39m\u001b[39m'\u001b[39m: timeout,\n\u001b[1;32m    <a href='file:///Users/eli/Library/Python/3.8/lib/python/site-packages/requests/sessions.py?line=525'>526</a>\u001b[0m     \u001b[39m'\u001b[39m\u001b[39mallow_redirects\u001b[39m\u001b[39m'\u001b[39m: allow_redirects,\n\u001b[1;32m    <a href='file:///Users/eli/Library/Python/3.8/lib/python/site-packages/requests/sessions.py?line=526'>527</a>\u001b[0m }\n\u001b[1;32m    <a href='file:///Users/eli/Library/Python/3.8/lib/python/site-packages/requests/sessions.py?line=527'>528</a>\u001b[0m send_kwargs\u001b[39m.\u001b[39mupdate(settings)\n\u001b[0;32m--> <a href='file:///Users/eli/Library/Python/3.8/lib/python/site-packages/requests/sessions.py?line=528'>529</a>\u001b[0m resp \u001b[39m=\u001b[39m \u001b[39mself\u001b[39;49m\u001b[39m.\u001b[39;49msend(prep, \u001b[39m*\u001b[39;49m\u001b[39m*\u001b[39;49msend_kwargs)\n\u001b[1;32m    <a href='file:///Users/eli/Library/Python/3.8/lib/python/site-packages/requests/sessions.py?line=530'>531</a>\u001b[0m \u001b[39mreturn\u001b[39;00m resp\n",
      "File \u001b[0;32m~/Library/Python/3.8/lib/python/site-packages/requests/sessions.py:645\u001b[0m, in \u001b[0;36mSession.send\u001b[0;34m(self, request, **kwargs)\u001b[0m\n\u001b[1;32m    <a href='file:///Users/eli/Library/Python/3.8/lib/python/site-packages/requests/sessions.py?line=641'>642</a>\u001b[0m start \u001b[39m=\u001b[39m preferred_clock()\n\u001b[1;32m    <a href='file:///Users/eli/Library/Python/3.8/lib/python/site-packages/requests/sessions.py?line=643'>644</a>\u001b[0m \u001b[39m# Send the request\u001b[39;00m\n\u001b[0;32m--> <a href='file:///Users/eli/Library/Python/3.8/lib/python/site-packages/requests/sessions.py?line=644'>645</a>\u001b[0m r \u001b[39m=\u001b[39m adapter\u001b[39m.\u001b[39;49msend(request, \u001b[39m*\u001b[39;49m\u001b[39m*\u001b[39;49mkwargs)\n\u001b[1;32m    <a href='file:///Users/eli/Library/Python/3.8/lib/python/site-packages/requests/sessions.py?line=646'>647</a>\u001b[0m \u001b[39m# Total elapsed time of the request (approximately)\u001b[39;00m\n\u001b[1;32m    <a href='file:///Users/eli/Library/Python/3.8/lib/python/site-packages/requests/sessions.py?line=647'>648</a>\u001b[0m elapsed \u001b[39m=\u001b[39m preferred_clock() \u001b[39m-\u001b[39m start\n",
      "File \u001b[0;32m~/Library/Python/3.8/lib/python/site-packages/requests/adapters.py:440\u001b[0m, in \u001b[0;36mHTTPAdapter.send\u001b[0;34m(self, request, stream, timeout, verify, cert, proxies)\u001b[0m\n\u001b[1;32m    <a href='file:///Users/eli/Library/Python/3.8/lib/python/site-packages/requests/adapters.py?line=437'>438</a>\u001b[0m \u001b[39mtry\u001b[39;00m:\n\u001b[1;32m    <a href='file:///Users/eli/Library/Python/3.8/lib/python/site-packages/requests/adapters.py?line=438'>439</a>\u001b[0m     \u001b[39mif\u001b[39;00m \u001b[39mnot\u001b[39;00m chunked:\n\u001b[0;32m--> <a href='file:///Users/eli/Library/Python/3.8/lib/python/site-packages/requests/adapters.py?line=439'>440</a>\u001b[0m         resp \u001b[39m=\u001b[39m conn\u001b[39m.\u001b[39;49murlopen(\n\u001b[1;32m    <a href='file:///Users/eli/Library/Python/3.8/lib/python/site-packages/requests/adapters.py?line=440'>441</a>\u001b[0m             method\u001b[39m=\u001b[39;49mrequest\u001b[39m.\u001b[39;49mmethod,\n\u001b[1;32m    <a href='file:///Users/eli/Library/Python/3.8/lib/python/site-packages/requests/adapters.py?line=441'>442</a>\u001b[0m             url\u001b[39m=\u001b[39;49murl,\n\u001b[1;32m    <a href='file:///Users/eli/Library/Python/3.8/lib/python/site-packages/requests/adapters.py?line=442'>443</a>\u001b[0m             body\u001b[39m=\u001b[39;49mrequest\u001b[39m.\u001b[39;49mbody,\n\u001b[1;32m    <a href='file:///Users/eli/Library/Python/3.8/lib/python/site-packages/requests/adapters.py?line=443'>444</a>\u001b[0m             headers\u001b[39m=\u001b[39;49mrequest\u001b[39m.\u001b[39;49mheaders,\n\u001b[1;32m    <a href='file:///Users/eli/Library/Python/3.8/lib/python/site-packages/requests/adapters.py?line=444'>445</a>\u001b[0m             redirect\u001b[39m=\u001b[39;49m\u001b[39mFalse\u001b[39;49;00m,\n\u001b[1;32m    <a href='file:///Users/eli/Library/Python/3.8/lib/python/site-packages/requests/adapters.py?line=445'>446</a>\u001b[0m             assert_same_host\u001b[39m=\u001b[39;49m\u001b[39mFalse\u001b[39;49;00m,\n\u001b[1;32m    <a href='file:///Users/eli/Library/Python/3.8/lib/python/site-packages/requests/adapters.py?line=446'>447</a>\u001b[0m             preload_content\u001b[39m=\u001b[39;49m\u001b[39mFalse\u001b[39;49;00m,\n\u001b[1;32m    <a href='file:///Users/eli/Library/Python/3.8/lib/python/site-packages/requests/adapters.py?line=447'>448</a>\u001b[0m             decode_content\u001b[39m=\u001b[39;49m\u001b[39mFalse\u001b[39;49;00m,\n\u001b[1;32m    <a href='file:///Users/eli/Library/Python/3.8/lib/python/site-packages/requests/adapters.py?line=448'>449</a>\u001b[0m             retries\u001b[39m=\u001b[39;49m\u001b[39mself\u001b[39;49m\u001b[39m.\u001b[39;49mmax_retries,\n\u001b[1;32m    <a href='file:///Users/eli/Library/Python/3.8/lib/python/site-packages/requests/adapters.py?line=449'>450</a>\u001b[0m             timeout\u001b[39m=\u001b[39;49mtimeout\n\u001b[1;32m    <a href='file:///Users/eli/Library/Python/3.8/lib/python/site-packages/requests/adapters.py?line=450'>451</a>\u001b[0m         )\n\u001b[1;32m    <a href='file:///Users/eli/Library/Python/3.8/lib/python/site-packages/requests/adapters.py?line=452'>453</a>\u001b[0m     \u001b[39m# Send the request.\u001b[39;00m\n\u001b[1;32m    <a href='file:///Users/eli/Library/Python/3.8/lib/python/site-packages/requests/adapters.py?line=453'>454</a>\u001b[0m     \u001b[39melse\u001b[39;00m:\n\u001b[1;32m    <a href='file:///Users/eli/Library/Python/3.8/lib/python/site-packages/requests/adapters.py?line=454'>455</a>\u001b[0m         \u001b[39mif\u001b[39;00m \u001b[39mhasattr\u001b[39m(conn, \u001b[39m'\u001b[39m\u001b[39mproxy_pool\u001b[39m\u001b[39m'\u001b[39m):\n",
      "File \u001b[0;32m~/Library/Python/3.8/lib/python/site-packages/urllib3/connectionpool.py:703\u001b[0m, in \u001b[0;36mHTTPConnectionPool.urlopen\u001b[0;34m(self, method, url, body, headers, retries, redirect, assert_same_host, timeout, pool_timeout, release_conn, chunked, body_pos, **response_kw)\u001b[0m\n\u001b[1;32m    <a href='file:///Users/eli/Library/Python/3.8/lib/python/site-packages/urllib3/connectionpool.py?line=699'>700</a>\u001b[0m     \u001b[39mself\u001b[39m\u001b[39m.\u001b[39m_prepare_proxy(conn)\n\u001b[1;32m    <a href='file:///Users/eli/Library/Python/3.8/lib/python/site-packages/urllib3/connectionpool.py?line=701'>702</a>\u001b[0m \u001b[39m# Make the request on the httplib connection object.\u001b[39;00m\n\u001b[0;32m--> <a href='file:///Users/eli/Library/Python/3.8/lib/python/site-packages/urllib3/connectionpool.py?line=702'>703</a>\u001b[0m httplib_response \u001b[39m=\u001b[39m \u001b[39mself\u001b[39;49m\u001b[39m.\u001b[39;49m_make_request(\n\u001b[1;32m    <a href='file:///Users/eli/Library/Python/3.8/lib/python/site-packages/urllib3/connectionpool.py?line=703'>704</a>\u001b[0m     conn,\n\u001b[1;32m    <a href='file:///Users/eli/Library/Python/3.8/lib/python/site-packages/urllib3/connectionpool.py?line=704'>705</a>\u001b[0m     method,\n\u001b[1;32m    <a href='file:///Users/eli/Library/Python/3.8/lib/python/site-packages/urllib3/connectionpool.py?line=705'>706</a>\u001b[0m     url,\n\u001b[1;32m    <a href='file:///Users/eli/Library/Python/3.8/lib/python/site-packages/urllib3/connectionpool.py?line=706'>707</a>\u001b[0m     timeout\u001b[39m=\u001b[39;49mtimeout_obj,\n\u001b[1;32m    <a href='file:///Users/eli/Library/Python/3.8/lib/python/site-packages/urllib3/connectionpool.py?line=707'>708</a>\u001b[0m     body\u001b[39m=\u001b[39;49mbody,\n\u001b[1;32m    <a href='file:///Users/eli/Library/Python/3.8/lib/python/site-packages/urllib3/connectionpool.py?line=708'>709</a>\u001b[0m     headers\u001b[39m=\u001b[39;49mheaders,\n\u001b[1;32m    <a href='file:///Users/eli/Library/Python/3.8/lib/python/site-packages/urllib3/connectionpool.py?line=709'>710</a>\u001b[0m     chunked\u001b[39m=\u001b[39;49mchunked,\n\u001b[1;32m    <a href='file:///Users/eli/Library/Python/3.8/lib/python/site-packages/urllib3/connectionpool.py?line=710'>711</a>\u001b[0m )\n\u001b[1;32m    <a href='file:///Users/eli/Library/Python/3.8/lib/python/site-packages/urllib3/connectionpool.py?line=712'>713</a>\u001b[0m \u001b[39m# If we're going to release the connection in ``finally:``, then\u001b[39;00m\n\u001b[1;32m    <a href='file:///Users/eli/Library/Python/3.8/lib/python/site-packages/urllib3/connectionpool.py?line=713'>714</a>\u001b[0m \u001b[39m# the response doesn't need to know about the connection. Otherwise\u001b[39;00m\n\u001b[1;32m    <a href='file:///Users/eli/Library/Python/3.8/lib/python/site-packages/urllib3/connectionpool.py?line=714'>715</a>\u001b[0m \u001b[39m# it will also try to release it and we'll have a double-release\u001b[39;00m\n\u001b[1;32m    <a href='file:///Users/eli/Library/Python/3.8/lib/python/site-packages/urllib3/connectionpool.py?line=715'>716</a>\u001b[0m \u001b[39m# mess.\u001b[39;00m\n\u001b[1;32m    <a href='file:///Users/eli/Library/Python/3.8/lib/python/site-packages/urllib3/connectionpool.py?line=716'>717</a>\u001b[0m response_conn \u001b[39m=\u001b[39m conn \u001b[39mif\u001b[39;00m \u001b[39mnot\u001b[39;00m release_conn \u001b[39melse\u001b[39;00m \u001b[39mNone\u001b[39;00m\n",
      "File \u001b[0;32m~/Library/Python/3.8/lib/python/site-packages/urllib3/connectionpool.py:449\u001b[0m, in \u001b[0;36mHTTPConnectionPool._make_request\u001b[0;34m(self, conn, method, url, timeout, chunked, **httplib_request_kw)\u001b[0m\n\u001b[1;32m    <a href='file:///Users/eli/Library/Python/3.8/lib/python/site-packages/urllib3/connectionpool.py?line=443'>444</a>\u001b[0m             httplib_response \u001b[39m=\u001b[39m conn\u001b[39m.\u001b[39mgetresponse()\n\u001b[1;32m    <a href='file:///Users/eli/Library/Python/3.8/lib/python/site-packages/urllib3/connectionpool.py?line=444'>445</a>\u001b[0m         \u001b[39mexcept\u001b[39;00m \u001b[39mBaseException\u001b[39;00m \u001b[39mas\u001b[39;00m e:\n\u001b[1;32m    <a href='file:///Users/eli/Library/Python/3.8/lib/python/site-packages/urllib3/connectionpool.py?line=445'>446</a>\u001b[0m             \u001b[39m# Remove the TypeError from the exception chain in\u001b[39;00m\n\u001b[1;32m    <a href='file:///Users/eli/Library/Python/3.8/lib/python/site-packages/urllib3/connectionpool.py?line=446'>447</a>\u001b[0m             \u001b[39m# Python 3 (including for exceptions like SystemExit).\u001b[39;00m\n\u001b[1;32m    <a href='file:///Users/eli/Library/Python/3.8/lib/python/site-packages/urllib3/connectionpool.py?line=447'>448</a>\u001b[0m             \u001b[39m# Otherwise it looks like a bug in the code.\u001b[39;00m\n\u001b[0;32m--> <a href='file:///Users/eli/Library/Python/3.8/lib/python/site-packages/urllib3/connectionpool.py?line=448'>449</a>\u001b[0m             six\u001b[39m.\u001b[39;49mraise_from(e, \u001b[39mNone\u001b[39;49;00m)\n\u001b[1;32m    <a href='file:///Users/eli/Library/Python/3.8/lib/python/site-packages/urllib3/connectionpool.py?line=449'>450</a>\u001b[0m \u001b[39mexcept\u001b[39;00m (SocketTimeout, BaseSSLError, SocketError) \u001b[39mas\u001b[39;00m e:\n\u001b[1;32m    <a href='file:///Users/eli/Library/Python/3.8/lib/python/site-packages/urllib3/connectionpool.py?line=450'>451</a>\u001b[0m     \u001b[39mself\u001b[39m\u001b[39m.\u001b[39m_raise_timeout(err\u001b[39m=\u001b[39me, url\u001b[39m=\u001b[39murl, timeout_value\u001b[39m=\u001b[39mread_timeout)\n",
      "File \u001b[0;32m<string>:3\u001b[0m, in \u001b[0;36mraise_from\u001b[0;34m(value, from_value)\u001b[0m\n",
      "File \u001b[0;32m~/Library/Python/3.8/lib/python/site-packages/urllib3/connectionpool.py:444\u001b[0m, in \u001b[0;36mHTTPConnectionPool._make_request\u001b[0;34m(self, conn, method, url, timeout, chunked, **httplib_request_kw)\u001b[0m\n\u001b[1;32m    <a href='file:///Users/eli/Library/Python/3.8/lib/python/site-packages/urllib3/connectionpool.py?line=440'>441</a>\u001b[0m \u001b[39mexcept\u001b[39;00m \u001b[39mTypeError\u001b[39;00m:\n\u001b[1;32m    <a href='file:///Users/eli/Library/Python/3.8/lib/python/site-packages/urllib3/connectionpool.py?line=441'>442</a>\u001b[0m     \u001b[39m# Python 3\u001b[39;00m\n\u001b[1;32m    <a href='file:///Users/eli/Library/Python/3.8/lib/python/site-packages/urllib3/connectionpool.py?line=442'>443</a>\u001b[0m     \u001b[39mtry\u001b[39;00m:\n\u001b[0;32m--> <a href='file:///Users/eli/Library/Python/3.8/lib/python/site-packages/urllib3/connectionpool.py?line=443'>444</a>\u001b[0m         httplib_response \u001b[39m=\u001b[39m conn\u001b[39m.\u001b[39;49mgetresponse()\n\u001b[1;32m    <a href='file:///Users/eli/Library/Python/3.8/lib/python/site-packages/urllib3/connectionpool.py?line=444'>445</a>\u001b[0m     \u001b[39mexcept\u001b[39;00m \u001b[39mBaseException\u001b[39;00m \u001b[39mas\u001b[39;00m e:\n\u001b[1;32m    <a href='file:///Users/eli/Library/Python/3.8/lib/python/site-packages/urllib3/connectionpool.py?line=445'>446</a>\u001b[0m         \u001b[39m# Remove the TypeError from the exception chain in\u001b[39;00m\n\u001b[1;32m    <a href='file:///Users/eli/Library/Python/3.8/lib/python/site-packages/urllib3/connectionpool.py?line=446'>447</a>\u001b[0m         \u001b[39m# Python 3 (including for exceptions like SystemExit).\u001b[39;00m\n\u001b[1;32m    <a href='file:///Users/eli/Library/Python/3.8/lib/python/site-packages/urllib3/connectionpool.py?line=447'>448</a>\u001b[0m         \u001b[39m# Otherwise it looks like a bug in the code.\u001b[39;00m\n\u001b[1;32m    <a href='file:///Users/eli/Library/Python/3.8/lib/python/site-packages/urllib3/connectionpool.py?line=448'>449</a>\u001b[0m         six\u001b[39m.\u001b[39mraise_from(e, \u001b[39mNone\u001b[39;00m)\n",
      "File \u001b[0;32m/Library/Developer/CommandLineTools/Library/Frameworks/Python3.framework/Versions/3.8/lib/python3.8/http/client.py:1344\u001b[0m, in \u001b[0;36mHTTPConnection.getresponse\u001b[0;34m(self)\u001b[0m\n\u001b[1;32m   <a href='file:///Library/Developer/CommandLineTools/Library/Frameworks/Python3.framework/Versions/3.8/lib/python3.8/http/client.py?line=1341'>1342</a>\u001b[0m \u001b[39mtry\u001b[39;00m:\n\u001b[1;32m   <a href='file:///Library/Developer/CommandLineTools/Library/Frameworks/Python3.framework/Versions/3.8/lib/python3.8/http/client.py?line=1342'>1343</a>\u001b[0m     \u001b[39mtry\u001b[39;00m:\n\u001b[0;32m-> <a href='file:///Library/Developer/CommandLineTools/Library/Frameworks/Python3.framework/Versions/3.8/lib/python3.8/http/client.py?line=1343'>1344</a>\u001b[0m         response\u001b[39m.\u001b[39;49mbegin()\n\u001b[1;32m   <a href='file:///Library/Developer/CommandLineTools/Library/Frameworks/Python3.framework/Versions/3.8/lib/python3.8/http/client.py?line=1344'>1345</a>\u001b[0m     \u001b[39mexcept\u001b[39;00m \u001b[39mConnectionError\u001b[39;00m:\n\u001b[1;32m   <a href='file:///Library/Developer/CommandLineTools/Library/Frameworks/Python3.framework/Versions/3.8/lib/python3.8/http/client.py?line=1345'>1346</a>\u001b[0m         \u001b[39mself\u001b[39m\u001b[39m.\u001b[39mclose()\n",
      "File \u001b[0;32m/Library/Developer/CommandLineTools/Library/Frameworks/Python3.framework/Versions/3.8/lib/python3.8/http/client.py:307\u001b[0m, in \u001b[0;36mHTTPResponse.begin\u001b[0;34m(self)\u001b[0m\n\u001b[1;32m    <a href='file:///Library/Developer/CommandLineTools/Library/Frameworks/Python3.framework/Versions/3.8/lib/python3.8/http/client.py?line=304'>305</a>\u001b[0m \u001b[39m# read until we get a non-100 response\u001b[39;00m\n\u001b[1;32m    <a href='file:///Library/Developer/CommandLineTools/Library/Frameworks/Python3.framework/Versions/3.8/lib/python3.8/http/client.py?line=305'>306</a>\u001b[0m \u001b[39mwhile\u001b[39;00m \u001b[39mTrue\u001b[39;00m:\n\u001b[0;32m--> <a href='file:///Library/Developer/CommandLineTools/Library/Frameworks/Python3.framework/Versions/3.8/lib/python3.8/http/client.py?line=306'>307</a>\u001b[0m     version, status, reason \u001b[39m=\u001b[39m \u001b[39mself\u001b[39;49m\u001b[39m.\u001b[39;49m_read_status()\n\u001b[1;32m    <a href='file:///Library/Developer/CommandLineTools/Library/Frameworks/Python3.framework/Versions/3.8/lib/python3.8/http/client.py?line=307'>308</a>\u001b[0m     \u001b[39mif\u001b[39;00m status \u001b[39m!=\u001b[39m CONTINUE:\n\u001b[1;32m    <a href='file:///Library/Developer/CommandLineTools/Library/Frameworks/Python3.framework/Versions/3.8/lib/python3.8/http/client.py?line=308'>309</a>\u001b[0m         \u001b[39mbreak\u001b[39;00m\n",
      "File \u001b[0;32m/Library/Developer/CommandLineTools/Library/Frameworks/Python3.framework/Versions/3.8/lib/python3.8/http/client.py:268\u001b[0m, in \u001b[0;36mHTTPResponse._read_status\u001b[0;34m(self)\u001b[0m\n\u001b[1;32m    <a href='file:///Library/Developer/CommandLineTools/Library/Frameworks/Python3.framework/Versions/3.8/lib/python3.8/http/client.py?line=266'>267</a>\u001b[0m \u001b[39mdef\u001b[39;00m \u001b[39m_read_status\u001b[39m(\u001b[39mself\u001b[39m):\n\u001b[0;32m--> <a href='file:///Library/Developer/CommandLineTools/Library/Frameworks/Python3.framework/Versions/3.8/lib/python3.8/http/client.py?line=267'>268</a>\u001b[0m     line \u001b[39m=\u001b[39m \u001b[39mstr\u001b[39m(\u001b[39mself\u001b[39;49m\u001b[39m.\u001b[39;49mfp\u001b[39m.\u001b[39;49mreadline(_MAXLINE \u001b[39m+\u001b[39;49m \u001b[39m1\u001b[39;49m), \u001b[39m\"\u001b[39m\u001b[39miso-8859-1\u001b[39m\u001b[39m\"\u001b[39m)\n\u001b[1;32m    <a href='file:///Library/Developer/CommandLineTools/Library/Frameworks/Python3.framework/Versions/3.8/lib/python3.8/http/client.py?line=268'>269</a>\u001b[0m     \u001b[39mif\u001b[39;00m \u001b[39mlen\u001b[39m(line) \u001b[39m>\u001b[39m _MAXLINE:\n\u001b[1;32m    <a href='file:///Library/Developer/CommandLineTools/Library/Frameworks/Python3.framework/Versions/3.8/lib/python3.8/http/client.py?line=269'>270</a>\u001b[0m         \u001b[39mraise\u001b[39;00m LineTooLong(\u001b[39m\"\u001b[39m\u001b[39mstatus line\u001b[39m\u001b[39m\"\u001b[39m)\n",
      "File \u001b[0;32m/Library/Developer/CommandLineTools/Library/Frameworks/Python3.framework/Versions/3.8/lib/python3.8/socket.py:669\u001b[0m, in \u001b[0;36mSocketIO.readinto\u001b[0;34m(self, b)\u001b[0m\n\u001b[1;32m    <a href='file:///Library/Developer/CommandLineTools/Library/Frameworks/Python3.framework/Versions/3.8/lib/python3.8/socket.py?line=666'>667</a>\u001b[0m \u001b[39mwhile\u001b[39;00m \u001b[39mTrue\u001b[39;00m:\n\u001b[1;32m    <a href='file:///Library/Developer/CommandLineTools/Library/Frameworks/Python3.framework/Versions/3.8/lib/python3.8/socket.py?line=667'>668</a>\u001b[0m     \u001b[39mtry\u001b[39;00m:\n\u001b[0;32m--> <a href='file:///Library/Developer/CommandLineTools/Library/Frameworks/Python3.framework/Versions/3.8/lib/python3.8/socket.py?line=668'>669</a>\u001b[0m         \u001b[39mreturn\u001b[39;00m \u001b[39mself\u001b[39;49m\u001b[39m.\u001b[39;49m_sock\u001b[39m.\u001b[39;49mrecv_into(b)\n\u001b[1;32m    <a href='file:///Library/Developer/CommandLineTools/Library/Frameworks/Python3.framework/Versions/3.8/lib/python3.8/socket.py?line=669'>670</a>\u001b[0m     \u001b[39mexcept\u001b[39;00m timeout:\n\u001b[1;32m    <a href='file:///Library/Developer/CommandLineTools/Library/Frameworks/Python3.framework/Versions/3.8/lib/python3.8/socket.py?line=670'>671</a>\u001b[0m         \u001b[39mself\u001b[39m\u001b[39m.\u001b[39m_timeout_occurred \u001b[39m=\u001b[39m \u001b[39mTrue\u001b[39;00m\n",
      "File \u001b[0;32m/Library/Developer/CommandLineTools/Library/Frameworks/Python3.framework/Versions/3.8/lib/python3.8/ssl.py:1241\u001b[0m, in \u001b[0;36mSSLSocket.recv_into\u001b[0;34m(self, buffer, nbytes, flags)\u001b[0m\n\u001b[1;32m   <a href='file:///Library/Developer/CommandLineTools/Library/Frameworks/Python3.framework/Versions/3.8/lib/python3.8/ssl.py?line=1236'>1237</a>\u001b[0m     \u001b[39mif\u001b[39;00m flags \u001b[39m!=\u001b[39m \u001b[39m0\u001b[39m:\n\u001b[1;32m   <a href='file:///Library/Developer/CommandLineTools/Library/Frameworks/Python3.framework/Versions/3.8/lib/python3.8/ssl.py?line=1237'>1238</a>\u001b[0m         \u001b[39mraise\u001b[39;00m \u001b[39mValueError\u001b[39;00m(\n\u001b[1;32m   <a href='file:///Library/Developer/CommandLineTools/Library/Frameworks/Python3.framework/Versions/3.8/lib/python3.8/ssl.py?line=1238'>1239</a>\u001b[0m           \u001b[39m\"\u001b[39m\u001b[39mnon-zero flags not allowed in calls to recv_into() on \u001b[39m\u001b[39m%s\u001b[39;00m\u001b[39m\"\u001b[39m \u001b[39m%\u001b[39m\n\u001b[1;32m   <a href='file:///Library/Developer/CommandLineTools/Library/Frameworks/Python3.framework/Versions/3.8/lib/python3.8/ssl.py?line=1239'>1240</a>\u001b[0m           \u001b[39mself\u001b[39m\u001b[39m.\u001b[39m\u001b[39m__class__\u001b[39m)\n\u001b[0;32m-> <a href='file:///Library/Developer/CommandLineTools/Library/Frameworks/Python3.framework/Versions/3.8/lib/python3.8/ssl.py?line=1240'>1241</a>\u001b[0m     \u001b[39mreturn\u001b[39;00m \u001b[39mself\u001b[39;49m\u001b[39m.\u001b[39;49mread(nbytes, buffer)\n\u001b[1;32m   <a href='file:///Library/Developer/CommandLineTools/Library/Frameworks/Python3.framework/Versions/3.8/lib/python3.8/ssl.py?line=1241'>1242</a>\u001b[0m \u001b[39melse\u001b[39;00m:\n\u001b[1;32m   <a href='file:///Library/Developer/CommandLineTools/Library/Frameworks/Python3.framework/Versions/3.8/lib/python3.8/ssl.py?line=1242'>1243</a>\u001b[0m     \u001b[39mreturn\u001b[39;00m \u001b[39msuper\u001b[39m()\u001b[39m.\u001b[39mrecv_into(buffer, nbytes, flags)\n",
      "File \u001b[0;32m/Library/Developer/CommandLineTools/Library/Frameworks/Python3.framework/Versions/3.8/lib/python3.8/ssl.py:1099\u001b[0m, in \u001b[0;36mSSLSocket.read\u001b[0;34m(self, len, buffer)\u001b[0m\n\u001b[1;32m   <a href='file:///Library/Developer/CommandLineTools/Library/Frameworks/Python3.framework/Versions/3.8/lib/python3.8/ssl.py?line=1096'>1097</a>\u001b[0m \u001b[39mtry\u001b[39;00m:\n\u001b[1;32m   <a href='file:///Library/Developer/CommandLineTools/Library/Frameworks/Python3.framework/Versions/3.8/lib/python3.8/ssl.py?line=1097'>1098</a>\u001b[0m     \u001b[39mif\u001b[39;00m buffer \u001b[39mis\u001b[39;00m \u001b[39mnot\u001b[39;00m \u001b[39mNone\u001b[39;00m:\n\u001b[0;32m-> <a href='file:///Library/Developer/CommandLineTools/Library/Frameworks/Python3.framework/Versions/3.8/lib/python3.8/ssl.py?line=1098'>1099</a>\u001b[0m         \u001b[39mreturn\u001b[39;00m \u001b[39mself\u001b[39;49m\u001b[39m.\u001b[39;49m_sslobj\u001b[39m.\u001b[39;49mread(\u001b[39mlen\u001b[39;49m, buffer)\n\u001b[1;32m   <a href='file:///Library/Developer/CommandLineTools/Library/Frameworks/Python3.framework/Versions/3.8/lib/python3.8/ssl.py?line=1099'>1100</a>\u001b[0m     \u001b[39melse\u001b[39;00m:\n\u001b[1;32m   <a href='file:///Library/Developer/CommandLineTools/Library/Frameworks/Python3.framework/Versions/3.8/lib/python3.8/ssl.py?line=1100'>1101</a>\u001b[0m         \u001b[39mreturn\u001b[39;00m \u001b[39mself\u001b[39m\u001b[39m.\u001b[39m_sslobj\u001b[39m.\u001b[39mread(\u001b[39mlen\u001b[39m)\n",
      "\u001b[0;31mKeyboardInterrupt\u001b[0m: "
     ]
    }
   ],
   "source": [
    "\n",
    "count = 0\n",
    "for like in likes_attributes:\n",
    "    count += 1\n",
    "    spotify_features = sp.get_features(like['title'], like['artist'])\n",
    "    like['spotify_track_id'] = spotify_features['id']\n",
    "    like['acousticness'] = spotify_features['acousticness']\n",
    "    like['danceability'] = spotify_features['danceability']\n",
    "    like['energy'] = spotify_features['energy']\n",
    "    like['instrumentalness'] = spotify_features['instrumentalness']\n",
    "    like['key'] = spotify_features['key']\n",
    "    like['liveness'] = spotify_features['liveness']\n",
    "    like['loudness'] = spotify_features['loudness']\n",
    "    like['mode'] = spotify_features['mode']\n",
    "    like['tempo'] = spotify_features['tempo']\n",
    "    like['time_signature'] = spotify_features['time_signature']\n",
    "    like['valence'] = spotify_features['valence']\n"
   ]
  },
  {
   "cell_type": "code",
   "execution_count": 5,
   "metadata": {},
   "outputs": [],
   "source": [
    "import json"
   ]
  },
  {
   "cell_type": "code",
   "execution_count": 7,
   "metadata": {},
   "outputs": [
    {
     "name": "stdout",
     "output_type": "stream",
     "text": [
      "958 2100\n"
     ]
    }
   ],
   "source": [
    "valid, invalid = 0, 0\n",
    "for like in likes_attributes:\n",
    "    if like['tempo']:\n",
    "        valid += 1\n",
    "    else:\n",
    "        invalid += 1\n",
    "print(valid, invalid)"
   ]
  },
  {
   "cell_type": "code",
   "execution_count": 6,
   "metadata": {},
   "outputs": [],
   "source": [
    "with open('liked_songs7_16_22.json', 'w') as fp:\n",
    "    json.dump(likes_attributes, fp, indent=4, sort_keys=True, default = str)"
   ]
  },
  {
   "cell_type": "code",
   "execution_count": 6,
   "metadata": {},
   "outputs": [
    {
     "name": "stdout",
     "output_type": "stream",
     "text": [
      "None\n"
     ]
    }
   ],
   "source": [
    "x = None\n",
    "test_dict = {}\n",
    "test_dict['test_key'] = x\n",
    "print(test_dict['test_key'])"
   ]
  },
  {
   "cell_type": "code",
   "execution_count": null,
   "metadata": {},
   "outputs": [],
   "source": []
  }
 ],
 "metadata": {
  "interpreter": {
   "hash": "31f2aee4e71d21fbe5cf8b01ff0e069b9275f58929596ceb00d14d90e3e16cd6"
  },
  "kernelspec": {
   "display_name": "Python 3.8.9 64-bit",
   "language": "python",
   "name": "python3"
  },
  "language_info": {
   "codemirror_mode": {
    "name": "ipython",
    "version": 3
   },
   "file_extension": ".py",
   "mimetype": "text/x-python",
   "name": "python",
   "nbconvert_exporter": "python",
   "pygments_lexer": "ipython3",
   "version": "3.8.9"
  },
  "orig_nbformat": 4
 },
 "nbformat": 4,
 "nbformat_minor": 2
}
