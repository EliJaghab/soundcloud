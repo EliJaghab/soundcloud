{
 "cells": [
  {
   "cell_type": "code",
   "execution_count": 137,
   "metadata": {},
   "outputs": [],
   "source": [
    "import json\n",
    "import requests\n",
    "from soundcloud import SoundCloud"
   ]
  },
  {
   "cell_type": "code",
   "execution_count": 2,
   "metadata": {},
   "outputs": [],
   "source": [
    "sc = SoundCloud(\"xJmsHs37dLKGnKYrWkjl2xQYMEtUp1nz\", \"2-293488-62408522-LPj8q4Jqxfkhq3A\")\n",
    "assert sc.is_client_id_valid()\n",
    "assert sc.is_auth_token_valid()\n",
    "me = sc.get_user_by_username(\"elijaghab\")\n",
    "assert me.permalink == \"elijaghab\""
   ]
  },
  {
   "cell_type": "code",
   "execution_count": 3,
   "metadata": {},
   "outputs": [],
   "source": [
    "first_result = next(sc.search_users(\"Eli Jaghab\"))\n",
    "my_user_id = first_result.id\n",
    "object = sc.get_user_likes(my_user_id)\n",
    "likes = [x for x in object]"
   ]
  },
  {
   "cell_type": "code",
   "execution_count": 126,
   "metadata": {},
   "outputs": [],
   "source": [
    "likes_attributes = []\n",
    "for like in likes:\n",
    "    like_entry = {}\n",
    "    try:\n",
    "        like_entry['date_liked'] = like.created_at\n",
    "        like_entry['comment_count'] = like.track.comment_count\n",
    "        like_entry['date_created'] = like.track.created_at\n",
    "        like_entry['download_count'] = like.track.download_count\n",
    "        like_entry['raw_duration'] = like.track.duration\n",
    "        like_entry['genre'] = like.track.genre\n",
    "        like_entry['raw_full_duration'] = like.track.full_duration\n",
    "        like_entry['id'] = like.track.id\n",
    "        like_entry['kind'] = like.track.kind \n",
    "        like_entry['label_name'] = like.track.label_name\n",
    "        like_entry['last_modified'] = like.track.last_modified\n",
    "        like_entry['likes_count'] = like.track.likes_count\n",
    "        like_entry['playback_count'] = like.track.playback_count\n",
    "        like_entry['release_date'] = like.track.release_date\n",
    "        like_entry['reposts_count'] = like.track.reposts_count\n",
    "        like_entry['station_permalink'] = like.track.station_permalink\n",
    "        like_entry['title'] = like.track.title\n",
    "        like_entry['artist'] = like.track.user.username\n",
    "        like_entry['artist_followers'] = like.track.user.followers_count\n",
    "        like_entry['city'] = like.track.user.city\n",
    "        like_entry['country_code'] = like.track.user.country_code\n",
    "    except AttributeError:\n",
    "        continue\n",
    "    likes_attributes.append(like_entry)"
   ]
  },
  {
   "cell_type": "code",
   "execution_count": 142,
   "metadata": {},
   "outputs": [],
   "source": [
    "with open('liked_songs5_19_22.json', 'w') as fp:\n",
    "    json.dump(likes_attributes, fp, indent=4, sort_keys=True, default = str)"
   ]
  }
 ],
 "metadata": {
  "interpreter": {
   "hash": "31f2aee4e71d21fbe5cf8b01ff0e069b9275f58929596ceb00d14d90e3e16cd6"
  },
  "kernelspec": {
   "display_name": "Python 3.8.9 64-bit",
   "language": "python",
   "name": "python3"
  },
  "language_info": {
   "codemirror_mode": {
    "name": "ipython",
    "version": 3
   },
   "file_extension": ".py",
   "mimetype": "text/x-python",
   "name": "python",
   "nbconvert_exporter": "python",
   "pygments_lexer": "ipython3",
   "version": "3.8.9"
  },
  "orig_nbformat": 4
 },
 "nbformat": 4,
 "nbformat_minor": 2
}
