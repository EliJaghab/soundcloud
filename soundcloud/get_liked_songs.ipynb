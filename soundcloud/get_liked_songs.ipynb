{
 "cells": [
  {
   "cell_type": "code",
   "execution_count": 1,
   "metadata": {},
   "outputs": [],
   "source": [
    "import json\n",
    "from soundcloud import SoundCloud"
   ]
  },
  {
   "cell_type": "code",
   "execution_count": 2,
   "metadata": {},
   "outputs": [],
   "source": [
    "sc = SoundCloud(\"ZA68dFpqtNM36uKAmylwTlo5n0KjJ140\", \"2-293488-62408522-LPj8q4Jqxfkhq3A\")\n",
    "assert sc.is_client_id_valid()\n",
    "assert sc.is_auth_token_valid()\n",
    "me = sc.get_user_by_username(\"elijaghab\")\n",
    "assert me.permalink == \"elijaghab\""
   ]
  },
  {
   "cell_type": "code",
   "execution_count": 3,
   "metadata": {},
   "outputs": [],
   "source": [
    "first_result = next(sc.search_users(\"Eli Jaghab\"))\n",
    "my_user_id = first_result.id\n",
    "object = sc.get_user_likes(my_user_id)\n",
    "likes = [x for x in object]"
   ]
  },
  {
   "cell_type": "code",
   "execution_count": 5,
   "metadata": {},
   "outputs": [],
   "source": [
    "likes_attributes = []\n",
    "for like in likes:\n",
    "    like_entry = {}\n",
    "    try:\n",
    "        like_entry['date_liked'] = like.created_at\n",
    "        like_entry['comment_count'] = like.track.comment_count\n",
    "        like_entry['date_created'] = like.track.created_at\n",
    "        like_entry['download_count'] = like.track.download_count\n",
    "        like_entry['raw_duration'] = like.track.duration\n",
    "        like_entry['genre'] = like.track.genre\n",
    "        like_entry['raw_full_duration'] = like.track.full_duration\n",
    "        like_entry['id'] = like.track.id\n",
    "        like_entry['kind'] = like.track.kind \n",
    "        like_entry['label_name'] = like.track.label_name\n",
    "        like_entry['last_modified'] = like.track.last_modified\n",
    "        like_entry['likes_count'] = like.track.likes_count\n",
    "        like_entry['playback_count'] = like.track.playback_count\n",
    "        like_entry['release_date'] = like.track.release_date\n",
    "        like_entry['reposts_count'] = like.track.reposts_count\n",
    "        like_entry['station_permalink'] = like.track.station_permalink\n",
    "        like_entry['title'] = like.track.title\n",
    "        like_entry['artist'] = like.track.user.username\n",
    "        like_entry['artist_followers'] = like.track.user.followers_count\n",
    "        like_entry['city'] = like.track.user.city\n",
    "        like_entry['country_code'] = like.track.user.country_code\n",
    "    except AttributeError:\n",
    "        continue\n",
    "    likes_attributes.append(like_entry)"
   ]
  },
  {
   "cell_type": "code",
   "execution_count": 4,
   "metadata": {},
   "outputs": [],
   "source": [
    "import pickle\n",
    "\n",
    "with open('likes_attributes.pkl', 'rb') as f:\n",
    "    likes_attributes = pickle.load(f)"
   ]
  },
  {
   "cell_type": "code",
   "execution_count": 5,
   "metadata": {},
   "outputs": [],
   "source": [
    "from utils.spotify import Spotify\n",
    "sp = Spotify()"
   ]
  },
  {
   "cell_type": "code",
   "execution_count": 6,
   "metadata": {},
   "outputs": [
    {
     "name": "stderr",
     "output_type": "stream",
     "text": [
      "HTTP Error for GET to https://api.spotify.com/v1/search with Params: {'q': 'artist:Ayush Jain track:Pandemonium Tribute Version - Mondays Feat Hanna Stone Dag Lundberg Acoustic Group[Mp3Converter.net]', 'limit': 10, 'offset': 0, 'type': 'track', 'market': None} returned 404 due to Not found.\n",
      "HTTP Error for GET to https://api.spotify.com/v1/search with Params: {'q': 'artist:Ayush Jain track:Pandemonium Tribute Version - Mondays Feat Hanna Stone Dag Lundberg Acoustic Group[Mp3Converter.net]', 'limit': 10, 'offset': 0, 'type': 'track', 'market': None} returned 404 due to Not found.\n"
     ]
    },
    {
     "name": "stdout",
     "output_type": "stream",
     "text": [
      "http status: 404, code:-1 - https://api.spotify.com/v1/search?q=artist%3AAyush+Jain+track%3APandemonium+Tribute+Version+-+Mondays+Feat+Hanna+Stone+Dag+Lundberg+Acoustic+Group%5BMp3Converter.net%5D&limit=10&offset=0&type=track:\n",
      " Not found., reason: None\n",
      "http status: 404, code:-1 - https://api.spotify.com/v1/search?q=artist%3AAyush+Jain+track%3APandemonium+Tribute+Version+-+Mondays+Feat+Hanna+Stone+Dag+Lundberg+Acoustic+Group%5BMp3Converter.net%5D&limit=10&offset=0&type=track:\n",
      " Not found., reason: None\n"
     ]
    },
    {
     "name": "stderr",
     "output_type": "stream",
     "text": [
      "HTTP Error for GET to https://api.spotify.com/v1/search with Params: {'q': 'artist:dimitrivegasandlikemike track:Dimitri Vegas & Like Mike ft Wolfpack & Katy B - Find Tomorrow ( Ocarina ) OUT SOON ON ITUNES', 'limit': 10, 'offset': 0, 'type': 'track', 'market': None} returned 404 due to Not found.\n",
      "HTTP Error for GET to https://api.spotify.com/v1/search with Params: {'q': 'artist:dimitrivegasandlikemike track:Dimitri Vegas & Like Mike ft Wolfpack & Katy B - Find Tomorrow ( Ocarina ) OUT SOON ON ITUNES', 'limit': 10, 'offset': 0, 'type': 'track', 'market': None} returned 404 due to Not found.\n"
     ]
    },
    {
     "name": "stdout",
     "output_type": "stream",
     "text": [
      "http status: 404, code:-1 - https://api.spotify.com/v1/search?q=artist%3Adimitrivegasandlikemike+track%3ADimitri+Vegas+%26+Like+Mike+ft+Wolfpack+%26+Katy+B+-+Find+Tomorrow+%28+Ocarina+%29+OUT+SOON+ON+ITUNES&limit=10&offset=0&type=track:\n",
      " Not found., reason: None\n",
      "http status: 404, code:-1 - https://api.spotify.com/v1/search?q=artist%3Adimitrivegasandlikemike+track%3ADimitri+Vegas+%26+Like+Mike+ft+Wolfpack+%26+Katy+B+-+Find+Tomorrow+%28+Ocarina+%29+OUT+SOON+ON+ITUNES&limit=10&offset=0&type=track:\n",
      " Not found., reason: None\n"
     ]
    },
    {
     "name": "stderr",
     "output_type": "stream",
     "text": [
      "HTTP Error for GET to https://api.spotify.com/v1/search with Params: {'q': 'artist:Anderex 🛸 track:Noisecontrollers - Gimme Love (Anderex Bootleg) *SUPPORT FROM NOISECONTROLLERS & ATMOZFEARS*', 'limit': 10, 'offset': 0, 'type': 'track', 'market': None} returned 404 due to Not found.\n",
      "HTTP Error for GET to https://api.spotify.com/v1/search with Params: {'q': 'artist:Anderex 🛸 track:Noisecontrollers - Gimme Love (Anderex Bootleg) *SUPPORT FROM NOISECONTROLLERS & ATMOZFEARS*', 'limit': 10, 'offset': 0, 'type': 'track', 'market': None} returned 404 due to Not found.\n"
     ]
    },
    {
     "name": "stdout",
     "output_type": "stream",
     "text": [
      "http status: 404, code:-1 - https://api.spotify.com/v1/search?q=artist%3AAnderex+%F0%9F%9B%B8+track%3ANoisecontrollers+-+Gimme+Love+%28Anderex+Bootleg%29+%2ASUPPORT+FROM+NOISECONTROLLERS+%26+ATMOZFEARS%2A&limit=10&offset=0&type=track:\n",
      " Not found., reason: None\n",
      "http status: 404, code:-1 - https://api.spotify.com/v1/search?q=artist%3AAnderex+%F0%9F%9B%B8+track%3ANoisecontrollers+-+Gimme+Love+%28Anderex+Bootleg%29+%2ASUPPORT+FROM+NOISECONTROLLERS+%26+ATMOZFEARS%2A&limit=10&offset=0&type=track:\n",
      " Not found., reason: None\n"
     ]
    },
    {
     "name": "stderr",
     "output_type": "stream",
     "text": [
      "HTTP Error for GET to https://api.spotify.com/v1/search with Params: {'q': 'artist:Javier penna track:Elton John - Dua Lipa - Cold Heart (PNAU Javier Penna Extended Remix)FREE24BIT48HZ MASTER FINAL', 'limit': 10, 'offset': 0, 'type': 'track', 'market': None} returned 404 due to Not found.\n",
      "HTTP Error for GET to https://api.spotify.com/v1/search with Params: {'q': 'artist:Javier penna track:Elton John - Dua Lipa - Cold Heart (PNAU Javier Penna Extended Remix)FREE24BIT48HZ MASTER FINAL', 'limit': 10, 'offset': 0, 'type': 'track', 'market': None} returned 404 due to Not found.\n"
     ]
    },
    {
     "name": "stdout",
     "output_type": "stream",
     "text": [
      "http status: 404, code:-1 - https://api.spotify.com/v1/search?q=artist%3AJavier+penna+track%3AElton+John+-+Dua+Lipa+-+Cold+Heart+%28PNAU+Javier+Penna+Extended+Remix%29FREE24BIT48HZ+MASTER+FINAL&limit=10&offset=0&type=track:\n",
      " Not found., reason: None\n",
      "http status: 404, code:-1 - https://api.spotify.com/v1/search?q=artist%3AJavier+penna+track%3AElton+John+-+Dua+Lipa+-+Cold+Heart+%28PNAU+Javier+Penna+Extended+Remix%29FREE24BIT48HZ+MASTER+FINAL&limit=10&offset=0&type=track:\n",
      " Not found., reason: None\n"
     ]
    },
    {
     "name": "stderr",
     "output_type": "stream",
     "text": [
      "HTTP Error for GET to https://api.spotify.com/v1/search with Params: {'q': 'artist:Dj Ahmed track:DVBBS_&_GATTÜSO_-_Leave_The_World_Behind_feat._Alida_(Visualizer)_[Ultra_Music](360p).m4a', 'limit': 10, 'offset': 0, 'type': 'track', 'market': None} returned 404 due to Not found.\n",
      "HTTP Error for GET to https://api.spotify.com/v1/search with Params: {'q': 'artist:Dj Ahmed track:DVBBS_&_GATTÜSO_-_Leave_The_World_Behind_feat._Alida_(Visualizer)_[Ultra_Music](360p).m4a', 'limit': 10, 'offset': 0, 'type': 'track', 'market': None} returned 404 due to Not found.\n"
     ]
    },
    {
     "name": "stdout",
     "output_type": "stream",
     "text": [
      "http status: 404, code:-1 - https://api.spotify.com/v1/search?q=artist%3ADj+Ahmed+track%3ADVBBS_%26_GATTU%CC%88SO_-_Leave_The_World_Behind_feat._Alida_%28Visualizer%29_%5BUltra_Music%5D%28360p%29.m4a&limit=10&offset=0&type=track:\n",
      " Not found., reason: None\n",
      "http status: 404, code:-1 - https://api.spotify.com/v1/search?q=artist%3ADj+Ahmed+track%3ADVBBS_%26_GATTU%CC%88SO_-_Leave_The_World_Behind_feat._Alida_%28Visualizer%29_%5BUltra_Music%5D%28360p%29.m4a&limit=10&offset=0&type=track:\n",
      " Not found., reason: None\n"
     ]
    },
    {
     "name": "stderr",
     "output_type": "stream",
     "text": [
      "HTTP Error for GET to https://api.spotify.com/v1/search with Params: {'q': \"artist:Axtone track:The Aston Shuffle vs Tommy Trash - Sunrise (Won't Get Lost) (Tommy Trash Version)\", 'limit': 10, 'offset': 0, 'type': 'track', 'market': None} returned 404 due to Not found.\n",
      "HTTP Error for GET to https://api.spotify.com/v1/search with Params: {'q': \"artist:Axtone track:The Aston Shuffle vs Tommy Trash - Sunrise (Won't Get Lost) (Tommy Trash Version)\", 'limit': 10, 'offset': 0, 'type': 'track', 'market': None} returned 404 due to Not found.\n"
     ]
    },
    {
     "name": "stdout",
     "output_type": "stream",
     "text": [
      "http status: 404, code:-1 - https://api.spotify.com/v1/search?q=artist%3AAxtone+track%3AThe+Aston+Shuffle+vs+Tommy+Trash+-+Sunrise+%28Won%27t+Get+Lost%29+%28Tommy+Trash+Version%29&limit=10&offset=0&type=track:\n",
      " Not found., reason: None\n",
      "http status: 404, code:-1 - https://api.spotify.com/v1/search?q=artist%3AAxtone+track%3AThe+Aston+Shuffle+vs+Tommy+Trash+-+Sunrise+%28Won%27t+Get+Lost%29+%28Tommy+Trash+Version%29&limit=10&offset=0&type=track:\n",
      " Not found., reason: None\n"
     ]
    },
    {
     "name": "stderr",
     "output_type": "stream",
     "text": [
      "HTTP Error for GET to https://api.spotify.com/v1/search with Params: {'q': 'artist:Underdog Records track:Protohype - See The Light Again (Feat. Meredith Bull) [EDM.com Premiere]', 'limit': 10, 'offset': 0, 'type': 'track', 'market': None} returned 404 due to Not found.\n",
      "HTTP Error for GET to https://api.spotify.com/v1/search with Params: {'q': 'artist:Underdog Records track:Protohype - See The Light Again (Feat. Meredith Bull) [EDM.com Premiere]', 'limit': 10, 'offset': 0, 'type': 'track', 'market': None} returned 404 due to Not found.\n"
     ]
    },
    {
     "name": "stdout",
     "output_type": "stream",
     "text": [
      "http status: 404, code:-1 - https://api.spotify.com/v1/search?q=artist%3AUnderdog+Records+track%3AProtohype+-+See+The+Light+Again+%28Feat.+Meredith+Bull%29+%5BEDM.com+Premiere%5D&limit=10&offset=0&type=track:\n",
      " Not found., reason: None\n",
      "http status: 404, code:-1 - https://api.spotify.com/v1/search?q=artist%3AUnderdog+Records+track%3AProtohype+-+See+The+Light+Again+%28Feat.+Meredith+Bull%29+%5BEDM.com+Premiere%5D&limit=10&offset=0&type=track:\n",
      " Not found., reason: None\n",
      "'NoneType' object does not support item assignment\n",
      "Memories (feat. Kid Cudi) - 2021 Remix David Guetta 59o6ojGNGJOYiVJSzC6Lsa\n"
     ]
    },
    {
     "ename": "KeyError",
     "evalue": "'id'",
     "output_type": "error",
     "traceback": [
      "\u001b[0;31m---------------------------------------------------------------------------\u001b[0m",
      "\u001b[0;31mKeyError\u001b[0m                                  Traceback (most recent call last)",
      "\u001b[1;32m/Users/eli/github/soundcloud/get_liked_songs.ipynb Cell 7'\u001b[0m in \u001b[0;36m<cell line: 2>\u001b[0;34m()\u001b[0m\n\u001b[1;32m      <a href='vscode-notebook-cell:/Users/eli/github/soundcloud/get_liked_songs.ipynb#ch0000006?line=2'>3</a>\u001b[0m count \u001b[39m+\u001b[39m\u001b[39m=\u001b[39m \u001b[39m1\u001b[39m\n\u001b[1;32m      <a href='vscode-notebook-cell:/Users/eli/github/soundcloud/get_liked_songs.ipynb#ch0000006?line=3'>4</a>\u001b[0m spotify_features \u001b[39m=\u001b[39m sp\u001b[39m.\u001b[39mget_features(like[\u001b[39m'\u001b[39m\u001b[39mtitle\u001b[39m\u001b[39m'\u001b[39m], like[\u001b[39m'\u001b[39m\u001b[39martist\u001b[39m\u001b[39m'\u001b[39m])\n\u001b[0;32m----> <a href='vscode-notebook-cell:/Users/eli/github/soundcloud/get_liked_songs.ipynb#ch0000006?line=4'>5</a>\u001b[0m like[\u001b[39m'\u001b[39m\u001b[39mspotify_track_id\u001b[39m\u001b[39m'\u001b[39m] \u001b[39m=\u001b[39m spotify_features[\u001b[39m'\u001b[39;49m\u001b[39mid\u001b[39;49m\u001b[39m'\u001b[39;49m]\n\u001b[1;32m      <a href='vscode-notebook-cell:/Users/eli/github/soundcloud/get_liked_songs.ipynb#ch0000006?line=5'>6</a>\u001b[0m like[\u001b[39m'\u001b[39m\u001b[39macousticness\u001b[39m\u001b[39m'\u001b[39m] \u001b[39m=\u001b[39m spotify_features[\u001b[39m'\u001b[39m\u001b[39macousticness\u001b[39m\u001b[39m'\u001b[39m]\n\u001b[1;32m      <a href='vscode-notebook-cell:/Users/eli/github/soundcloud/get_liked_songs.ipynb#ch0000006?line=6'>7</a>\u001b[0m like[\u001b[39m'\u001b[39m\u001b[39mdanceability\u001b[39m\u001b[39m'\u001b[39m] \u001b[39m=\u001b[39m spotify_features[\u001b[39m'\u001b[39m\u001b[39mdanceability\u001b[39m\u001b[39m'\u001b[39m]\n",
      "\u001b[0;31mKeyError\u001b[0m: 'id'"
     ]
    }
   ],
   "source": [
    "\n",
    "count = 0\n",
    "for like in likes_attributes:\n",
    "    count += 1\n",
    "    spotify_features = sp.get_features(like['title'], like['artist'])\n",
    "    like['spotify_track_id'] = spotify_features['id']\n",
    "    like['acousticness'] = spotify_features['acousticness']\n",
    "    like['danceability'] = spotify_features['danceability']\n",
    "    like['energy'] = spotify_features['energy']\n",
    "    like['instrumentalness'] = spotify_features['instrumentalness']\n",
    "    like['key'] = spotify_features['key']\n",
    "    like['liveness'] = spotify_features['liveness']\n",
    "    like['loudness'] = spotify_features['loudness']\n",
    "    like['mode'] = spotify_features['mode']\n",
    "    like['tempo'] = spotify_features['tempo']\n",
    "    like['time_signature'] = spotify_features['time_signature']\n",
    "    like['valence'] = spotify_features['valence']\n"
   ]
  },
  {
   "cell_type": "code",
   "execution_count": null,
   "metadata": {},
   "outputs": [],
   "source": [
    "with open('liked_songs7_05_22.json', 'w') as fp:\n",
    "    json.dump(likes_attributes, fp, indent=4, sort_keys=True, default = str)"
   ]
  },
  {
   "cell_type": "code",
   "execution_count": 6,
   "metadata": {},
   "outputs": [
    {
     "name": "stdout",
     "output_type": "stream",
     "text": [
      "None\n"
     ]
    }
   ],
   "source": [
    "x = None\n",
    "test_dict = {}\n",
    "test_dict['test_key'] = x\n",
    "print(test_dict['test_key'])"
   ]
  },
  {
   "cell_type": "code",
   "execution_count": null,
   "metadata": {},
   "outputs": [],
   "source": []
  }
 ],
 "metadata": {
  "interpreter": {
   "hash": "31f2aee4e71d21fbe5cf8b01ff0e069b9275f58929596ceb00d14d90e3e16cd6"
  },
  "kernelspec": {
   "display_name": "Python 3.8.9 64-bit",
   "language": "python",
   "name": "python3"
  },
  "language_info": {
   "codemirror_mode": {
    "name": "ipython",
    "version": 3
   },
   "file_extension": ".py",
   "mimetype": "text/x-python",
   "name": "python",
   "nbconvert_exporter": "python",
   "pygments_lexer": "ipython3",
   "version": "3.8.9"
  },
  "orig_nbformat": 4
 },
 "nbformat": 4,
 "nbformat_minor": 2
}
