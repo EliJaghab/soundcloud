{
 "cells": [
  {
   "cell_type": "code",
   "execution_count": 1,
   "metadata": {},
   "outputs": [],
   "source": [
    "import json\n",
    "from soundcloud import SoundCloud"
   ]
  },
  {
   "cell_type": "code",
   "execution_count": 2,
   "metadata": {},
   "outputs": [],
   "source": [
    "sc = SoundCloud(\"ZA68dFpqtNM36uKAmylwTlo5n0KjJ140\", \"2-293488-62408522-LPj8q4Jqxfkhq3A\")\n",
    "assert sc.is_client_id_valid()\n",
    "assert sc.is_auth_token_valid()\n",
    "me = sc.get_user_by_username(\"elijaghab\")\n",
    "assert me.permalink == \"elijaghab\""
   ]
  },
  {
   "cell_type": "code",
   "execution_count": 3,
   "metadata": {},
   "outputs": [],
   "source": [
    "first_result = next(sc.search_users(\"Eli Jaghab\"))\n",
    "my_user_id = first_result.id\n",
    "object = sc.get_user_likes(my_user_id)\n",
    "likes = [x for x in object]"
   ]
  },
  {
   "cell_type": "code",
   "execution_count": 5,
   "metadata": {},
   "outputs": [],
   "source": [
    "likes_attributes = []\n",
    "for like in likes:\n",
    "    like_entry = {}\n",
    "    try:\n",
    "        like_entry['date_liked'] = like.created_at\n",
    "        like_entry['comment_count'] = like.track.comment_count\n",
    "        like_entry['date_created'] = like.track.created_at\n",
    "        like_entry['download_count'] = like.track.download_count\n",
    "        like_entry['raw_duration'] = like.track.duration\n",
    "        like_entry['genre'] = like.track.genre\n",
    "        like_entry['raw_full_duration'] = like.track.full_duration\n",
    "        like_entry['id'] = like.track.id\n",
    "        like_entry['kind'] = like.track.kind \n",
    "        like_entry['label_name'] = like.track.label_name\n",
    "        like_entry['last_modified'] = like.track.last_modified\n",
    "        like_entry['likes_count'] = like.track.likes_count\n",
    "        like_entry['playback_count'] = like.track.playback_count\n",
    "        like_entry['release_date'] = like.track.release_date\n",
    "        like_entry['reposts_count'] = like.track.reposts_count\n",
    "        like_entry['station_permalink'] = like.track.station_permalink\n",
    "        like_entry['title'] = like.track.title\n",
    "        like_entry['artist'] = like.track.user.username\n",
    "        like_entry['artist_followers'] = like.track.user.followers_count\n",
    "        like_entry['city'] = like.track.user.city\n",
    "        like_entry['country_code'] = like.track.user.country_code\n",
    "    except AttributeError:\n",
    "        continue\n",
    "    likes_attributes.append(like_entry)"
   ]
  },
  {
   "cell_type": "code",
   "execution_count": 1,
   "metadata": {},
   "outputs": [],
   "source": [
    "import pickle\n",
    "\n",
    "with open('likes_attributes.pkl', 'rb') as f:\n",
    "    likes_attributes = pickle.load(f)"
   ]
  },
  {
   "cell_type": "code",
   "execution_count": 2,
   "metadata": {},
   "outputs": [],
   "source": [
    "from utils.spotify import Spotify\n",
    "sp = Spotify()"
   ]
  },
  {
   "cell_type": "code",
   "execution_count": 3,
   "metadata": {},
   "outputs": [
    {
     "name": "stderr",
     "output_type": "stream",
     "text": [
      "HTTP Error for GET to https://api.spotify.com/v1/search with Params: {'q': 'artist:Ayush Jain track:Pandemonium Tribute Version - Mondays Feat Hanna Stone Dag Lundberg Acoustic Group[Mp3Converter.net]', 'limit': 10, 'offset': 0, 'type': 'track', 'market': None} returned 404 due to Not found.\n",
      "HTTP Error for GET to https://api.spotify.com/v1/search with Params: {'q': 'artist:Ayush Jain track:Pandemonium Tribute Version - Mondays Feat Hanna Stone Dag Lundberg Acoustic Group[Mp3Converter.net]', 'limit': 10, 'offset': 0, 'type': 'track', 'market': None} returned 404 due to Not found.\n"
     ]
    },
    {
     "name": "stdout",
     "output_type": "stream",
     "text": [
      "http status: 404, code:-1 - https://api.spotify.com/v1/search?q=artist%3AAyush+Jain+track%3APandemonium+Tribute+Version+-+Mondays+Feat+Hanna+Stone+Dag+Lundberg+Acoustic+Group%5BMp3Converter.net%5D&limit=10&offset=0&type=track:\n",
      " Not found., reason: None\n",
      "http status: 404, code:-1 - https://api.spotify.com/v1/search?q=artist%3AAyush+Jain+track%3APandemonium+Tribute+Version+-+Mondays+Feat+Hanna+Stone+Dag+Lundberg+Acoustic+Group%5BMp3Converter.net%5D&limit=10&offset=0&type=track:\n",
      " Not found., reason: None\n"
     ]
    },
    {
     "name": "stderr",
     "output_type": "stream",
     "text": [
      "HTTP Error for GET to https://api.spotify.com/v1/search with Params: {'q': 'artist:dimitrivegasandlikemike track:Dimitri Vegas & Like Mike ft Wolfpack & Katy B - Find Tomorrow ( Ocarina ) OUT SOON ON ITUNES', 'limit': 10, 'offset': 0, 'type': 'track', 'market': None} returned 404 due to Not found.\n",
      "HTTP Error for GET to https://api.spotify.com/v1/search with Params: {'q': 'artist:dimitrivegasandlikemike track:Dimitri Vegas & Like Mike ft Wolfpack & Katy B - Find Tomorrow ( Ocarina ) OUT SOON ON ITUNES', 'limit': 10, 'offset': 0, 'type': 'track', 'market': None} returned 404 due to Not found.\n"
     ]
    },
    {
     "name": "stdout",
     "output_type": "stream",
     "text": [
      "http status: 404, code:-1 - https://api.spotify.com/v1/search?q=artist%3Adimitrivegasandlikemike+track%3ADimitri+Vegas+%26+Like+Mike+ft+Wolfpack+%26+Katy+B+-+Find+Tomorrow+%28+Ocarina+%29+OUT+SOON+ON+ITUNES&limit=10&offset=0&type=track:\n",
      " Not found., reason: None\n",
      "http status: 404, code:-1 - https://api.spotify.com/v1/search?q=artist%3Adimitrivegasandlikemike+track%3ADimitri+Vegas+%26+Like+Mike+ft+Wolfpack+%26+Katy+B+-+Find+Tomorrow+%28+Ocarina+%29+OUT+SOON+ON+ITUNES&limit=10&offset=0&type=track:\n",
      " Not found., reason: None\n"
     ]
    },
    {
     "name": "stderr",
     "output_type": "stream",
     "text": [
      "HTTP Error for GET to https://api.spotify.com/v1/search with Params: {'q': 'artist:Anderex 🛸 track:Noisecontrollers - Gimme Love (Anderex Bootleg) *SUPPORT FROM NOISECONTROLLERS & ATMOZFEARS*', 'limit': 10, 'offset': 0, 'type': 'track', 'market': None} returned 404 due to Not found.\n",
      "HTTP Error for GET to https://api.spotify.com/v1/search with Params: {'q': 'artist:Anderex 🛸 track:Noisecontrollers - Gimme Love (Anderex Bootleg) *SUPPORT FROM NOISECONTROLLERS & ATMOZFEARS*', 'limit': 10, 'offset': 0, 'type': 'track', 'market': None} returned 404 due to Not found.\n"
     ]
    },
    {
     "name": "stdout",
     "output_type": "stream",
     "text": [
      "http status: 404, code:-1 - https://api.spotify.com/v1/search?q=artist%3AAnderex+%F0%9F%9B%B8+track%3ANoisecontrollers+-+Gimme+Love+%28Anderex+Bootleg%29+%2ASUPPORT+FROM+NOISECONTROLLERS+%26+ATMOZFEARS%2A&limit=10&offset=0&type=track:\n",
      " Not found., reason: None\n",
      "http status: 404, code:-1 - https://api.spotify.com/v1/search?q=artist%3AAnderex+%F0%9F%9B%B8+track%3ANoisecontrollers+-+Gimme+Love+%28Anderex+Bootleg%29+%2ASUPPORT+FROM+NOISECONTROLLERS+%26+ATMOZFEARS%2A&limit=10&offset=0&type=track:\n",
      " Not found., reason: None\n"
     ]
    },
    {
     "name": "stderr",
     "output_type": "stream",
     "text": [
      "HTTP Error for GET to https://api.spotify.com/v1/search with Params: {'q': 'artist:Javier penna track:Elton John - Dua Lipa - Cold Heart (PNAU Javier Penna Extended Remix)FREE24BIT48HZ MASTER FINAL', 'limit': 10, 'offset': 0, 'type': 'track', 'market': None} returned 404 due to Not found.\n",
      "HTTP Error for GET to https://api.spotify.com/v1/search with Params: {'q': 'artist:Javier penna track:Elton John - Dua Lipa - Cold Heart (PNAU Javier Penna Extended Remix)FREE24BIT48HZ MASTER FINAL', 'limit': 10, 'offset': 0, 'type': 'track', 'market': None} returned 404 due to Not found.\n"
     ]
    },
    {
     "name": "stdout",
     "output_type": "stream",
     "text": [
      "http status: 404, code:-1 - https://api.spotify.com/v1/search?q=artist%3AJavier+penna+track%3AElton+John+-+Dua+Lipa+-+Cold+Heart+%28PNAU+Javier+Penna+Extended+Remix%29FREE24BIT48HZ+MASTER+FINAL&limit=10&offset=0&type=track:\n",
      " Not found., reason: None\n",
      "http status: 404, code:-1 - https://api.spotify.com/v1/search?q=artist%3AJavier+penna+track%3AElton+John+-+Dua+Lipa+-+Cold+Heart+%28PNAU+Javier+Penna+Extended+Remix%29FREE24BIT48HZ+MASTER+FINAL&limit=10&offset=0&type=track:\n",
      " Not found., reason: None\n"
     ]
    },
    {
     "name": "stderr",
     "output_type": "stream",
     "text": [
      "HTTP Error for GET to https://api.spotify.com/v1/search with Params: {'q': 'artist:Dj Ahmed track:DVBBS_&_GATTÜSO_-_Leave_The_World_Behind_feat._Alida_(Visualizer)_[Ultra_Music](360p).m4a', 'limit': 10, 'offset': 0, 'type': 'track', 'market': None} returned 404 due to Not found.\n",
      "HTTP Error for GET to https://api.spotify.com/v1/search with Params: {'q': 'artist:Dj Ahmed track:DVBBS_&_GATTÜSO_-_Leave_The_World_Behind_feat._Alida_(Visualizer)_[Ultra_Music](360p).m4a', 'limit': 10, 'offset': 0, 'type': 'track', 'market': None} returned 404 due to Not found.\n"
     ]
    },
    {
     "name": "stdout",
     "output_type": "stream",
     "text": [
      "http status: 404, code:-1 - https://api.spotify.com/v1/search?q=artist%3ADj+Ahmed+track%3ADVBBS_%26_GATTU%CC%88SO_-_Leave_The_World_Behind_feat._Alida_%28Visualizer%29_%5BUltra_Music%5D%28360p%29.m4a&limit=10&offset=0&type=track:\n",
      " Not found., reason: None\n",
      "http status: 404, code:-1 - https://api.spotify.com/v1/search?q=artist%3ADj+Ahmed+track%3ADVBBS_%26_GATTU%CC%88SO_-_Leave_The_World_Behind_feat._Alida_%28Visualizer%29_%5BUltra_Music%5D%28360p%29.m4a&limit=10&offset=0&type=track:\n",
      " Not found., reason: None\n"
     ]
    },
    {
     "name": "stderr",
     "output_type": "stream",
     "text": [
      "HTTP Error for GET to https://api.spotify.com/v1/search with Params: {'q': \"artist:Axtone track:The Aston Shuffle vs Tommy Trash - Sunrise (Won't Get Lost) (Tommy Trash Version)\", 'limit': 10, 'offset': 0, 'type': 'track', 'market': None} returned 404 due to Not found.\n",
      "HTTP Error for GET to https://api.spotify.com/v1/search with Params: {'q': \"artist:Axtone track:The Aston Shuffle vs Tommy Trash - Sunrise (Won't Get Lost) (Tommy Trash Version)\", 'limit': 10, 'offset': 0, 'type': 'track', 'market': None} returned 404 due to Not found.\n"
     ]
    },
    {
     "name": "stdout",
     "output_type": "stream",
     "text": [
      "http status: 404, code:-1 - https://api.spotify.com/v1/search?q=artist%3AAxtone+track%3AThe+Aston+Shuffle+vs+Tommy+Trash+-+Sunrise+%28Won%27t+Get+Lost%29+%28Tommy+Trash+Version%29&limit=10&offset=0&type=track:\n",
      " Not found., reason: None\n",
      "http status: 404, code:-1 - https://api.spotify.com/v1/search?q=artist%3AAxtone+track%3AThe+Aston+Shuffle+vs+Tommy+Trash+-+Sunrise+%28Won%27t+Get+Lost%29+%28Tommy+Trash+Version%29&limit=10&offset=0&type=track:\n",
      " Not found., reason: None\n"
     ]
    },
    {
     "name": "stderr",
     "output_type": "stream",
     "text": [
      "HTTP Error for GET to https://api.spotify.com/v1/search with Params: {'q': 'artist:Underdog Records track:Protohype - See The Light Again (Feat. Meredith Bull) [EDM.com Premiere]', 'limit': 10, 'offset': 0, 'type': 'track', 'market': None} returned 404 due to Not found.\n",
      "HTTP Error for GET to https://api.spotify.com/v1/search with Params: {'q': 'artist:Underdog Records track:Protohype - See The Light Again (Feat. Meredith Bull) [EDM.com Premiere]', 'limit': 10, 'offset': 0, 'type': 'track', 'market': None} returned 404 due to Not found.\n"
     ]
    },
    {
     "name": "stdout",
     "output_type": "stream",
     "text": [
      "http status: 404, code:-1 - https://api.spotify.com/v1/search?q=artist%3AUnderdog+Records+track%3AProtohype+-+See+The+Light+Again+%28Feat.+Meredith+Bull%29+%5BEDM.com+Premiere%5D&limit=10&offset=0&type=track:\n",
      " Not found., reason: None\n",
      "http status: 404, code:-1 - https://api.spotify.com/v1/search?q=artist%3AUnderdog+Records+track%3AProtohype+-+See+The+Light+Again+%28Feat.+Meredith+Bull%29+%5BEDM.com+Premiere%5D&limit=10&offset=0&type=track:\n",
      " Not found., reason: None\n"
     ]
    },
    {
     "name": "stderr",
     "output_type": "stream",
     "text": [
      "HTTP Error for GET to https://api.spotify.com/v1/search with Params: {'q': 'artist:League of Legends track:Legends Never Die [Alan Walker Remix] | Worlds 2017 - League of Legends', 'limit': 10, 'offset': 0, 'type': 'track', 'market': None} returned 404 due to Not found.\n",
      "HTTP Error for GET to https://api.spotify.com/v1/search with Params: {'q': 'artist:League of Legends track:Legends Never Die [Alan Walker Remix] | Worlds 2017 - League of Legends', 'limit': 10, 'offset': 0, 'type': 'track', 'market': None} returned 404 due to Not found.\n",
      "HTTP Error for GET to https://api.spotify.com/v1/search with Params: {'q': 'artist:Smash The House track:Dimitri Vegas & Like Mike Vs Ummet Ozcan & Brennan Heart - Beast (All as One)', 'limit': 10, 'offset': 0, 'type': 'track', 'market': None} returned 404 due to Not found.\n"
     ]
    },
    {
     "name": "stdout",
     "output_type": "stream",
     "text": [
      "http status: 404, code:-1 - https://api.spotify.com/v1/search?q=artist%3ALeague+of+Legends+track%3ALegends+Never+Die+%5BAlan+Walker+Remix%5D+%7C+Worlds+2017+-+League+of+Legends&limit=10&offset=0&type=track:\n",
      " Not found., reason: None\n",
      "http status: 404, code:-1 - https://api.spotify.com/v1/search?q=artist%3ALeague+of+Legends+track%3ALegends+Never+Die+%5BAlan+Walker+Remix%5D+%7C+Worlds+2017+-+League+of+Legends&limit=10&offset=0&type=track:\n",
      " Not found., reason: None\n",
      "http status: 404, code:-1 - https://api.spotify.com/v1/search?q=artist%3ASmash+The+House+track%3ADimitri+Vegas+%26+Like+Mike+Vs+Ummet+Ozcan+%26+Brennan+Heart+-+Beast+%28All+as+One%29&limit=10&offset=0&type=track:\n",
      " Not found., reason: None\n"
     ]
    },
    {
     "name": "stderr",
     "output_type": "stream",
     "text": [
      "HTTP Error for GET to https://api.spotify.com/v1/search with Params: {'q': 'artist:Smash The House track:Dimitri Vegas & Like Mike Vs Ummet Ozcan & Brennan Heart - Beast (All as One)', 'limit': 10, 'offset': 0, 'type': 'track', 'market': None} returned 404 due to Not found.\n"
     ]
    },
    {
     "name": "stdout",
     "output_type": "stream",
     "text": [
      "http status: 404, code:-1 - https://api.spotify.com/v1/search?q=artist%3ASmash+The+House+track%3ADimitri+Vegas+%26+Like+Mike+Vs+Ummet+Ozcan+%26+Brennan+Heart+-+Beast+%28All+as+One%29&limit=10&offset=0&type=track:\n",
      " Not found., reason: None\n"
     ]
    },
    {
     "name": "stderr",
     "output_type": "stream",
     "text": [
      "HTTP Error for GET to https://api.spotify.com/v1/search with Params: {'q': 'artist:KNY FΛCTORY track:EIFFEL 65-BLUE (KNY FACTORY-TRAP REMIX) FREE DOWNLOAD 2021 IS AVAILABLE NOW!!!!', 'limit': 10, 'offset': 0, 'type': 'track', 'market': None} returned 404 due to Not found.\n",
      "HTTP Error for GET to https://api.spotify.com/v1/search with Params: {'q': 'artist:KNY FΛCTORY track:EIFFEL 65-BLUE (KNY FACTORY-TRAP REMIX) FREE DOWNLOAD 2021 IS AVAILABLE NOW!!!!', 'limit': 10, 'offset': 0, 'type': 'track', 'market': None} returned 404 due to Not found.\n"
     ]
    },
    {
     "name": "stdout",
     "output_type": "stream",
     "text": [
      "http status: 404, code:-1 - https://api.spotify.com/v1/search?q=artist%3AKNY+F%CE%9BCTORY+track%3AEIFFEL+65-BLUE+%28KNY+FACTORY-TRAP+REMIX%29+FREE+DOWNLOAD+2021+IS+AVAILABLE+NOW%21%21%21%21&limit=10&offset=0&type=track:\n",
      " Not found., reason: None\n",
      "http status: 404, code:-1 - https://api.spotify.com/v1/search?q=artist%3AKNY+F%CE%9BCTORY+track%3AEIFFEL+65-BLUE+%28KNY+FACTORY-TRAP+REMIX%29+FREE+DOWNLOAD+2021+IS+AVAILABLE+NOW%21%21%21%21&limit=10&offset=0&type=track:\n",
      " Not found., reason: None\n"
     ]
    },
    {
     "name": "stderr",
     "output_type": "stream",
     "text": [
      "HTTP Error for GET to https://api.spotify.com/v1/search with Params: {'q': \"artist:Spinnin' Records track:Afrojack - All Night (feat. Ally Brooke) [Marc Benjamin Remix] [OUT NOW]\", 'limit': 10, 'offset': 0, 'type': 'track', 'market': None} returned 404 due to Not found.\n",
      "HTTP Error for GET to https://api.spotify.com/v1/search with Params: {'q': \"artist:Spinnin' Records track:Afrojack - All Night (feat. Ally Brooke) [Marc Benjamin Remix] [OUT NOW]\", 'limit': 10, 'offset': 0, 'type': 'track', 'market': None} returned 404 due to Not found.\n"
     ]
    },
    {
     "name": "stdout",
     "output_type": "stream",
     "text": [
      "http status: 404, code:-1 - https://api.spotify.com/v1/search?q=artist%3ASpinnin%27+Records+track%3AAfrojack+-+All+Night+%28feat.+Ally+Brooke%29+%5BMarc+Benjamin+Remix%5D+%5BOUT+NOW%5D&limit=10&offset=0&type=track:\n",
      " Not found., reason: None\n",
      "http status: 404, code:-1 - https://api.spotify.com/v1/search?q=artist%3ASpinnin%27+Records+track%3AAfrojack+-+All+Night+%28feat.+Ally+Brooke%29+%5BMarc+Benjamin+Remix%5D+%5BOUT+NOW%5D&limit=10&offset=0&type=track:\n",
      " Not found., reason: None\n"
     ]
    },
    {
     "name": "stderr",
     "output_type": "stream",
     "text": [
      "HTTP Error for GET to https://api.spotify.com/v1/search with Params: {'q': 'artist:Above & Beyond track:Above & Beyond feat. Richard Bedford - Bittersweet & Blue (Above & Beyond Club Mix)', 'limit': 10, 'offset': 0, 'type': 'track', 'market': None} returned 404 due to Not found.\n",
      "HTTP Error for GET to https://api.spotify.com/v1/search with Params: {'q': 'artist:Above & Beyond track:Above & Beyond feat. Richard Bedford - Bittersweet & Blue (Above & Beyond Club Mix)', 'limit': 10, 'offset': 0, 'type': 'track', 'market': None} returned 404 due to Not found.\n"
     ]
    },
    {
     "name": "stdout",
     "output_type": "stream",
     "text": [
      "http status: 404, code:-1 - https://api.spotify.com/v1/search?q=artist%3AAbove+%26+Beyond+track%3AAbove+%26+Beyond+feat.+Richard+Bedford+-+Bittersweet+%26+Blue+%28Above+%26+Beyond+Club+Mix%29&limit=10&offset=0&type=track:\n",
      " Not found., reason: None\n",
      "http status: 404, code:-1 - https://api.spotify.com/v1/search?q=artist%3AAbove+%26+Beyond+track%3AAbove+%26+Beyond+feat.+Richard+Bedford+-+Bittersweet+%26+Blue+%28Above+%26+Beyond+Club+Mix%29&limit=10&offset=0&type=track:\n",
      " Not found., reason: None\n"
     ]
    },
    {
     "name": "stderr",
     "output_type": "stream",
     "text": [
      "HTTP Error for GET to https://api.spotify.com/v1/search with Params: {'q': 'artist:GOTHBOICLIQUE track:Lil Tracy & Lil Peep - Your Favorite Dress (Prod Lederrick, BigHead & SouljahWitch)', 'limit': 10, 'offset': 0, 'type': 'track', 'market': None} returned 404 due to Not found.\n",
      "HTTP Error for GET to https://api.spotify.com/v1/search with Params: {'q': 'artist:GOTHBOICLIQUE track:Lil Tracy & Lil Peep - Your Favorite Dress (Prod Lederrick, BigHead & SouljahWitch)', 'limit': 10, 'offset': 0, 'type': 'track', 'market': None} returned 404 due to Not found.\n"
     ]
    },
    {
     "name": "stdout",
     "output_type": "stream",
     "text": [
      "http status: 404, code:-1 - https://api.spotify.com/v1/search?q=artist%3AGOTHBOICLIQUE+track%3ALil+Tracy+%26+Lil+Peep+-+Your+Favorite+Dress+%28Prod+Lederrick%2C+BigHead+%26+SouljahWitch%29&limit=10&offset=0&type=track:\n",
      " Not found., reason: None\n",
      "http status: 404, code:-1 - https://api.spotify.com/v1/search?q=artist%3AGOTHBOICLIQUE+track%3ALil+Tracy+%26+Lil+Peep+-+Your+Favorite+Dress+%28Prod+Lederrick%2C+BigHead+%26+SouljahWitch%29&limit=10&offset=0&type=track:\n",
      " Not found., reason: None\n"
     ]
    },
    {
     "name": "stderr",
     "output_type": "stream",
     "text": [
      "HTTP Error for GET to https://api.spotify.com/v1/search with Params: {'q': \"artist:Swedish House Mafia track:Swedish House Mafia - Don't You Worry Child (Radio Edit) [feat. John Martin]\", 'limit': 10, 'offset': 0, 'type': 'track', 'market': None} returned 404 due to Not found.\n",
      "HTTP Error for GET to https://api.spotify.com/v1/search with Params: {'q': \"artist:Swedish House Mafia track:Swedish House Mafia - Don't You Worry Child (Radio Edit) [feat. John Martin]\", 'limit': 10, 'offset': 0, 'type': 'track', 'market': None} returned 404 due to Not found.\n"
     ]
    },
    {
     "name": "stdout",
     "output_type": "stream",
     "text": [
      "http status: 404, code:-1 - https://api.spotify.com/v1/search?q=artist%3ASwedish+House+Mafia+track%3ASwedish+House+Mafia+-+Don%27t+You+Worry+Child+%28Radio+Edit%29+%5Bfeat.+John+Martin%5D&limit=10&offset=0&type=track:\n",
      " Not found., reason: None\n",
      "http status: 404, code:-1 - https://api.spotify.com/v1/search?q=artist%3ASwedish+House+Mafia+track%3ASwedish+House+Mafia+-+Don%27t+You+Worry+Child+%28Radio+Edit%29+%5Bfeat.+John+Martin%5D&limit=10&offset=0&type=track:\n",
      " Not found., reason: None\n"
     ]
    },
    {
     "name": "stderr",
     "output_type": "stream",
     "text": [
      "HTTP Error for GET to https://api.spotify.com/v1/search with Params: {'q': \"artist:Big Beat Records track:Sebastian feat Mayer Hawthorne 'Love In Motion' (Skrillex's Funkt-Out Mix)\", 'limit': 10, 'offset': 0, 'type': 'track', 'market': None} returned 404 due to Not found.\n",
      "HTTP Error for GET to https://api.spotify.com/v1/search with Params: {'q': \"artist:Big Beat Records track:Sebastian feat Mayer Hawthorne 'Love In Motion' (Skrillex's Funkt-Out Mix)\", 'limit': 10, 'offset': 0, 'type': 'track', 'market': None} returned 404 due to Not found.\n"
     ]
    },
    {
     "name": "stdout",
     "output_type": "stream",
     "text": [
      "http status: 404, code:-1 - https://api.spotify.com/v1/search?q=artist%3ABig+Beat+Records+track%3ASebastian+feat+Mayer+Hawthorne+%27Love+In+Motion%27+%28Skrillex%27s+Funkt-Out+Mix%29&limit=10&offset=0&type=track:\n",
      " Not found., reason: None\n",
      "http status: 404, code:-1 - https://api.spotify.com/v1/search?q=artist%3ABig+Beat+Records+track%3ASebastian+feat+Mayer+Hawthorne+%27Love+In+Motion%27+%28Skrillex%27s+Funkt-Out+Mix%29&limit=10&offset=0&type=track:\n",
      " Not found., reason: None\n"
     ]
    },
    {
     "name": "stderr",
     "output_type": "stream",
     "text": [
      "HTTP Error for GET to https://api.spotify.com/v1/search with Params: {'q': 'artist:Matoma track:Bruised Not Broken (feat. MNEK & Kiana Ledé) [Fedde Le Grand Remix] (Fedde Le Grand Remix)', 'limit': 10, 'offset': 0, 'type': 'track', 'market': None} returned 404 due to Not found.\n",
      "HTTP Error for GET to https://api.spotify.com/v1/search with Params: {'q': 'artist:Matoma track:Bruised Not Broken (feat. MNEK & Kiana Ledé) [Fedde Le Grand Remix] (Fedde Le Grand Remix)', 'limit': 10, 'offset': 0, 'type': 'track', 'market': None} returned 404 due to Not found.\n"
     ]
    },
    {
     "name": "stdout",
     "output_type": "stream",
     "text": [
      "http status: 404, code:-1 - https://api.spotify.com/v1/search?q=artist%3AMatoma+track%3ABruised+Not+Broken+%28feat.+MNEK+%26+Kiana+Led%C3%A9%29+%5BFedde+Le+Grand+Remix%5D+%28Fedde+Le+Grand+Remix%29&limit=10&offset=0&type=track:\n",
      " Not found., reason: None\n",
      "http status: 404, code:-1 - https://api.spotify.com/v1/search?q=artist%3AMatoma+track%3ABruised+Not+Broken+%28feat.+MNEK+%26+Kiana+Led%C3%A9%29+%5BFedde+Le+Grand+Remix%5D+%28Fedde+Le+Grand+Remix%29&limit=10&offset=0&type=track:\n",
      " Not found., reason: None\n"
     ]
    },
    {
     "name": "stderr",
     "output_type": "stream",
     "text": [
      "HTTP Error for GET to https://api.spotify.com/v1/search with Params: {'q': 'artist:Seven Lions track:Above & Beyond And Seven Lions Feat. Opposite The Other - See The End (Anjunabeats)', 'limit': 10, 'offset': 0, 'type': 'track', 'market': None} returned 404 due to Not found.\n",
      "HTTP Error for GET to https://api.spotify.com/v1/search with Params: {'q': 'artist:Seven Lions track:Above & Beyond And Seven Lions Feat. Opposite The Other - See The End (Anjunabeats)', 'limit': 10, 'offset': 0, 'type': 'track', 'market': None} returned 404 due to Not found.\n"
     ]
    },
    {
     "name": "stdout",
     "output_type": "stream",
     "text": [
      "http status: 404, code:-1 - https://api.spotify.com/v1/search?q=artist%3ASeven+Lions+track%3AAbove+%26+Beyond+And+Seven+Lions+Feat.+Opposite+The+Other+-+See+The+End+%28Anjunabeats%29&limit=10&offset=0&type=track:\n",
      " Not found., reason: None\n",
      "http status: 404, code:-1 - https://api.spotify.com/v1/search?q=artist%3ASeven+Lions+track%3AAbove+%26+Beyond+And+Seven+Lions+Feat.+Opposite+The+Other+-+See+The+End+%28Anjunabeats%29&limit=10&offset=0&type=track:\n",
      " Not found., reason: None\n"
     ]
    },
    {
     "name": "stderr",
     "output_type": "stream",
     "text": [
      "HTTP Error for GET to https://api.spotify.com/v1/search with Params: {'q': 'artist:Dreamville track:Costa Rica ft. Bas, JID, Guapdad 4000, Reese LAFLARE, Jace, Mez, Smokepurpp, Buddy, and Ski Mask', 'limit': 10, 'offset': 0, 'type': 'track', 'market': None} returned 404 due to Not found.\n",
      "HTTP Error for GET to https://api.spotify.com/v1/search with Params: {'q': 'artist:Dreamville track:Costa Rica ft. Bas, JID, Guapdad 4000, Reese LAFLARE, Jace, Mez, Smokepurpp, Buddy, and Ski Mask', 'limit': 10, 'offset': 0, 'type': 'track', 'market': None} returned 404 due to Not found.\n"
     ]
    },
    {
     "name": "stdout",
     "output_type": "stream",
     "text": [
      "http status: 404, code:-1 - https://api.spotify.com/v1/search?q=artist%3ADreamville+track%3ACosta+Rica+ft.+Bas%2C+JID%2C+Guapdad+4000%2C+Reese+LAFLARE%2C+Jace%2C+Mez%2C+Smokepurpp%2C+Buddy%2C+and+Ski+Mask&limit=10&offset=0&type=track:\n",
      " Not found., reason: None\n",
      "http status: 404, code:-1 - https://api.spotify.com/v1/search?q=artist%3ADreamville+track%3ACosta+Rica+ft.+Bas%2C+JID%2C+Guapdad+4000%2C+Reese+LAFLARE%2C+Jace%2C+Mez%2C+Smokepurpp%2C+Buddy%2C+and+Ski+Mask&limit=10&offset=0&type=track:\n",
      " Not found., reason: None\n"
     ]
    },
    {
     "name": "stderr",
     "output_type": "stream",
     "text": [
      "HTTP Error for GET to https://api.spotify.com/v1/search with Params: {'q': 'artist:marshmello track:Marshmello & Amr Diab- Bayen Habeit \"In Love\" عمرو دياب Marshmello - باين حبيت', 'limit': 10, 'offset': 0, 'type': 'track', 'market': None} returned 404 due to Not found.\n",
      "HTTP Error for GET to https://api.spotify.com/v1/search with Params: {'q': 'artist:marshmello track:Marshmello & Amr Diab- Bayen Habeit \"In Love\" عمرو دياب Marshmello - باين حبيت', 'limit': 10, 'offset': 0, 'type': 'track', 'market': None} returned 404 due to Not found.\n"
     ]
    },
    {
     "name": "stdout",
     "output_type": "stream",
     "text": [
      "http status: 404, code:-1 - https://api.spotify.com/v1/search?q=artist%3Amarshmello+track%3AMarshmello+%26+Amr+Diab-+Bayen+Habeit+%22In+Love%22+%D8%B9%D9%85%D8%B1%D9%88+%D8%AF%D9%8A%D8%A7%D8%A8+Marshmello+-+%D8%A8%D8%A7%D9%8A%D9%86+%D8%AD%D8%A8%D9%8A%D8%AA&limit=10&offset=0&type=track:\n",
      " Not found., reason: None\n",
      "http status: 404, code:-1 - https://api.spotify.com/v1/search?q=artist%3Amarshmello+track%3AMarshmello+%26+Amr+Diab-+Bayen+Habeit+%22In+Love%22+%D8%B9%D9%85%D8%B1%D9%88+%D8%AF%D9%8A%D8%A7%D8%A8+Marshmello+-+%D8%A8%D8%A7%D9%8A%D9%86+%D8%AD%D8%A8%D9%8A%D8%AA&limit=10&offset=0&type=track:\n",
      " Not found., reason: None\n"
     ]
    },
    {
     "name": "stderr",
     "output_type": "stream",
     "text": [
      "HTTP Error for GET to https://api.spotify.com/v1/search with Params: {'q': 'artist:Martin Garrix track:Martin Garrix feat. Macklemore & Patrick Stump of Fall Out Boy - Summer Days', 'limit': 10, 'offset': 0, 'type': 'track', 'market': None} returned 404 due to Not found.\n",
      "HTTP Error for GET to https://api.spotify.com/v1/search with Params: {'q': 'artist:Martin Garrix track:Martin Garrix feat. Macklemore & Patrick Stump of Fall Out Boy - Summer Days', 'limit': 10, 'offset': 0, 'type': 'track', 'market': None} returned 404 due to Not found.\n"
     ]
    },
    {
     "name": "stdout",
     "output_type": "stream",
     "text": [
      "http status: 404, code:-1 - https://api.spotify.com/v1/search?q=artist%3AMartin+Garrix+track%3AMartin+Garrix+feat.+Macklemore+%26+Patrick+Stump+of+Fall+Out+Boy+-+Summer+Days&limit=10&offset=0&type=track:\n",
      " Not found., reason: None\n",
      "http status: 404, code:-1 - https://api.spotify.com/v1/search?q=artist%3AMartin+Garrix+track%3AMartin+Garrix+feat.+Macklemore+%26+Patrick+Stump+of+Fall+Out+Boy+-+Summer+Days&limit=10&offset=0&type=track:\n",
      " Not found., reason: None\n"
     ]
    },
    {
     "name": "stderr",
     "output_type": "stream",
     "text": [
      "HTTP Error for GET to https://api.spotify.com/v1/search with Params: {'q': 'artist:Tommy Trash track:Sebastian Ingrosso, Tommy Trash & John Martin - Reload (Vocal Version / Radio Edit)', 'limit': 10, 'offset': 0, 'type': 'track', 'market': None} returned 404 due to Not found.\n",
      "HTTP Error for GET to https://api.spotify.com/v1/search with Params: {'q': 'artist:Tommy Trash track:Sebastian Ingrosso, Tommy Trash & John Martin - Reload (Vocal Version / Radio Edit)', 'limit': 10, 'offset': 0, 'type': 'track', 'market': None} returned 404 due to Not found.\n"
     ]
    },
    {
     "name": "stdout",
     "output_type": "stream",
     "text": [
      "http status: 404, code:-1 - https://api.spotify.com/v1/search?q=artist%3ATommy+Trash+track%3ASebastian+Ingrosso%2C+Tommy+Trash+%26+John+Martin+-+Reload+%28Vocal+Version+%2F+Radio+Edit%29&limit=10&offset=0&type=track:\n",
      " Not found., reason: None\n",
      "http status: 404, code:-1 - https://api.spotify.com/v1/search?q=artist%3ATommy+Trash+track%3ASebastian+Ingrosso%2C+Tommy+Trash+%26+John+Martin+-+Reload+%28Vocal+Version+%2F+Radio+Edit%29&limit=10&offset=0&type=track:\n",
      " Not found., reason: None\n"
     ]
    },
    {
     "name": "stderr",
     "output_type": "stream",
     "text": [
      "HTTP Error for GET to https://api.spotify.com/v1/search with Params: {'q': 'artist:Mike WiLL Made-It track:Mike WiLL Made-It, Rae Sremmurd, Big Sean - Aries (YuGo) Part 2 [feat. Quavo & Pharrell]', 'limit': 10, 'offset': 0, 'type': 'track', 'market': None} returned 404 due to Not found.\n",
      "HTTP Error for GET to https://api.spotify.com/v1/search with Params: {'q': 'artist:Mike WiLL Made-It track:Mike WiLL Made-It, Rae Sremmurd, Big Sean - Aries (YuGo) Part 2 [feat. Quavo & Pharrell]', 'limit': 10, 'offset': 0, 'type': 'track', 'market': None} returned 404 due to Not found.\n"
     ]
    },
    {
     "name": "stdout",
     "output_type": "stream",
     "text": [
      "http status: 404, code:-1 - https://api.spotify.com/v1/search?q=artist%3AMike+WiLL+Made-It+track%3AMike+WiLL+Made-It%2C+Rae+Sremmurd%2C+Big+Sean+-+Aries+%28YuGo%29+Part+2+%5Bfeat.+Quavo+%26+Pharrell%5D&limit=10&offset=0&type=track:\n",
      " Not found., reason: None\n",
      "http status: 404, code:-1 - https://api.spotify.com/v1/search?q=artist%3AMike+WiLL+Made-It+track%3AMike+WiLL+Made-It%2C+Rae+Sremmurd%2C+Big+Sean+-+Aries+%28YuGo%29+Part+2+%5Bfeat.+Quavo+%26+Pharrell%5D&limit=10&offset=0&type=track:\n",
      " Not found., reason: None\n"
     ]
    },
    {
     "name": "stderr",
     "output_type": "stream",
     "text": [
      "HTTP Error for GET to https://api.spotify.com/v1/search with Params: {'q': 'artist:lil skies track:Lil Skies & Yung Pinch - I Know You (prod. by Taz Taylor, Dez Wright, & Pharaoh Vice)', 'limit': 10, 'offset': 0, 'type': 'track', 'market': None} returned 404 due to Not found.\n",
      "HTTP Error for GET to https://api.spotify.com/v1/search with Params: {'q': 'artist:lil skies track:Lil Skies & Yung Pinch - I Know You (prod. by Taz Taylor, Dez Wright, & Pharaoh Vice)', 'limit': 10, 'offset': 0, 'type': 'track', 'market': None} returned 404 due to Not found.\n"
     ]
    },
    {
     "name": "stdout",
     "output_type": "stream",
     "text": [
      "http status: 404, code:-1 - https://api.spotify.com/v1/search?q=artist%3Alil+skies+track%3ALil+Skies+%26+Yung+Pinch+-+I+Know+You+%28prod.+by+Taz+Taylor%2C+Dez+Wright%2C+%26+Pharaoh+Vice%29&limit=10&offset=0&type=track:\n",
      " Not found., reason: None\n",
      "http status: 404, code:-1 - https://api.spotify.com/v1/search?q=artist%3Alil+skies+track%3ALil+Skies+%26+Yung+Pinch+-+I+Know+You+%28prod.+by+Taz+Taylor%2C+Dez+Wright%2C+%26+Pharaoh+Vice%29&limit=10&offset=0&type=track:\n",
      " Not found., reason: None\n"
     ]
    },
    {
     "name": "stderr",
     "output_type": "stream",
     "text": [
      "HTTP Error for GET to https://api.spotify.com/v1/search with Params: {'q': 'artist:Mike WiLL Made-It track:Mike WiLL Made-It - Perfect Pint (feat. Kendrick Lamar, Gucci Mane & Rae Sremmurd)', 'limit': 10, 'offset': 0, 'type': 'track', 'market': None} returned 404 due to Not found.\n",
      "HTTP Error for GET to https://api.spotify.com/v1/search with Params: {'q': 'artist:Mike WiLL Made-It track:Mike WiLL Made-It - Perfect Pint (feat. Kendrick Lamar, Gucci Mane & Rae Sremmurd)', 'limit': 10, 'offset': 0, 'type': 'track', 'market': None} returned 404 due to Not found.\n"
     ]
    },
    {
     "name": "stdout",
     "output_type": "stream",
     "text": [
      "http status: 404, code:-1 - https://api.spotify.com/v1/search?q=artist%3AMike+WiLL+Made-It+track%3AMike+WiLL+Made-It+-+Perfect+Pint+%28feat.+Kendrick+Lamar%2C+Gucci+Mane+%26+Rae+Sremmurd%29&limit=10&offset=0&type=track:\n",
      " Not found., reason: None\n",
      "http status: 404, code:-1 - https://api.spotify.com/v1/search?q=artist%3AMike+WiLL+Made-It+track%3AMike+WiLL+Made-It+-+Perfect+Pint+%28feat.+Kendrick+Lamar%2C+Gucci+Mane+%26+Rae+Sremmurd%29&limit=10&offset=0&type=track:\n",
      " Not found., reason: None\n"
     ]
    },
    {
     "name": "stderr",
     "output_type": "stream",
     "text": [
      "HTTP Error for GET to https://api.spotify.com/v1/search with Params: {'q': 'artist:Jugglerz track:Major Lazer ft. Nasty C, Ice Prince, Patoranking & Jidenna - Particula [Jugglerz Remix]', 'limit': 10, 'offset': 0, 'type': 'track', 'market': None} returned 404 due to Not found.\n",
      "HTTP Error for GET to https://api.spotify.com/v1/search with Params: {'q': 'artist:Jugglerz track:Major Lazer ft. Nasty C, Ice Prince, Patoranking & Jidenna - Particula [Jugglerz Remix]', 'limit': 10, 'offset': 0, 'type': 'track', 'market': None} returned 404 due to Not found.\n"
     ]
    },
    {
     "name": "stdout",
     "output_type": "stream",
     "text": [
      "http status: 404, code:-1 - https://api.spotify.com/v1/search?q=artist%3AJugglerz+track%3AMajor+Lazer+ft.+Nasty+C%2C+Ice+Prince%2C+Patoranking+%26+Jidenna+-+Particula+%5BJugglerz+Remix%5D&limit=10&offset=0&type=track:\n",
      " Not found., reason: None\n",
      "http status: 404, code:-1 - https://api.spotify.com/v1/search?q=artist%3AJugglerz+track%3AMajor+Lazer+ft.+Nasty+C%2C+Ice+Prince%2C+Patoranking+%26+Jidenna+-+Particula+%5BJugglerz+Remix%5D&limit=10&offset=0&type=track:\n",
      " Not found., reason: None\n"
     ]
    },
    {
     "name": "stderr",
     "output_type": "stream",
     "text": [
      "HTTP Error for GET to https://api.spotify.com/v1/search with Params: {'q': 'artist:ASAPMob track:Walk On Water (feat. A$AP Twelvyy, A$AP Ant, A$AP Nast, A$AP Ferg & Playboi Carti)', 'limit': 10, 'offset': 0, 'type': 'track', 'market': None} returned 404 due to Not found.\n",
      "HTTP Error for GET to https://api.spotify.com/v1/search with Params: {'q': 'artist:ASAPMob track:Walk On Water (feat. A$AP Twelvyy, A$AP Ant, A$AP Nast, A$AP Ferg & Playboi Carti)', 'limit': 10, 'offset': 0, 'type': 'track', 'market': None} returned 404 due to Not found.\n"
     ]
    },
    {
     "name": "stdout",
     "output_type": "stream",
     "text": [
      "http status: 404, code:-1 - https://api.spotify.com/v1/search?q=artist%3AASAPMob+track%3AWalk+On+Water+%28feat.+A%24AP+Twelvyy%2C+A%24AP+Ant%2C+A%24AP+Nast%2C+A%24AP+Ferg+%26+Playboi+Carti%29&limit=10&offset=0&type=track:\n",
      " Not found., reason: None\n",
      "http status: 404, code:-1 - https://api.spotify.com/v1/search?q=artist%3AASAPMob+track%3AWalk+On+Water+%28feat.+A%24AP+Twelvyy%2C+A%24AP+Ant%2C+A%24AP+Nast%2C+A%24AP+Ferg+%26+Playboi+Carti%29&limit=10&offset=0&type=track:\n",
      " Not found., reason: None\n"
     ]
    },
    {
     "name": "stderr",
     "output_type": "stream",
     "text": [
      "HTTP Error for GET to https://api.spotify.com/v1/search with Params: {'q': 'artist:Protocol Recordings track:Sultan + Ned Shepard vs. The Boxer Rebellion - Keep Moving (OUT NOW)', 'limit': 10, 'offset': 0, 'type': 'track', 'market': None} returned 404 due to Not found.\n",
      "HTTP Error for GET to https://api.spotify.com/v1/search with Params: {'q': 'artist:Protocol Recordings track:Sultan + Ned Shepard vs. The Boxer Rebellion - Keep Moving (OUT NOW)', 'limit': 10, 'offset': 0, 'type': 'track', 'market': None} returned 404 due to Not found.\n"
     ]
    },
    {
     "name": "stdout",
     "output_type": "stream",
     "text": [
      "http status: 404, code:-1 - https://api.spotify.com/v1/search?q=artist%3AProtocol+Recordings+track%3ASultan+%2B+Ned+Shepard+vs.+The+Boxer+Rebellion+-+Keep+Moving+%28OUT+NOW%29&limit=10&offset=0&type=track:\n",
      " Not found., reason: None\n",
      "http status: 404, code:-1 - https://api.spotify.com/v1/search?q=artist%3AProtocol+Recordings+track%3ASultan+%2B+Ned+Shepard+vs.+The+Boxer+Rebellion+-+Keep+Moving+%28OUT+NOW%29&limit=10&offset=0&type=track:\n",
      " Not found., reason: None\n"
     ]
    },
    {
     "name": "stderr",
     "output_type": "stream",
     "text": [
      "HTTP Error for GET to https://api.spotify.com/v1/search with Params: {'q': 'artist:PnB Rock track:PnB Rock, Kodak Black & A Boogie – Horses (from The Fate of the Furious: The Album) [OFFICIAL AUDIO]', 'limit': 10, 'offset': 0, 'type': 'track', 'market': None} returned 404 due to Not found.\n",
      "HTTP Error for GET to https://api.spotify.com/v1/search with Params: {'q': 'artist:PnB Rock track:PnB Rock, Kodak Black & A Boogie – Horses (from The Fate of the Furious: The Album) [OFFICIAL AUDIO]', 'limit': 10, 'offset': 0, 'type': 'track', 'market': None} returned 404 due to Not found.\n"
     ]
    },
    {
     "name": "stdout",
     "output_type": "stream",
     "text": [
      "http status: 404, code:-1 - https://api.spotify.com/v1/search?q=artist%3APnB+Rock+track%3APnB+Rock%2C+Kodak+Black+%26+A+Boogie+%E2%80%93+Horses+%28from+The+Fate+of+the+Furious%3A+The+Album%29+%5BOFFICIAL+AUDIO%5D&limit=10&offset=0&type=track:\n",
      " Not found., reason: None\n",
      "http status: 404, code:-1 - https://api.spotify.com/v1/search?q=artist%3APnB+Rock+track%3APnB+Rock%2C+Kodak+Black+%26+A+Boogie+%E2%80%93+Horses+%28from+The+Fate+of+the+Furious%3A+The+Album%29+%5BOFFICIAL+AUDIO%5D&limit=10&offset=0&type=track:\n",
      " Not found., reason: None\n"
     ]
    },
    {
     "name": "stderr",
     "output_type": "stream",
     "text": [
      "HTTP Error for GET to https://api.spotify.com/v1/search with Params: {'q': 'artist:Oliver Heldens track:Tiësto, Oliver Heldens - The Right Song (Mike Williams Remix) [feat. Natalie La Rose]', 'limit': 10, 'offset': 0, 'type': 'track', 'market': None} returned 404 due to Not found.\n",
      "HTTP Error for GET to https://api.spotify.com/v1/search with Params: {'q': 'artist:Oliver Heldens track:Tiësto, Oliver Heldens - The Right Song (Mike Williams Remix) [feat. Natalie La Rose]', 'limit': 10, 'offset': 0, 'type': 'track', 'market': None} returned 404 due to Not found.\n"
     ]
    },
    {
     "name": "stdout",
     "output_type": "stream",
     "text": [
      "http status: 404, code:-1 - https://api.spotify.com/v1/search?q=artist%3AOliver+Heldens+track%3ATi%C3%ABsto%2C+Oliver+Heldens+-+The+Right+Song+%28Mike+Williams+Remix%29+%5Bfeat.+Natalie+La+Rose%5D&limit=10&offset=0&type=track:\n",
      " Not found., reason: None\n",
      "http status: 404, code:-1 - https://api.spotify.com/v1/search?q=artist%3AOliver+Heldens+track%3ATi%C3%ABsto%2C+Oliver+Heldens+-+The+Right+Song+%28Mike+Williams+Remix%29+%5Bfeat.+Natalie+La+Rose%5D&limit=10&offset=0&type=track:\n",
      " Not found., reason: None\n"
     ]
    },
    {
     "name": "stderr",
     "output_type": "stream",
     "text": [
      "HTTP Error for GET to https://api.spotify.com/v1/search with Params: {'q': 'artist:Lucas & Steve track:Lucas & Steve X Firebeatz Ft. Little Giants - Keep Your Head Up (Club Mix)', 'limit': 10, 'offset': 0, 'type': 'track', 'market': None} returned 404 due to Not found.\n",
      "HTTP Error for GET to https://api.spotify.com/v1/search with Params: {'q': 'artist:Lucas & Steve track:Lucas & Steve X Firebeatz Ft. Little Giants - Keep Your Head Up (Club Mix)', 'limit': 10, 'offset': 0, 'type': 'track', 'market': None} returned 404 due to Not found.\n"
     ]
    },
    {
     "name": "stdout",
     "output_type": "stream",
     "text": [
      "http status: 404, code:-1 - https://api.spotify.com/v1/search?q=artist%3ALucas+%26+Steve+track%3ALucas+%26+Steve+X+Firebeatz+Ft.+Little+Giants+-+Keep+Your+Head+Up+%28Club+Mix%29&limit=10&offset=0&type=track:\n",
      " Not found., reason: None\n",
      "http status: 404, code:-1 - https://api.spotify.com/v1/search?q=artist%3ALucas+%26+Steve+track%3ALucas+%26+Steve+X+Firebeatz+Ft.+Little+Giants+-+Keep+Your+Head+Up+%28Club+Mix%29&limit=10&offset=0&type=track:\n",
      " Not found., reason: None\n"
     ]
    },
    {
     "name": "stderr",
     "output_type": "stream",
     "text": [
      "HTTP Error for GET to https://api.spotify.com/v1/search with Params: {'q': 'artist:Alan Walker track:Alan Walker, Noah Cyrus & Digital Farm Animals feat. Juliander - All Falls Down', 'limit': 10, 'offset': 0, 'type': 'track', 'market': None} returned 404 due to Not found.\n",
      "HTTP Error for GET to https://api.spotify.com/v1/search with Params: {'q': 'artist:Alan Walker track:Alan Walker, Noah Cyrus & Digital Farm Animals feat. Juliander - All Falls Down', 'limit': 10, 'offset': 0, 'type': 'track', 'market': None} returned 404 due to Not found.\n"
     ]
    },
    {
     "name": "stdout",
     "output_type": "stream",
     "text": [
      "http status: 404, code:-1 - https://api.spotify.com/v1/search?q=artist%3AAlan+Walker+track%3AAlan+Walker%2C+Noah+Cyrus+%26+Digital+Farm+Animals+feat.+Juliander+-+All+Falls+Down&limit=10&offset=0&type=track:\n",
      " Not found., reason: None\n",
      "http status: 404, code:-1 - https://api.spotify.com/v1/search?q=artist%3AAlan+Walker+track%3AAlan+Walker%2C+Noah+Cyrus+%26+Digital+Farm+Animals+feat.+Juliander+-+All+Falls+Down&limit=10&offset=0&type=track:\n",
      " Not found., reason: None\n"
     ]
    },
    {
     "name": "stderr",
     "output_type": "stream",
     "text": [
      "HTTP Error for GET to https://api.spotify.com/v1/search with Params: {'q': \"artist:Out Soon on Spinnin' Records track:Lucas & Steve X Firebeatz Ft. Little Giants - Keep Your Head Up (Preview)  [OUT NOW]\", 'limit': 10, 'offset': 0, 'type': 'track', 'market': None} returned 404 due to Not found.\n",
      "HTTP Error for GET to https://api.spotify.com/v1/search with Params: {'q': \"artist:Out Soon on Spinnin' Records track:Lucas & Steve X Firebeatz Ft. Little Giants - Keep Your Head Up (Preview)  [OUT NOW]\", 'limit': 10, 'offset': 0, 'type': 'track', 'market': None} returned 404 due to Not found.\n"
     ]
    },
    {
     "name": "stdout",
     "output_type": "stream",
     "text": [
      "http status: 404, code:-1 - https://api.spotify.com/v1/search?q=artist%3AOut+Soon+on+Spinnin%27+Records+track%3ALucas+%26+Steve+X+Firebeatz+Ft.+Little+Giants+-+Keep+Your+Head+Up+%28Preview%29++%5BOUT+NOW%5D&limit=10&offset=0&type=track:\n",
      " Not found., reason: None\n",
      "http status: 404, code:-1 - https://api.spotify.com/v1/search?q=artist%3AOut+Soon+on+Spinnin%27+Records+track%3ALucas+%26+Steve+X+Firebeatz+Ft.+Little+Giants+-+Keep+Your+Head+Up+%28Preview%29++%5BOUT+NOW%5D&limit=10&offset=0&type=track:\n",
      " Not found., reason: None\n"
     ]
    },
    {
     "name": "stderr",
     "output_type": "stream",
     "text": [
      "HTTP Error for GET to https://api.spotify.com/v1/search with Params: {'q': 'artist:Major Lazer track:Mr Eazi & Major Lazer - Leg Over (Remix) [feat. French Montana & Ty Dolla $ign]', 'limit': 10, 'offset': 0, 'type': 'track', 'market': None} returned 404 due to Not found.\n",
      "HTTP Error for GET to https://api.spotify.com/v1/search with Params: {'q': 'artist:Major Lazer track:Mr Eazi & Major Lazer - Leg Over (Remix) [feat. French Montana & Ty Dolla $ign]', 'limit': 10, 'offset': 0, 'type': 'track', 'market': None} returned 404 due to Not found.\n"
     ]
    },
    {
     "name": "stdout",
     "output_type": "stream",
     "text": [
      "http status: 404, code:-1 - https://api.spotify.com/v1/search?q=artist%3AMajor+Lazer+track%3AMr+Eazi+%26+Major+Lazer+-+Leg+Over+%28Remix%29+%5Bfeat.+French+Montana+%26+Ty+Dolla+%24ign%5D&limit=10&offset=0&type=track:\n",
      " Not found., reason: None\n",
      "http status: 404, code:-1 - https://api.spotify.com/v1/search?q=artist%3AMajor+Lazer+track%3AMr+Eazi+%26+Major+Lazer+-+Leg+Over+%28Remix%29+%5Bfeat.+French+Montana+%26+Ty+Dolla+%24ign%5D&limit=10&offset=0&type=track:\n",
      " Not found., reason: None\n"
     ]
    },
    {
     "name": "stderr",
     "output_type": "stream",
     "text": [
      "HTTP Error for GET to https://api.spotify.com/v1/search with Params: {'q': 'artist:Kulture track:Migos Feat. Young Thug - \"Clientele\" (Prod. by Metro Boomin & Zaytoven) (Official Audio)', 'limit': 10, 'offset': 0, 'type': 'track', 'market': None} returned 404 due to Not found.\n",
      "HTTP Error for GET to https://api.spotify.com/v1/search with Params: {'q': 'artist:Kulture track:Migos Feat. Young Thug - \"Clientele\" (Prod. by Metro Boomin & Zaytoven) (Official Audio)', 'limit': 10, 'offset': 0, 'type': 'track', 'market': None} returned 404 due to Not found.\n"
     ]
    },
    {
     "name": "stdout",
     "output_type": "stream",
     "text": [
      "http status: 404, code:-1 - https://api.spotify.com/v1/search?q=artist%3AKulture+track%3AMigos+Feat.+Young+Thug+-+%22Clientele%22+%28Prod.+by+Metro+Boomin+%26+Zaytoven%29+%28Official+Audio%29&limit=10&offset=0&type=track:\n",
      " Not found., reason: None\n",
      "http status: 404, code:-1 - https://api.spotify.com/v1/search?q=artist%3AKulture+track%3AMigos+Feat.+Young+Thug+-+%22Clientele%22+%28Prod.+by+Metro+Boomin+%26+Zaytoven%29+%28Official+Audio%29&limit=10&offset=0&type=track:\n",
      " Not found., reason: None\n"
     ]
    },
    {
     "name": "stderr",
     "output_type": "stream",
     "text": [
      "HTTP Error for GET to https://api.spotify.com/v1/search with Params: {'q': 'artist:Major Lazer track:Major Lazer - Night Riders (feat. Travi$ Scott, 2 Chainz, Pusha T, & Mad Cobra)', 'limit': 10, 'offset': 0, 'type': 'track', 'market': None} returned 404 due to Not found.\n",
      "HTTP Error for GET to https://api.spotify.com/v1/search with Params: {'q': 'artist:Major Lazer track:Major Lazer - Night Riders (feat. Travi$ Scott, 2 Chainz, Pusha T, & Mad Cobra)', 'limit': 10, 'offset': 0, 'type': 'track', 'market': None} returned 404 due to Not found.\n"
     ]
    },
    {
     "name": "stdout",
     "output_type": "stream",
     "text": [
      "http status: 404, code:-1 - https://api.spotify.com/v1/search?q=artist%3AMajor+Lazer+track%3AMajor+Lazer+-+Night+Riders+%28feat.+Travi%24+Scott%2C+2+Chainz%2C+Pusha+T%2C+%26+Mad+Cobra%29&limit=10&offset=0&type=track:\n",
      " Not found., reason: None\n",
      "http status: 404, code:-1 - https://api.spotify.com/v1/search?q=artist%3AMajor+Lazer+track%3AMajor+Lazer+-+Night+Riders+%28feat.+Travi%24+Scott%2C+2+Chainz%2C+Pusha+T%2C+%26+Mad+Cobra%29&limit=10&offset=0&type=track:\n",
      " Not found., reason: None\n"
     ]
    },
    {
     "name": "stderr",
     "output_type": "stream",
     "text": [
      "HTTP Error for GET to https://api.spotify.com/v1/search with Params: {'q': 'artist:Metro Boomin track:Travi$ Scott- 3500 (feat. Future & 2 Chainz) [Prod. By Metro Boomin, Zaytoven, & Mike Dean]', 'limit': 10, 'offset': 0, 'type': 'track', 'market': None} returned 404 due to Not found.\n",
      "HTTP Error for GET to https://api.spotify.com/v1/search with Params: {'q': 'artist:Metro Boomin track:Travi$ Scott- 3500 (feat. Future & 2 Chainz) [Prod. By Metro Boomin, Zaytoven, & Mike Dean]', 'limit': 10, 'offset': 0, 'type': 'track', 'market': None} returned 404 due to Not found.\n"
     ]
    },
    {
     "name": "stdout",
     "output_type": "stream",
     "text": [
      "http status: 404, code:-1 - https://api.spotify.com/v1/search?q=artist%3AMetro+Boomin+track%3ATravi%24+Scott-+3500+%28feat.+Future+%26+2+Chainz%29+%5BProd.+By+Metro+Boomin%2C+Zaytoven%2C+%26+Mike+Dean%5D&limit=10&offset=0&type=track:\n",
      " Not found., reason: None\n",
      "http status: 404, code:-1 - https://api.spotify.com/v1/search?q=artist%3AMetro+Boomin+track%3ATravi%24+Scott-+3500+%28feat.+Future+%26+2+Chainz%29+%5BProd.+By+Metro+Boomin%2C+Zaytoven%2C+%26+Mike+Dean%5D&limit=10&offset=0&type=track:\n",
      " Not found., reason: None\n"
     ]
    },
    {
     "name": "stderr",
     "output_type": "stream",
     "text": [
      "HTTP Error for GET to https://api.spotify.com/v1/search with Params: {'q': \"artist:Out Soon on Spinnin' Records track:Lucas & Steve X Mike Williams X Curbi - Let's Go (Preview) [OUT NOW]\", 'limit': 10, 'offset': 0, 'type': 'track', 'market': None} returned 404 due to Not found.\n",
      "HTTP Error for GET to https://api.spotify.com/v1/search with Params: {'q': \"artist:Out Soon on Spinnin' Records track:Lucas & Steve X Mike Williams X Curbi - Let's Go (Preview) [OUT NOW]\", 'limit': 10, 'offset': 0, 'type': 'track', 'market': None} returned 404 due to Not found.\n"
     ]
    },
    {
     "name": "stdout",
     "output_type": "stream",
     "text": [
      "http status: 404, code:-1 - https://api.spotify.com/v1/search?q=artist%3AOut+Soon+on+Spinnin%27+Records+track%3ALucas+%26+Steve+X+Mike+Williams+X+Curbi+-+Let%27s+Go+%28Preview%29+%5BOUT+NOW%5D&limit=10&offset=0&type=track:\n",
      " Not found., reason: None\n",
      "http status: 404, code:-1 - https://api.spotify.com/v1/search?q=artist%3AOut+Soon+on+Spinnin%27+Records+track%3ALucas+%26+Steve+X+Mike+Williams+X+Curbi+-+Let%27s+Go+%28Preview%29+%5BOUT+NOW%5D&limit=10&offset=0&type=track:\n",
      " Not found., reason: None\n"
     ]
    },
    {
     "name": "stderr",
     "output_type": "stream",
     "text": [
      "HTTP Error for GET to https://api.spotify.com/v1/search with Params: {'q': \"artist:Spinnin' Records track:Bassjackers X Lucas & Steve feat. Caroline Pennell  - These Heights [OUT NOW]\", 'limit': 10, 'offset': 0, 'type': 'track', 'market': None} returned 404 due to Not found.\n",
      "HTTP Error for GET to https://api.spotify.com/v1/search with Params: {'q': \"artist:Spinnin' Records track:Bassjackers X Lucas & Steve feat. Caroline Pennell  - These Heights [OUT NOW]\", 'limit': 10, 'offset': 0, 'type': 'track', 'market': None} returned 404 due to Not found.\n"
     ]
    },
    {
     "name": "stdout",
     "output_type": "stream",
     "text": [
      "http status: 404, code:-1 - https://api.spotify.com/v1/search?q=artist%3ASpinnin%27+Records+track%3ABassjackers+X+Lucas+%26+Steve+feat.+Caroline+Pennell++-+These+Heights+%5BOUT+NOW%5D&limit=10&offset=0&type=track:\n",
      " Not found., reason: None\n",
      "http status: 404, code:-1 - https://api.spotify.com/v1/search?q=artist%3ASpinnin%27+Records+track%3ABassjackers+X+Lucas+%26+Steve+feat.+Caroline+Pennell++-+These+Heights+%5BOUT+NOW%5D&limit=10&offset=0&type=track:\n",
      " Not found., reason: None\n"
     ]
    },
    {
     "name": "stderr",
     "output_type": "stream",
     "text": [
      "HTTP Error for GET to https://api.spotify.com/v1/search with Params: {'q': \"artist:Spinnin' Records track:Breathe Carolina & Dropgun Ft. Kaleena Zanders - Rhythm Is A Dancer [OUT NOW]\", 'limit': 10, 'offset': 0, 'type': 'track', 'market': None} returned 404 due to Not found.\n",
      "HTTP Error for GET to https://api.spotify.com/v1/search with Params: {'q': \"artist:Spinnin' Records track:Breathe Carolina & Dropgun Ft. Kaleena Zanders - Rhythm Is A Dancer [OUT NOW]\", 'limit': 10, 'offset': 0, 'type': 'track', 'market': None} returned 404 due to Not found.\n"
     ]
    },
    {
     "name": "stdout",
     "output_type": "stream",
     "text": [
      "http status: 404, code:-1 - https://api.spotify.com/v1/search?q=artist%3ASpinnin%27+Records+track%3ABreathe+Carolina+%26+Dropgun+Ft.+Kaleena+Zanders+-+Rhythm+Is+A+Dancer+%5BOUT+NOW%5D&limit=10&offset=0&type=track:\n",
      " Not found., reason: None\n",
      "http status: 404, code:-1 - https://api.spotify.com/v1/search?q=artist%3ASpinnin%27+Records+track%3ABreathe+Carolina+%26+Dropgun+Ft.+Kaleena+Zanders+-+Rhythm+Is+A+Dancer+%5BOUT+NOW%5D&limit=10&offset=0&type=track:\n",
      " Not found., reason: None\n"
     ]
    },
    {
     "name": "stderr",
     "output_type": "stream",
     "text": [
      "HTTP Error for GET to https://api.spotify.com/v1/search with Params: {'q': \"artist:Sage The Gemini track:Jeremih, Ty Dolla $ign, & Sage The Gemini - Don't Get Much Better (The Fate of the Furious)\", 'limit': 10, 'offset': 0, 'type': 'track', 'market': None} returned 404 due to Not found.\n",
      "HTTP Error for GET to https://api.spotify.com/v1/search with Params: {'q': \"artist:Sage The Gemini track:Jeremih, Ty Dolla $ign, & Sage The Gemini - Don't Get Much Better (The Fate of the Furious)\", 'limit': 10, 'offset': 0, 'type': 'track', 'market': None} returned 404 due to Not found.\n"
     ]
    },
    {
     "name": "stdout",
     "output_type": "stream",
     "text": [
      "http status: 404, code:-1 - https://api.spotify.com/v1/search?q=artist%3ASage+The+Gemini+track%3AJeremih%2C+Ty+Dolla+%24ign%2C+%26+Sage+The+Gemini+-+Don%27t+Get+Much+Better+%28The+Fate+of+the+Furious%29&limit=10&offset=0&type=track:\n",
      " Not found., reason: None\n",
      "http status: 404, code:-1 - https://api.spotify.com/v1/search?q=artist%3ASage+The+Gemini+track%3AJeremih%2C+Ty+Dolla+%24ign%2C+%26+Sage+The+Gemini+-+Don%27t+Get+Much+Better+%28The+Fate+of+the+Furious%29&limit=10&offset=0&type=track:\n",
      " Not found., reason: None\n"
     ]
    },
    {
     "name": "stderr",
     "output_type": "stream",
     "text": [
      "HTTP Error for GET to https://api.spotify.com/v1/search with Params: {'q': 'artist:Madsonik track:Shell Shocked - Kill the Noise & Madsonik w/ Juicy J, Wiz Khalifa, Ty Dolla $ign, Moxie', 'limit': 10, 'offset': 0, 'type': 'track', 'market': None} returned 404 due to Not found.\n",
      "HTTP Error for GET to https://api.spotify.com/v1/search with Params: {'q': 'artist:Madsonik track:Shell Shocked - Kill the Noise & Madsonik w/ Juicy J, Wiz Khalifa, Ty Dolla $ign, Moxie', 'limit': 10, 'offset': 0, 'type': 'track', 'market': None} returned 404 due to Not found.\n"
     ]
    },
    {
     "name": "stdout",
     "output_type": "stream",
     "text": [
      "http status: 404, code:-1 - https://api.spotify.com/v1/search?q=artist%3AMadsonik+track%3AShell+Shocked+-+Kill+the+Noise+%26+Madsonik+w%2F+Juicy+J%2C+Wiz+Khalifa%2C+Ty+Dolla+%24ign%2C+Moxie&limit=10&offset=0&type=track:\n",
      " Not found., reason: None\n",
      "http status: 404, code:-1 - https://api.spotify.com/v1/search?q=artist%3AMadsonik+track%3AShell+Shocked+-+Kill+the+Noise+%26+Madsonik+w%2F+Juicy+J%2C+Wiz+Khalifa%2C+Ty+Dolla+%24ign%2C+Moxie&limit=10&offset=0&type=track:\n",
      " Not found., reason: None\n"
     ]
    },
    {
     "name": "stderr",
     "output_type": "stream",
     "text": [
      "HTTP Error for GET to https://api.spotify.com/v1/search with Params: {'q': \"artist:Out Soon on Spinnin' Records track:Lucas & Steve x Pep & Rash - Feel Alive (Preview) [OUT NOW]\", 'limit': 10, 'offset': 0, 'type': 'track', 'market': None} returned 404 due to Not found.\n",
      "HTTP Error for GET to https://api.spotify.com/v1/search with Params: {'q': \"artist:Out Soon on Spinnin' Records track:Lucas & Steve x Pep & Rash - Feel Alive (Preview) [OUT NOW]\", 'limit': 10, 'offset': 0, 'type': 'track', 'market': None} returned 404 due to Not found.\n"
     ]
    },
    {
     "name": "stdout",
     "output_type": "stream",
     "text": [
      "http status: 404, code:-1 - https://api.spotify.com/v1/search?q=artist%3AOut+Soon+on+Spinnin%27+Records+track%3ALucas+%26+Steve+x+Pep+%26+Rash+-+Feel+Alive+%28Preview%29+%5BOUT+NOW%5D&limit=10&offset=0&type=track:\n",
      " Not found., reason: None\n",
      "http status: 404, code:-1 - https://api.spotify.com/v1/search?q=artist%3AOut+Soon+on+Spinnin%27+Records+track%3ALucas+%26+Steve+x+Pep+%26+Rash+-+Feel+Alive+%28Preview%29+%5BOUT+NOW%5D&limit=10&offset=0&type=track:\n",
      " Not found., reason: None\n"
     ]
    },
    {
     "name": "stderr",
     "output_type": "stream",
     "text": [
      "HTTP Error for GET to https://api.spotify.com/v1/search with Params: {'q': 'artist:Kris Kross Amsterdam track:Kris Kross Amsterdam & Conor Maynard Ft. Ty Dolla $ign - Are You Sure [OUT NOW]', 'limit': 10, 'offset': 0, 'type': 'track', 'market': None} returned 404 due to Not found.\n",
      "HTTP Error for GET to https://api.spotify.com/v1/search with Params: {'q': 'artist:Kris Kross Amsterdam track:Kris Kross Amsterdam & Conor Maynard Ft. Ty Dolla $ign - Are You Sure [OUT NOW]', 'limit': 10, 'offset': 0, 'type': 'track', 'market': None} returned 404 due to Not found.\n"
     ]
    },
    {
     "name": "stdout",
     "output_type": "stream",
     "text": [
      "http status: 404, code:-1 - https://api.spotify.com/v1/search?q=artist%3AKris+Kross+Amsterdam+track%3AKris+Kross+Amsterdam+%26+Conor+Maynard+Ft.+Ty+Dolla+%24ign+-+Are+You+Sure+%5BOUT+NOW%5D&limit=10&offset=0&type=track:\n",
      " Not found., reason: None\n",
      "http status: 404, code:-1 - https://api.spotify.com/v1/search?q=artist%3AKris+Kross+Amsterdam+track%3AKris+Kross+Amsterdam+%26+Conor+Maynard+Ft.+Ty+Dolla+%24ign+-+Are+You+Sure+%5BOUT+NOW%5D&limit=10&offset=0&type=track:\n",
      " Not found., reason: None\n"
     ]
    },
    {
     "name": "stderr",
     "output_type": "stream",
     "text": [
      "HTTP Error for GET to https://api.spotify.com/v1/search with Params: {'q': 'artist:Heldeep Radio track:Oliver Heldens - Heldeep Radio #044 [Live @ Ultra Music Festival Miami 2015]', 'limit': 10, 'offset': 0, 'type': 'track', 'market': None} returned 404 due to Not found.\n",
      "HTTP Error for GET to https://api.spotify.com/v1/search with Params: {'q': 'artist:Heldeep Radio track:Oliver Heldens - Heldeep Radio #044 [Live @ Ultra Music Festival Miami 2015]', 'limit': 10, 'offset': 0, 'type': 'track', 'market': None} returned 404 due to Not found.\n"
     ]
    },
    {
     "name": "stdout",
     "output_type": "stream",
     "text": [
      "http status: 404, code:-1 - https://api.spotify.com/v1/search?q=artist%3AHeldeep+Radio+track%3AOliver+Heldens+-+Heldeep+Radio+%23044+%5BLive+%40+Ultra+Music+Festival+Miami+2015%5D&limit=10&offset=0&type=track:\n",
      " Not found., reason: None\n",
      "http status: 404, code:-1 - https://api.spotify.com/v1/search?q=artist%3AHeldeep+Radio+track%3AOliver+Heldens+-+Heldeep+Radio+%23044+%5BLive+%40+Ultra+Music+Festival+Miami+2015%5D&limit=10&offset=0&type=track:\n",
      " Not found., reason: None\n"
     ]
    },
    {
     "name": "stderr",
     "output_type": "stream",
     "text": [
      "HTTP Error for GET to https://api.spotify.com/v1/search with Params: {'q': 'artist:Aux Paris track:Sweater Beats - Better [ft. Nicole Millar & Imad Royal](Ben Maxwell & Basko Remix)', 'limit': 10, 'offset': 0, 'type': 'track', 'market': None} returned 404 due to Not found.\n",
      "HTTP Error for GET to https://api.spotify.com/v1/search with Params: {'q': 'artist:Aux Paris track:Sweater Beats - Better [ft. Nicole Millar & Imad Royal](Ben Maxwell & Basko Remix)', 'limit': 10, 'offset': 0, 'type': 'track', 'market': None} returned 404 due to Not found.\n"
     ]
    },
    {
     "name": "stdout",
     "output_type": "stream",
     "text": [
      "http status: 404, code:-1 - https://api.spotify.com/v1/search?q=artist%3AAux+Paris+track%3ASweater+Beats+-+Better+%5Bft.+Nicole+Millar+%26+Imad+Royal%5D%28Ben+Maxwell+%26+Basko+Remix%29&limit=10&offset=0&type=track:\n",
      " Not found., reason: None\n",
      "http status: 404, code:-1 - https://api.spotify.com/v1/search?q=artist%3AAux+Paris+track%3ASweater+Beats+-+Better+%5Bft.+Nicole+Millar+%26+Imad+Royal%5D%28Ben+Maxwell+%26+Basko+Remix%29&limit=10&offset=0&type=track:\n",
      " Not found., reason: None\n"
     ]
    },
    {
     "name": "stderr",
     "output_type": "stream",
     "text": [
      "HTTP Error for GET to https://api.spotify.com/v1/search with Params: {'q': 'artist:✟ D o p e K I N G ✟ track:Fox Stevenson - Sweets w/ American Boy (Acapella)(Oliver Heldens Mashup) [REMAKE] *BUY = FREE DL*', 'limit': 10, 'offset': 0, 'type': 'track', 'market': None} returned 404 due to Not found.\n",
      "HTTP Error for GET to https://api.spotify.com/v1/search with Params: {'q': 'artist:✟ D o p e K I N G ✟ track:Fox Stevenson - Sweets w/ American Boy (Acapella)(Oliver Heldens Mashup) [REMAKE] *BUY = FREE DL*', 'limit': 10, 'offset': 0, 'type': 'track', 'market': None} returned 404 due to Not found.\n"
     ]
    },
    {
     "name": "stdout",
     "output_type": "stream",
     "text": [
      "http status: 404, code:-1 - https://api.spotify.com/v1/search?q=artist%3A%E2%9C%9F+D+o+p+e+K+I+N+G+%E2%9C%9F+track%3AFox+Stevenson+-+Sweets+w%2F+American+Boy+%28Acapella%29%28Oliver+Heldens+Mashup%29+%5BREMAKE%5D+%2ABUY+%3D+FREE+DL%2A&limit=10&offset=0&type=track:\n",
      " Not found., reason: None\n",
      "http status: 404, code:-1 - https://api.spotify.com/v1/search?q=artist%3A%E2%9C%9F+D+o+p+e+K+I+N+G+%E2%9C%9F+track%3AFox+Stevenson+-+Sweets+w%2F+American+Boy+%28Acapella%29%28Oliver+Heldens+Mashup%29+%5BREMAKE%5D+%2ABUY+%3D+FREE+DL%2A&limit=10&offset=0&type=track:\n",
      " Not found., reason: None\n"
     ]
    },
    {
     "name": "stderr",
     "output_type": "stream",
     "text": [
      "HTTP Error for GET to https://api.spotify.com/v1/search with Params: {'q': 'artist:The Chainsmokers track:The Chainsmokers feat. Phoebe Ryan - All We Know (Oliver Heldens Remix)', 'limit': 10, 'offset': 0, 'type': 'track', 'market': None} returned 404 due to Not found.\n",
      "HTTP Error for GET to https://api.spotify.com/v1/search with Params: {'q': 'artist:The Chainsmokers track:The Chainsmokers feat. Phoebe Ryan - All We Know (Oliver Heldens Remix)', 'limit': 10, 'offset': 0, 'type': 'track', 'market': None} returned 404 due to Not found.\n"
     ]
    },
    {
     "name": "stdout",
     "output_type": "stream",
     "text": [
      "http status: 404, code:-1 - https://api.spotify.com/v1/search?q=artist%3AThe+Chainsmokers+track%3AThe+Chainsmokers+feat.+Phoebe+Ryan+-+All+We+Know+%28Oliver+Heldens+Remix%29&limit=10&offset=0&type=track:\n",
      " Not found., reason: None\n",
      "http status: 404, code:-1 - https://api.spotify.com/v1/search?q=artist%3AThe+Chainsmokers+track%3AThe+Chainsmokers+feat.+Phoebe+Ryan+-+All+We+Know+%28Oliver+Heldens+Remix%29&limit=10&offset=0&type=track:\n",
      " Not found., reason: None\n"
     ]
    },
    {
     "name": "stderr",
     "output_type": "stream",
     "text": [
      "HTTP Error for GET to https://api.spotify.com/v1/search with Params: {'q': 'artist:Flume track:Flume - My Boo feat. Vince Staples, Kučka, Ngaiire & Vera Blue (triple j Like A Version)', 'limit': 10, 'offset': 0, 'type': 'track', 'market': None} returned 404 due to Not found.\n",
      "HTTP Error for GET to https://api.spotify.com/v1/search with Params: {'q': 'artist:Flume track:Flume - My Boo feat. Vince Staples, Kučka, Ngaiire & Vera Blue (triple j Like A Version)', 'limit': 10, 'offset': 0, 'type': 'track', 'market': None} returned 404 due to Not found.\n"
     ]
    },
    {
     "name": "stdout",
     "output_type": "stream",
     "text": [
      "http status: 404, code:-1 - https://api.spotify.com/v1/search?q=artist%3AFlume+track%3AFlume+-+My+Boo+feat.+Vince+Staples%2C+Ku%C4%8Dka%2C+Ngaiire+%26+Vera+Blue+%28triple+j+Like+A+Version%29&limit=10&offset=0&type=track:\n",
      " Not found., reason: None\n",
      "http status: 404, code:-1 - https://api.spotify.com/v1/search?q=artist%3AFlume+track%3AFlume+-+My+Boo+feat.+Vince+Staples%2C+Ku%C4%8Dka%2C+Ngaiire+%26+Vera+Blue+%28triple+j+Like+A+Version%29&limit=10&offset=0&type=track:\n",
      " Not found., reason: None\n"
     ]
    },
    {
     "name": "stderr",
     "output_type": "stream",
     "text": [
      "HTTP Error for GET to https://api.spotify.com/v1/search with Params: {'q': \"artist:DJ Hahn Sugo track:Calvin Harris,Example,Sandro Silva ft. Quintino, - Epic ! We'll Be Coming Back (HahnSugo Mashup)\", 'limit': 10, 'offset': 0, 'type': 'track', 'market': None} returned 404 due to Not found.\n",
      "HTTP Error for GET to https://api.spotify.com/v1/search with Params: {'q': \"artist:DJ Hahn Sugo track:Calvin Harris,Example,Sandro Silva ft. Quintino, - Epic ! We'll Be Coming Back (HahnSugo Mashup)\", 'limit': 10, 'offset': 0, 'type': 'track', 'market': None} returned 404 due to Not found.\n"
     ]
    },
    {
     "name": "stdout",
     "output_type": "stream",
     "text": [
      "http status: 404, code:-1 - https://api.spotify.com/v1/search?q=artist%3ADJ+Hahn+Sugo+track%3ACalvin+Harris%2CExample%2CSandro+Silva+ft.+Quintino%2C+-+Epic+%21+We%27ll+Be+Coming+Back+%28HahnSugo+Mashup%29&limit=10&offset=0&type=track:\n",
      " Not found., reason: None\n",
      "http status: 404, code:-1 - https://api.spotify.com/v1/search?q=artist%3ADJ+Hahn+Sugo+track%3ACalvin+Harris%2CExample%2CSandro+Silva+ft.+Quintino%2C+-+Epic+%21+We%27ll+Be+Coming+Back+%28HahnSugo+Mashup%29&limit=10&offset=0&type=track:\n",
      " Not found., reason: None\n"
     ]
    },
    {
     "name": "stderr",
     "output_type": "stream",
     "text": [
      "HTTP Error for GET to https://api.spotify.com/v1/search with Params: {'q': 'artist:JustinStrikes track:Parra for Cuva, Anna Naklab - Wicked Games Feat. Anna Naklab (Justin Strikes Bootleg) FREE DOWNLOAD', 'limit': 10, 'offset': 0, 'type': 'track', 'market': None} returned 404 due to Not found.\n",
      "HTTP Error for GET to https://api.spotify.com/v1/search with Params: {'q': 'artist:JustinStrikes track:Parra for Cuva, Anna Naklab - Wicked Games Feat. Anna Naklab (Justin Strikes Bootleg) FREE DOWNLOAD', 'limit': 10, 'offset': 0, 'type': 'track', 'market': None} returned 404 due to Not found.\n"
     ]
    },
    {
     "name": "stdout",
     "output_type": "stream",
     "text": [
      "http status: 404, code:-1 - https://api.spotify.com/v1/search?q=artist%3AJustinStrikes+track%3AParra+for+Cuva%2C+Anna+Naklab+-+Wicked+Games+Feat.+Anna+Naklab+%28Justin+Strikes+Bootleg%29+FREE+DOWNLOAD&limit=10&offset=0&type=track:\n",
      " Not found., reason: None\n",
      "http status: 404, code:-1 - https://api.spotify.com/v1/search?q=artist%3AJustinStrikes+track%3AParra+for+Cuva%2C+Anna+Naklab+-+Wicked+Games+Feat.+Anna+Naklab+%28Justin+Strikes+Bootleg%29+FREE+DOWNLOAD&limit=10&offset=0&type=track:\n",
      " Not found., reason: None\n"
     ]
    },
    {
     "name": "stderr",
     "output_type": "stream",
     "text": [
      "HTTP Error for GET to https://api.spotify.com/v1/search with Params: {'q': \"artist:Erick Morillo track:Erick Morillo vs Eddie Thoneick feat. Angel Taylor 'Lost In You'  [Danny Howard  BBC R1 Premiere]\", 'limit': 10, 'offset': 0, 'type': 'track', 'market': None} returned 404 due to Not found.\n",
      "HTTP Error for GET to https://api.spotify.com/v1/search with Params: {'q': \"artist:Erick Morillo track:Erick Morillo vs Eddie Thoneick feat. Angel Taylor 'Lost In You'  [Danny Howard  BBC R1 Premiere]\", 'limit': 10, 'offset': 0, 'type': 'track', 'market': None} returned 404 due to Not found.\n"
     ]
    },
    {
     "name": "stdout",
     "output_type": "stream",
     "text": [
      "http status: 404, code:-1 - https://api.spotify.com/v1/search?q=artist%3AErick+Morillo+track%3AErick+Morillo+vs+Eddie+Thoneick+feat.+Angel+Taylor+%27Lost+In+You%27++%5BDanny+Howard++BBC+R1+Premiere%5D&limit=10&offset=0&type=track:\n",
      " Not found., reason: None\n",
      "http status: 404, code:-1 - https://api.spotify.com/v1/search?q=artist%3AErick+Morillo+track%3AErick+Morillo+vs+Eddie+Thoneick+feat.+Angel+Taylor+%27Lost+In+You%27++%5BDanny+Howard++BBC+R1+Premiere%5D&limit=10&offset=0&type=track:\n",
      " Not found., reason: None\n"
     ]
    },
    {
     "name": "stderr",
     "output_type": "stream",
     "text": [
      "HTTP Error for GET to https://api.spotify.com/v1/search with Params: {'q': 'artist:Disco Killerz track:Disco Killerz & Liquid Todd - Stellar Feat. Jimmy Gnecco (Morgan Page Remix)', 'limit': 10, 'offset': 0, 'type': 'track', 'market': None} returned 404 due to Not found.\n",
      "HTTP Error for GET to https://api.spotify.com/v1/search with Params: {'q': 'artist:Disco Killerz track:Disco Killerz & Liquid Todd - Stellar Feat. Jimmy Gnecco (Morgan Page Remix)', 'limit': 10, 'offset': 0, 'type': 'track', 'market': None} returned 404 due to Not found.\n"
     ]
    },
    {
     "name": "stdout",
     "output_type": "stream",
     "text": [
      "http status: 404, code:-1 - https://api.spotify.com/v1/search?q=artist%3ADisco+Killerz+track%3ADisco+Killerz+%26+Liquid+Todd+-+Stellar+Feat.+Jimmy+Gnecco+%28Morgan+Page+Remix%29&limit=10&offset=0&type=track:\n",
      " Not found., reason: None\n",
      "http status: 404, code:-1 - https://api.spotify.com/v1/search?q=artist%3ADisco+Killerz+track%3ADisco+Killerz+%26+Liquid+Todd+-+Stellar+Feat.+Jimmy+Gnecco+%28Morgan+Page+Remix%29&limit=10&offset=0&type=track:\n",
      " Not found., reason: None\n"
     ]
    },
    {
     "name": "stderr",
     "output_type": "stream",
     "text": [
      "HTTP Error for GET to https://api.spotify.com/v1/search with Params: {'q': 'artist:Cedric Gervais track:Cedric Gervais & Howard Jones-Things Can Only Get Better (Radio Edit) OUT NOW!', 'limit': 10, 'offset': 0, 'type': 'track', 'market': None} returned 404 due to Not found.\n",
      "HTTP Error for GET to https://api.spotify.com/v1/search with Params: {'q': 'artist:Cedric Gervais track:Cedric Gervais & Howard Jones-Things Can Only Get Better (Radio Edit) OUT NOW!', 'limit': 10, 'offset': 0, 'type': 'track', 'market': None} returned 404 due to Not found.\n"
     ]
    },
    {
     "name": "stdout",
     "output_type": "stream",
     "text": [
      "http status: 404, code:-1 - https://api.spotify.com/v1/search?q=artist%3ACedric+Gervais+track%3ACedric+Gervais+%26+Howard+Jones-Things+Can+Only+Get+Better+%28Radio+Edit%29+OUT+NOW%21&limit=10&offset=0&type=track:\n",
      " Not found., reason: None\n",
      "http status: 404, code:-1 - https://api.spotify.com/v1/search?q=artist%3ACedric+Gervais+track%3ACedric+Gervais+%26+Howard+Jones-Things+Can+Only+Get+Better+%28Radio+Edit%29+OUT+NOW%21&limit=10&offset=0&type=track:\n",
      " Not found., reason: None\n"
     ]
    },
    {
     "name": "stderr",
     "output_type": "stream",
     "text": [
      "HTTP Error for GET to https://api.spotify.com/v1/search with Params: {'q': 'artist:Seven Lions track:Florence And The Machine - Cosmic Love (Seven Lions Remix) [DL link in description]', 'limit': 10, 'offset': 0, 'type': 'track', 'market': None} returned 404 due to Not found.\n",
      "HTTP Error for GET to https://api.spotify.com/v1/search with Params: {'q': 'artist:Seven Lions track:Florence And The Machine - Cosmic Love (Seven Lions Remix) [DL link in description]', 'limit': 10, 'offset': 0, 'type': 'track', 'market': None} returned 404 due to Not found.\n"
     ]
    },
    {
     "name": "stdout",
     "output_type": "stream",
     "text": [
      "http status: 404, code:-1 - https://api.spotify.com/v1/search?q=artist%3ASeven+Lions+track%3AFlorence+And+The+Machine+-+Cosmic+Love+%28Seven+Lions+Remix%29+%5BDL+link+in+description%5D&limit=10&offset=0&type=track:\n",
      " Not found., reason: None\n",
      "http status: 404, code:-1 - https://api.spotify.com/v1/search?q=artist%3ASeven+Lions+track%3AFlorence+And+The+Machine+-+Cosmic+Love+%28Seven+Lions+Remix%29+%5BDL+link+in+description%5D&limit=10&offset=0&type=track:\n",
      " Not found., reason: None\n"
     ]
    },
    {
     "name": "stderr",
     "output_type": "stream",
     "text": [
      "HTTP Error for GET to https://api.spotify.com/v1/search with Params: {'q': \"artist:EDX track:EDX - Roadkill (EDX's Ibiza Sunrise Remix) - OUT NOW on Beatport/Spotify, Spinnin Deep\", 'limit': 10, 'offset': 0, 'type': 'track', 'market': None} returned 404 due to Not found.\n",
      "HTTP Error for GET to https://api.spotify.com/v1/search with Params: {'q': \"artist:EDX track:EDX - Roadkill (EDX's Ibiza Sunrise Remix) - OUT NOW on Beatport/Spotify, Spinnin Deep\", 'limit': 10, 'offset': 0, 'type': 'track', 'market': None} returned 404 due to Not found.\n"
     ]
    },
    {
     "name": "stdout",
     "output_type": "stream",
     "text": [
      "http status: 404, code:-1 - https://api.spotify.com/v1/search?q=artist%3AEDX+track%3AEDX+-+Roadkill+%28EDX%27s+Ibiza+Sunrise+Remix%29+-+OUT+NOW+on+Beatport%2FSpotify%2C+Spinnin+Deep&limit=10&offset=0&type=track:\n",
      " Not found., reason: None\n",
      "http status: 404, code:-1 - https://api.spotify.com/v1/search?q=artist%3AEDX+track%3AEDX+-+Roadkill+%28EDX%27s+Ibiza+Sunrise+Remix%29+-+OUT+NOW+on+Beatport%2FSpotify%2C+Spinnin+Deep&limit=10&offset=0&type=track:\n",
      " Not found., reason: None\n"
     ]
    },
    {
     "name": "stderr",
     "output_type": "stream",
     "text": [
      "HTTP Error for GET to https://api.spotify.com/v1/search with Params: {'q': 'artist:Mord Fustang track:Morgan Page, Sultan + Ned Shepard, and BT - In The Air feat. Angela McCluskey (Mord Fustang Remix)', 'limit': 10, 'offset': 0, 'type': 'track', 'market': None} returned 404 due to Not found.\n",
      "HTTP Error for GET to https://api.spotify.com/v1/search with Params: {'q': 'artist:Mord Fustang track:Morgan Page, Sultan + Ned Shepard, and BT - In The Air feat. Angela McCluskey (Mord Fustang Remix)', 'limit': 10, 'offset': 0, 'type': 'track', 'market': None} returned 404 due to Not found.\n"
     ]
    },
    {
     "name": "stdout",
     "output_type": "stream",
     "text": [
      "http status: 404, code:-1 - https://api.spotify.com/v1/search?q=artist%3AMord+Fustang+track%3AMorgan+Page%2C+Sultan+%2B+Ned+Shepard%2C+and+BT+-+In+The+Air+feat.+Angela+McCluskey+%28Mord+Fustang+Remix%29&limit=10&offset=0&type=track:\n",
      " Not found., reason: None\n",
      "http status: 404, code:-1 - https://api.spotify.com/v1/search?q=artist%3AMord+Fustang+track%3AMorgan+Page%2C+Sultan+%2B+Ned+Shepard%2C+and+BT+-+In+The+Air+feat.+Angela+McCluskey+%28Mord+Fustang+Remix%29&limit=10&offset=0&type=track:\n",
      " Not found., reason: None\n"
     ]
    },
    {
     "name": "stderr",
     "output_type": "stream",
     "text": [
      "HTTP Error for GET to https://api.spotify.com/v1/search with Params: {'q': 'artist:Ultra Miami 2016 IDs 2 track:Martin Garrix & Marshmello Ft. Bebe Rexha - Name Of Love [Free Download]', 'limit': 10, 'offset': 0, 'type': 'track', 'market': None} returned 404 due to Not found.\n",
      "HTTP Error for GET to https://api.spotify.com/v1/search with Params: {'q': 'artist:Ultra Miami 2016 IDs 2 track:Martin Garrix & Marshmello Ft. Bebe Rexha - Name Of Love [Free Download]', 'limit': 10, 'offset': 0, 'type': 'track', 'market': None} returned 404 due to Not found.\n"
     ]
    },
    {
     "name": "stdout",
     "output_type": "stream",
     "text": [
      "http status: 404, code:-1 - https://api.spotify.com/v1/search?q=artist%3AUltra+Miami+2016+IDs+2+track%3AMartin+Garrix+%26+Marshmello+Ft.+Bebe+Rexha+-+Name+Of+Love+%5BFree+Download%5D&limit=10&offset=0&type=track:\n",
      " Not found., reason: None\n",
      "http status: 404, code:-1 - https://api.spotify.com/v1/search?q=artist%3AUltra+Miami+2016+IDs+2+track%3AMartin+Garrix+%26+Marshmello+Ft.+Bebe+Rexha+-+Name+Of+Love+%5BFree+Download%5D&limit=10&offset=0&type=track:\n",
      " Not found., reason: None\n"
     ]
    },
    {
     "name": "stderr",
     "output_type": "stream",
     "text": [
      "HTTP Error for GET to https://api.spotify.com/v1/search with Params: {'q': 'artist:Armin van Buuren track:Armin van Buuren feat. Kensington -  Heading Up High (Years Remix) [ASOT750 Pt. 1] [OUT NOW]', 'limit': 10, 'offset': 0, 'type': 'track', 'market': None} returned 404 due to Not found.\n",
      "HTTP Error for GET to https://api.spotify.com/v1/search with Params: {'q': 'artist:Armin van Buuren track:Armin van Buuren feat. Kensington -  Heading Up High (Years Remix) [ASOT750 Pt. 1] [OUT NOW]', 'limit': 10, 'offset': 0, 'type': 'track', 'market': None} returned 404 due to Not found.\n"
     ]
    },
    {
     "name": "stdout",
     "output_type": "stream",
     "text": [
      "http status: 404, code:-1 - https://api.spotify.com/v1/search?q=artist%3AArmin+van+Buuren+track%3AArmin+van+Buuren+feat.+Kensington+-++Heading+Up+High+%28Years+Remix%29+%5BASOT750+Pt.+1%5D+%5BOUT+NOW%5D&limit=10&offset=0&type=track:\n",
      " Not found., reason: None\n",
      "http status: 404, code:-1 - https://api.spotify.com/v1/search?q=artist%3AArmin+van+Buuren+track%3AArmin+van+Buuren+feat.+Kensington+-++Heading+Up+High+%28Years+Remix%29+%5BASOT750+Pt.+1%5D+%5BOUT+NOW%5D&limit=10&offset=0&type=track:\n",
      " Not found., reason: None\n"
     ]
    },
    {
     "name": "stderr",
     "output_type": "stream",
     "text": [
      "HTTP Error for GET to https://api.spotify.com/v1/search with Params: {'q': 'artist:Morgan Page track:Morgan Page - Running Wild Feat. The Oddictions and Britt Daley (Jayceeoh Remix)', 'limit': 10, 'offset': 0, 'type': 'track', 'market': None} returned 404 due to Not found.\n",
      "HTTP Error for GET to https://api.spotify.com/v1/search with Params: {'q': 'artist:Morgan Page track:Morgan Page - Running Wild Feat. The Oddictions and Britt Daley (Jayceeoh Remix)', 'limit': 10, 'offset': 0, 'type': 'track', 'market': None} returned 404 due to Not found.\n"
     ]
    },
    {
     "name": "stdout",
     "output_type": "stream",
     "text": [
      "http status: 404, code:-1 - https://api.spotify.com/v1/search?q=artist%3AMorgan+Page+track%3AMorgan+Page+-+Running+Wild+Feat.+The+Oddictions+and+Britt+Daley+%28Jayceeoh+Remix%29&limit=10&offset=0&type=track:\n",
      " Not found., reason: None\n",
      "http status: 404, code:-1 - https://api.spotify.com/v1/search?q=artist%3AMorgan+Page+track%3AMorgan+Page+-+Running+Wild+Feat.+The+Oddictions+and+Britt+Daley+%28Jayceeoh+Remix%29&limit=10&offset=0&type=track:\n",
      " Not found., reason: None\n"
     ]
    },
    {
     "name": "stderr",
     "output_type": "stream",
     "text": [
      "HTTP Error for GET to https://api.spotify.com/v1/search with Params: {'q': 'artist:Armada Music track:Dimitri Vegas & Like Mike feat. Ne - Yo - Higher Place (Afrojack Remix) [OUT NOW]', 'limit': 10, 'offset': 0, 'type': 'track', 'market': None} returned 404 due to Not found.\n",
      "HTTP Error for GET to https://api.spotify.com/v1/search with Params: {'q': 'artist:Armada Music track:Dimitri Vegas & Like Mike feat. Ne - Yo - Higher Place (Afrojack Remix) [OUT NOW]', 'limit': 10, 'offset': 0, 'type': 'track', 'market': None} returned 404 due to Not found.\n"
     ]
    },
    {
     "name": "stdout",
     "output_type": "stream",
     "text": [
      "http status: 404, code:-1 - https://api.spotify.com/v1/search?q=artist%3AArmada+Music+track%3ADimitri+Vegas+%26+Like+Mike+feat.+Ne+-+Yo+-+Higher+Place+%28Afrojack+Remix%29+%5BOUT+NOW%5D&limit=10&offset=0&type=track:\n",
      " Not found., reason: None\n",
      "http status: 404, code:-1 - https://api.spotify.com/v1/search?q=artist%3AArmada+Music+track%3ADimitri+Vegas+%26+Like+Mike+feat.+Ne+-+Yo+-+Higher+Place+%28Afrojack+Remix%29+%5BOUT+NOW%5D&limit=10&offset=0&type=track:\n",
      " Not found., reason: None\n"
     ]
    },
    {
     "name": "stderr",
     "output_type": "stream",
     "text": [
      "HTTP Error for GET to https://api.spotify.com/v1/search with Params: {'q': 'artist:Mind of a Genius Records track:ZHU x Skrillex x THEY. - Working For It (Zane Lowe World Premiere)', 'limit': 10, 'offset': 0, 'type': 'track', 'market': None} returned 404 due to Not found.\n",
      "HTTP Error for GET to https://api.spotify.com/v1/search with Params: {'q': 'artist:Mind of a Genius Records track:ZHU x Skrillex x THEY. - Working For It (Zane Lowe World Premiere)', 'limit': 10, 'offset': 0, 'type': 'track', 'market': None} returned 404 due to Not found.\n"
     ]
    },
    {
     "name": "stdout",
     "output_type": "stream",
     "text": [
      "http status: 404, code:-1 - https://api.spotify.com/v1/search?q=artist%3AMind+of+a+Genius+Records+track%3AZHU+x+Skrillex+x+THEY.+-+Working+For+It+%28Zane+Lowe+World+Premiere%29&limit=10&offset=0&type=track:\n",
      " Not found., reason: None\n",
      "http status: 404, code:-1 - https://api.spotify.com/v1/search?q=artist%3AMind+of+a+Genius+Records+track%3AZHU+x+Skrillex+x+THEY.+-+Working+For+It+%28Zane+Lowe+World+Premiere%29&limit=10&offset=0&type=track:\n",
      " Not found., reason: None\n"
     ]
    },
    {
     "name": "stderr",
     "output_type": "stream",
     "text": [
      "HTTP Error for GET to https://api.spotify.com/v1/search with Params: {'q': 'artist:MORGANJ Bootlegs track:Martin Garrix & Tiesto - The Only Way Is Up (MorganJ Bootleg) [CLICK BUY]', 'limit': 10, 'offset': 0, 'type': 'track', 'market': None} returned 404 due to Not found.\n",
      "HTTP Error for GET to https://api.spotify.com/v1/search with Params: {'q': 'artist:MORGANJ Bootlegs track:Martin Garrix & Tiesto - The Only Way Is Up (MorganJ Bootleg) [CLICK BUY]', 'limit': 10, 'offset': 0, 'type': 'track', 'market': None} returned 404 due to Not found.\n"
     ]
    },
    {
     "name": "stdout",
     "output_type": "stream",
     "text": [
      "http status: 404, code:-1 - https://api.spotify.com/v1/search?q=artist%3AMORGANJ+Bootlegs+track%3AMartin+Garrix+%26+Tiesto+-+The+Only+Way+Is+Up+%28MorganJ+Bootleg%29+%5BCLICK+BUY%5D&limit=10&offset=0&type=track:\n",
      " Not found., reason: None\n",
      "http status: 404, code:-1 - https://api.spotify.com/v1/search?q=artist%3AMORGANJ+Bootlegs+track%3AMartin+Garrix+%26+Tiesto+-+The+Only+Way+Is+Up+%28MorganJ+Bootleg%29+%5BCLICK+BUY%5D&limit=10&offset=0&type=track:\n",
      " Not found., reason: None\n"
     ]
    },
    {
     "name": "stderr",
     "output_type": "stream",
     "text": [
      "HTTP Error for GET to https://api.spotify.com/v1/search with Params: {'q': 'artist:Michael Brun track:Feenixpawl & Jason Forte ft. Mary Jane Smith - Blue Sky (Michael Brun Remix)', 'limit': 10, 'offset': 0, 'type': 'track', 'market': None} returned 404 due to Not found.\n",
      "HTTP Error for GET to https://api.spotify.com/v1/search with Params: {'q': 'artist:Michael Brun track:Feenixpawl & Jason Forte ft. Mary Jane Smith - Blue Sky (Michael Brun Remix)', 'limit': 10, 'offset': 0, 'type': 'track', 'market': None} returned 404 due to Not found.\n"
     ]
    },
    {
     "name": "stdout",
     "output_type": "stream",
     "text": [
      "http status: 404, code:-1 - https://api.spotify.com/v1/search?q=artist%3AMichael+Brun+track%3AFeenixpawl+%26+Jason+Forte+ft.+Mary+Jane+Smith+-+Blue+Sky+%28Michael+Brun+Remix%29&limit=10&offset=0&type=track:\n",
      " Not found., reason: None\n",
      "http status: 404, code:-1 - https://api.spotify.com/v1/search?q=artist%3AMichael+Brun+track%3AFeenixpawl+%26+Jason+Forte+ft.+Mary+Jane+Smith+-+Blue+Sky+%28Michael+Brun+Remix%29&limit=10&offset=0&type=track:\n",
      " Not found., reason: None\n"
     ]
    },
    {
     "name": "stderr",
     "output_type": "stream",
     "text": [
      "HTTP Error for GET to https://api.spotify.com/v1/search with Params: {'q': \"artist:Spinnin' Records track:Joe Stone - The Party ft. Montell Jordan (This Is How We Do It) (Firebeatz Remix)\", 'limit': 10, 'offset': 0, 'type': 'track', 'market': None} returned 404 due to Not found.\n",
      "HTTP Error for GET to https://api.spotify.com/v1/search with Params: {'q': \"artist:Spinnin' Records track:Joe Stone - The Party ft. Montell Jordan (This Is How We Do It) (Firebeatz Remix)\", 'limit': 10, 'offset': 0, 'type': 'track', 'market': None} returned 404 due to Not found.\n"
     ]
    },
    {
     "name": "stdout",
     "output_type": "stream",
     "text": [
      "http status: 404, code:-1 - https://api.spotify.com/v1/search?q=artist%3ASpinnin%27+Records+track%3AJoe+Stone+-+The+Party+ft.+Montell+Jordan+%28This+Is+How+We+Do+It%29+%28Firebeatz+Remix%29&limit=10&offset=0&type=track:\n",
      " Not found., reason: None\n",
      "http status: 404, code:-1 - https://api.spotify.com/v1/search?q=artist%3ASpinnin%27+Records+track%3AJoe+Stone+-+The+Party+ft.+Montell+Jordan+%28This+Is+How+We+Do+It%29+%28Firebeatz+Remix%29&limit=10&offset=0&type=track:\n",
      " Not found., reason: None\n"
     ]
    },
    {
     "name": "stderr",
     "output_type": "stream",
     "text": [
      "HTTP Error for GET to https://api.spotify.com/v1/search with Params: {'q': 'artist:Major Lazer track:Major Lazer - Powerful (feat. Ellie Goulding & Tarrus Riley) [BOXINBOX & LIONSIZE Remix]', 'limit': 10, 'offset': 0, 'type': 'track', 'market': None} returned 404 due to Not found.\n",
      "HTTP Error for GET to https://api.spotify.com/v1/search with Params: {'q': 'artist:Major Lazer track:Major Lazer - Powerful (feat. Ellie Goulding & Tarrus Riley) [BOXINBOX & LIONSIZE Remix]', 'limit': 10, 'offset': 0, 'type': 'track', 'market': None} returned 404 due to Not found.\n"
     ]
    },
    {
     "name": "stdout",
     "output_type": "stream",
     "text": [
      "http status: 404, code:-1 - https://api.spotify.com/v1/search?q=artist%3AMajor+Lazer+track%3AMajor+Lazer+-+Powerful+%28feat.+Ellie+Goulding+%26+Tarrus+Riley%29+%5BBOXINBOX+%26+LIONSIZE+Remix%5D&limit=10&offset=0&type=track:\n",
      " Not found., reason: None\n",
      "http status: 404, code:-1 - https://api.spotify.com/v1/search?q=artist%3AMajor+Lazer+track%3AMajor+Lazer+-+Powerful+%28feat.+Ellie+Goulding+%26+Tarrus+Riley%29+%5BBOXINBOX+%26+LIONSIZE+Remix%5D&limit=10&offset=0&type=track:\n",
      " Not found., reason: None\n"
     ]
    },
    {
     "name": "stderr",
     "output_type": "stream",
     "text": [
      "HTTP Error for GET to https://api.spotify.com/v1/search with Params: {'q': 'artist:Bogdan Alexandru Dan track:David Guetta & Chris Willis Feat Fergie & LMFAO - Gettin Over You (Official)', 'limit': 10, 'offset': 0, 'type': 'track', 'market': None} returned 404 due to Not found.\n",
      "HTTP Error for GET to https://api.spotify.com/v1/search with Params: {'q': 'artist:Bogdan Alexandru Dan track:David Guetta & Chris Willis Feat Fergie & LMFAO - Gettin Over You (Official)', 'limit': 10, 'offset': 0, 'type': 'track', 'market': None} returned 404 due to Not found.\n"
     ]
    },
    {
     "name": "stdout",
     "output_type": "stream",
     "text": [
      "http status: 404, code:-1 - https://api.spotify.com/v1/search?q=artist%3ABogdan+Alexandru+Dan+track%3ADavid+Guetta+%26+Chris+Willis+Feat+Fergie+%26+LMFAO+-+Gettin+Over+You+%28Official%29&limit=10&offset=0&type=track:\n",
      " Not found., reason: None\n",
      "http status: 404, code:-1 - https://api.spotify.com/v1/search?q=artist%3ABogdan+Alexandru+Dan+track%3ADavid+Guetta+%26+Chris+Willis+Feat+Fergie+%26+LMFAO+-+Gettin+Over+You+%28Official%29&limit=10&offset=0&type=track:\n",
      " Not found., reason: None\n"
     ]
    },
    {
     "name": "stderr",
     "output_type": "stream",
     "text": [
      "HTTP Error for GET to https://api.spotify.com/v1/search with Params: {'q': \"artist:Musical Freedom track:Dzeko & Torres feat. Delaney Jane - L'Amour Toujours (Tiësto Edit) [OUT NOW]\", 'limit': 10, 'offset': 0, 'type': 'track', 'market': None} returned 404 due to Not found.\n",
      "HTTP Error for GET to https://api.spotify.com/v1/search with Params: {'q': \"artist:Musical Freedom track:Dzeko & Torres feat. Delaney Jane - L'Amour Toujours (Tiësto Edit) [OUT NOW]\", 'limit': 10, 'offset': 0, 'type': 'track', 'market': None} returned 404 due to Not found.\n"
     ]
    },
    {
     "name": "stdout",
     "output_type": "stream",
     "text": [
      "http status: 404, code:-1 - https://api.spotify.com/v1/search?q=artist%3AMusical+Freedom+track%3ADzeko+%26+Torres+feat.+Delaney+Jane+-+L%27Amour+Toujours+%28Ti%C3%ABsto+Edit%29+%5BOUT+NOW%5D&limit=10&offset=0&type=track:\n",
      " Not found., reason: None\n",
      "http status: 404, code:-1 - https://api.spotify.com/v1/search?q=artist%3AMusical+Freedom+track%3ADzeko+%26+Torres+feat.+Delaney+Jane+-+L%27Amour+Toujours+%28Ti%C3%ABsto+Edit%29+%5BOUT+NOW%5D&limit=10&offset=0&type=track:\n",
      " Not found., reason: None\n"
     ]
    },
    {
     "name": "stderr",
     "output_type": "stream",
     "text": [
      "HTTP Error for GET to https://api.spotify.com/v1/search with Params: {'q': 'artist:Thissongissick.com track:CAZZETTE  Blind Heart  (Prince Fox Remix) [Thissongissick.com Premiere]', 'limit': 10, 'offset': 0, 'type': 'track', 'market': None} returned 404 due to Not found.\n",
      "HTTP Error for GET to https://api.spotify.com/v1/search with Params: {'q': 'artist:Thissongissick.com track:CAZZETTE  Blind Heart  (Prince Fox Remix) [Thissongissick.com Premiere]', 'limit': 10, 'offset': 0, 'type': 'track', 'market': None} returned 404 due to Not found.\n"
     ]
    },
    {
     "name": "stdout",
     "output_type": "stream",
     "text": [
      "http status: 404, code:-1 - https://api.spotify.com/v1/search?q=artist%3AThissongissick.com+track%3ACAZZETTE++Blind+Heart++%28Prince+Fox+Remix%29+%5BThissongissick.com+Premiere%5D&limit=10&offset=0&type=track:\n",
      " Not found., reason: None\n",
      "http status: 404, code:-1 - https://api.spotify.com/v1/search?q=artist%3AThissongissick.com+track%3ACAZZETTE++Blind+Heart++%28Prince+Fox+Remix%29+%5BThissongissick.com+Premiere%5D&limit=10&offset=0&type=track:\n",
      " Not found., reason: None\n"
     ]
    },
    {
     "name": "stderr",
     "output_type": "stream",
     "text": [
      "HTTP Error for GET to https://api.spotify.com/v1/search with Params: {'q': 'artist:Seven Lions track:Seven Lions - Falling Away Feat. Lights (Casablanca Records) [PREVIEW] [AVAILABLE AUG 14]', 'limit': 10, 'offset': 0, 'type': 'track', 'market': None} returned 404 due to Not found.\n",
      "HTTP Error for GET to https://api.spotify.com/v1/search with Params: {'q': 'artist:Seven Lions track:Seven Lions - Falling Away Feat. Lights (Casablanca Records) [PREVIEW] [AVAILABLE AUG 14]', 'limit': 10, 'offset': 0, 'type': 'track', 'market': None} returned 404 due to Not found.\n"
     ]
    },
    {
     "name": "stdout",
     "output_type": "stream",
     "text": [
      "http status: 404, code:-1 - https://api.spotify.com/v1/search?q=artist%3ASeven+Lions+track%3ASeven+Lions+-+Falling+Away+Feat.+Lights+%28Casablanca+Records%29+%5BPREVIEW%5D+%5BAVAILABLE+AUG+14%5D&limit=10&offset=0&type=track:\n",
      " Not found., reason: None\n",
      "http status: 404, code:-1 - https://api.spotify.com/v1/search?q=artist%3ASeven+Lions+track%3ASeven+Lions+-+Falling+Away+Feat.+Lights+%28Casablanca+Records%29+%5BPREVIEW%5D+%5BAVAILABLE+AUG+14%5D&limit=10&offset=0&type=track:\n",
      " Not found., reason: None\n"
     ]
    },
    {
     "name": "stderr",
     "output_type": "stream",
     "text": [
      "HTTP Error for GET to https://api.spotify.com/v1/search with Params: {'q': 'artist:Andrew Rayel track:Faithless - Insomnia ( Andrew Rayel Remix )Live @ Global Gathering (United Kingdom) - 27.07.2013', 'limit': 10, 'offset': 0, 'type': 'track', 'market': None} returned 404 due to Not found.\n",
      "HTTP Error for GET to https://api.spotify.com/v1/search with Params: {'q': 'artist:Andrew Rayel track:Faithless - Insomnia ( Andrew Rayel Remix )Live @ Global Gathering (United Kingdom) - 27.07.2013', 'limit': 10, 'offset': 0, 'type': 'track', 'market': None} returned 404 due to Not found.\n"
     ]
    },
    {
     "name": "stdout",
     "output_type": "stream",
     "text": [
      "http status: 404, code:-1 - https://api.spotify.com/v1/search?q=artist%3AAndrew+Rayel+track%3AFaithless+-+Insomnia+%28+Andrew+Rayel+Remix+%29Live+%40+Global+Gathering+%28United+Kingdom%29+-+27.07.2013&limit=10&offset=0&type=track:\n",
      " Not found., reason: None\n",
      "http status: 404, code:-1 - https://api.spotify.com/v1/search?q=artist%3AAndrew+Rayel+track%3AFaithless+-+Insomnia+%28+Andrew+Rayel+Remix+%29Live+%40+Global+Gathering+%28United+Kingdom%29+-+27.07.2013&limit=10&offset=0&type=track:\n",
      " Not found., reason: None\n"
     ]
    },
    {
     "name": "stderr",
     "output_type": "stream",
     "text": [
      "HTTP Error for GET to https://api.spotify.com/v1/search with Params: {'q': 'artist:Thissongissick.com track:Autoerotique & Max Styler - Badman (Torro Torro Remix) [Thissongissick.com Premiere]', 'limit': 10, 'offset': 0, 'type': 'track', 'market': None} returned 404 due to Not found.\n",
      "HTTP Error for GET to https://api.spotify.com/v1/search with Params: {'q': 'artist:Thissongissick.com track:Autoerotique & Max Styler - Badman (Torro Torro Remix) [Thissongissick.com Premiere]', 'limit': 10, 'offset': 0, 'type': 'track', 'market': None} returned 404 due to Not found.\n"
     ]
    },
    {
     "name": "stdout",
     "output_type": "stream",
     "text": [
      "http status: 404, code:-1 - https://api.spotify.com/v1/search?q=artist%3AThissongissick.com+track%3AAutoerotique+%26+Max+Styler+-+Badman+%28Torro+Torro+Remix%29+%5BThissongissick.com+Premiere%5D&limit=10&offset=0&type=track:\n",
      " Not found., reason: None\n",
      "http status: 404, code:-1 - https://api.spotify.com/v1/search?q=artist%3AThissongissick.com+track%3AAutoerotique+%26+Max+Styler+-+Badman+%28Torro+Torro+Remix%29+%5BThissongissick.com+Premiere%5D&limit=10&offset=0&type=track:\n",
      " Not found., reason: None\n"
     ]
    },
    {
     "name": "stderr",
     "output_type": "stream",
     "text": [
      "HTTP Error for GET to https://api.spotify.com/v1/search with Params: {'q': 'artist:GeorgeLamb track:How Deep Is Your Love - Calvin Harris & Disciples (EDC 2015 Rip) - Calvin Harris & R3hab remix', 'limit': 10, 'offset': 0, 'type': 'track', 'market': None} returned 404 due to Not found.\n",
      "HTTP Error for GET to https://api.spotify.com/v1/search with Params: {'q': 'artist:GeorgeLamb track:How Deep Is Your Love - Calvin Harris & Disciples (EDC 2015 Rip) - Calvin Harris & R3hab remix', 'limit': 10, 'offset': 0, 'type': 'track', 'market': None} returned 404 due to Not found.\n"
     ]
    },
    {
     "name": "stdout",
     "output_type": "stream",
     "text": [
      "http status: 404, code:-1 - https://api.spotify.com/v1/search?q=artist%3AGeorgeLamb+track%3AHow+Deep+Is+Your+Love+-+Calvin+Harris+%26+Disciples+%28EDC+2015+Rip%29+-+Calvin+Harris+%26+R3hab+remix&limit=10&offset=0&type=track:\n",
      " Not found., reason: None\n",
      "http status: 404, code:-1 - https://api.spotify.com/v1/search?q=artist%3AGeorgeLamb+track%3AHow+Deep+Is+Your+Love+-+Calvin+Harris+%26+Disciples+%28EDC+2015+Rip%29+-+Calvin+Harris+%26+R3hab+remix&limit=10&offset=0&type=track:\n",
      " Not found., reason: None\n"
     ]
    },
    {
     "name": "stderr",
     "output_type": "stream",
     "text": [
      "HTTP Error for GET to https://api.spotify.com/v1/search with Params: {'q': 'artist:Calvin Harris track:Calvin Harris feat Haim - Pray To God (Mike Pickering vs Calvin Harris Hacienda Remix)', 'limit': 10, 'offset': 0, 'type': 'track', 'market': None} returned 404 due to Not found.\n",
      "HTTP Error for GET to https://api.spotify.com/v1/search with Params: {'q': 'artist:Calvin Harris track:Calvin Harris feat Haim - Pray To God (Mike Pickering vs Calvin Harris Hacienda Remix)', 'limit': 10, 'offset': 0, 'type': 'track', 'market': None} returned 404 due to Not found.\n"
     ]
    },
    {
     "name": "stdout",
     "output_type": "stream",
     "text": [
      "http status: 404, code:-1 - https://api.spotify.com/v1/search?q=artist%3ACalvin+Harris+track%3ACalvin+Harris+feat+Haim+-+Pray+To+God+%28Mike+Pickering+vs+Calvin+Harris+Hacienda+Remix%29&limit=10&offset=0&type=track:\n",
      " Not found., reason: None\n",
      "http status: 404, code:-1 - https://api.spotify.com/v1/search?q=artist%3ACalvin+Harris+track%3ACalvin+Harris+feat+Haim+-+Pray+To+God+%28Mike+Pickering+vs+Calvin+Harris+Hacienda+Remix%29&limit=10&offset=0&type=track:\n",
      " Not found., reason: None\n"
     ]
    },
    {
     "name": "stderr",
     "output_type": "stream",
     "text": [
      "HTTP Error for GET to https://api.spotify.com/v1/search with Params: {'q': \"artist:Spinnin' Records track:Dimitri Vegas, Moguai & Like Mike - Body Talk ft. Julian Perretta (Available September 1)\", 'limit': 10, 'offset': 0, 'type': 'track', 'market': None} returned 404 due to Not found.\n",
      "HTTP Error for GET to https://api.spotify.com/v1/search with Params: {'q': \"artist:Spinnin' Records track:Dimitri Vegas, Moguai & Like Mike - Body Talk ft. Julian Perretta (Available September 1)\", 'limit': 10, 'offset': 0, 'type': 'track', 'market': None} returned 404 due to Not found.\n"
     ]
    },
    {
     "name": "stdout",
     "output_type": "stream",
     "text": [
      "http status: 404, code:-1 - https://api.spotify.com/v1/search?q=artist%3ASpinnin%27+Records+track%3ADimitri+Vegas%2C+Moguai+%26+Like+Mike+-+Body+Talk+ft.+Julian+Perretta+%28Available+September+1%29&limit=10&offset=0&type=track:\n",
      " Not found., reason: None\n",
      "http status: 404, code:-1 - https://api.spotify.com/v1/search?q=artist%3ASpinnin%27+Records+track%3ADimitri+Vegas%2C+Moguai+%26+Like+Mike+-+Body+Talk+ft.+Julian+Perretta+%28Available+September+1%29&limit=10&offset=0&type=track:\n",
      " Not found., reason: None\n"
     ]
    },
    {
     "name": "stderr",
     "output_type": "stream",
     "text": [
      "HTTP Error for GET to https://api.spotify.com/v1/search with Params: {'q': 'artist:Benny Benassi track:Benny Benassi - Dance The Pain Away (feat John Legend)(Alex Gaudino & Benny Benassi Mashup)', 'limit': 10, 'offset': 0, 'type': 'track', 'market': None} returned 404 due to Not found.\n",
      "HTTP Error for GET to https://api.spotify.com/v1/search with Params: {'q': 'artist:Benny Benassi track:Benny Benassi - Dance The Pain Away (feat John Legend)(Alex Gaudino & Benny Benassi Mashup)', 'limit': 10, 'offset': 0, 'type': 'track', 'market': None} returned 404 due to Not found.\n"
     ]
    },
    {
     "name": "stdout",
     "output_type": "stream",
     "text": [
      "http status: 404, code:-1 - https://api.spotify.com/v1/search?q=artist%3ABenny+Benassi+track%3ABenny+Benassi+-+Dance+The+Pain+Away+%28feat+John+Legend%29%28Alex+Gaudino+%26+Benny+Benassi+Mashup%29&limit=10&offset=0&type=track:\n",
      " Not found., reason: None\n",
      "http status: 404, code:-1 - https://api.spotify.com/v1/search?q=artist%3ABenny+Benassi+track%3ABenny+Benassi+-+Dance+The+Pain+Away+%28feat+John+Legend%29%28Alex+Gaudino+%26+Benny+Benassi+Mashup%29&limit=10&offset=0&type=track:\n",
      " Not found., reason: None\n"
     ]
    },
    {
     "name": "stderr",
     "output_type": "stream",
     "text": [
      "HTTP Error for GET to https://api.spotify.com/v1/search with Params: {'q': \"artist:Above & Beyond track:Above & Beyond feat. Zoë Johnston - We're All We Need (Pete Tong BBC Radio 1 Debut)\", 'limit': 10, 'offset': 0, 'type': 'track', 'market': None} returned 404 due to Not found.\n",
      "HTTP Error for GET to https://api.spotify.com/v1/search with Params: {'q': \"artist:Above & Beyond track:Above & Beyond feat. Zoë Johnston - We're All We Need (Pete Tong BBC Radio 1 Debut)\", 'limit': 10, 'offset': 0, 'type': 'track', 'market': None} returned 404 due to Not found.\n"
     ]
    },
    {
     "name": "stdout",
     "output_type": "stream",
     "text": [
      "http status: 404, code:-1 - https://api.spotify.com/v1/search?q=artist%3AAbove+%26+Beyond+track%3AAbove+%26+Beyond+feat.+Zo%C3%AB+Johnston+-+We%27re+All+We+Need+%28Pete+Tong+BBC+Radio+1+Debut%29&limit=10&offset=0&type=track:\n",
      " Not found., reason: None\n",
      "http status: 404, code:-1 - https://api.spotify.com/v1/search?q=artist%3AAbove+%26+Beyond+track%3AAbove+%26+Beyond+feat.+Zo%C3%AB+Johnston+-+We%27re+All+We+Need+%28Pete+Tong+BBC+Radio+1+Debut%29&limit=10&offset=0&type=track:\n",
      " Not found., reason: None\n"
     ]
    },
    {
     "name": "stderr",
     "output_type": "stream",
     "text": [
      "HTTP Error for GET to https://api.spotify.com/v1/search with Params: {'q': \"artist:Spinnin' Records track:Dr. Kucho! & Gregor Salto ft Ane Brun - Can't Stop Playing (Oliver Heldens & Gregor Salto Vocal Mix)\", 'limit': 10, 'offset': 0, 'type': 'track', 'market': None} returned 404 due to Not found.\n",
      "HTTP Error for GET to https://api.spotify.com/v1/search with Params: {'q': \"artist:Spinnin' Records track:Dr. Kucho! & Gregor Salto ft Ane Brun - Can't Stop Playing (Oliver Heldens & Gregor Salto Vocal Mix)\", 'limit': 10, 'offset': 0, 'type': 'track', 'market': None} returned 404 due to Not found.\n"
     ]
    },
    {
     "name": "stdout",
     "output_type": "stream",
     "text": [
      "http status: 404, code:-1 - https://api.spotify.com/v1/search?q=artist%3ASpinnin%27+Records+track%3ADr.+Kucho%21+%26+Gregor+Salto+ft+Ane+Brun+-+Can%27t+Stop+Playing+%28Oliver+Heldens+%26+Gregor+Salto+Vocal+Mix%29&limit=10&offset=0&type=track:\n",
      " Not found., reason: None\n",
      "http status: 404, code:-1 - https://api.spotify.com/v1/search?q=artist%3ASpinnin%27+Records+track%3ADr.+Kucho%21+%26+Gregor+Salto+ft+Ane+Brun+-+Can%27t+Stop+Playing+%28Oliver+Heldens+%26+Gregor+Salto+Vocal+Mix%29&limit=10&offset=0&type=track:\n",
      " Not found., reason: None\n"
     ]
    },
    {
     "name": "stderr",
     "output_type": "stream",
     "text": [
      "HTTP Error for GET to https://api.spotify.com/v1/search with Params: {'q': \"artist:Spinnin' Records track:Borgeous & Shaun Frank - This Could Be Love ft Delaney Jane (Original Mix)\", 'limit': 10, 'offset': 0, 'type': 'track', 'market': None} returned 404 due to Not found.\n",
      "HTTP Error for GET to https://api.spotify.com/v1/search with Params: {'q': \"artist:Spinnin' Records track:Borgeous & Shaun Frank - This Could Be Love ft Delaney Jane (Original Mix)\", 'limit': 10, 'offset': 0, 'type': 'track', 'market': None} returned 404 due to Not found.\n"
     ]
    },
    {
     "name": "stdout",
     "output_type": "stream",
     "text": [
      "http status: 404, code:-1 - https://api.spotify.com/v1/search?q=artist%3ASpinnin%27+Records+track%3ABorgeous+%26+Shaun+Frank+-+This+Could+Be+Love+ft+Delaney+Jane+%28Original+Mix%29&limit=10&offset=0&type=track:\n",
      " Not found., reason: None\n",
      "http status: 404, code:-1 - https://api.spotify.com/v1/search?q=artist%3ASpinnin%27+Records+track%3ABorgeous+%26+Shaun+Frank+-+This+Could+Be+Love+ft+Delaney+Jane+%28Original+Mix%29&limit=10&offset=0&type=track:\n",
      " Not found., reason: None\n"
     ]
    },
    {
     "name": "stderr",
     "output_type": "stream",
     "text": [
      "HTTP Error for GET to https://api.spotify.com/v1/search with Params: {'q': \"artist:Kaskade track:Kaskade & ZZTTN vs. Moguai - Something Something Champs (Kaskade's Atmosphere Mash Up)\", 'limit': 10, 'offset': 0, 'type': 'track', 'market': None} returned 404 due to Not found.\n",
      "HTTP Error for GET to https://api.spotify.com/v1/search with Params: {'q': \"artist:Kaskade track:Kaskade & ZZTTN vs. Moguai - Something Something Champs (Kaskade's Atmosphere Mash Up)\", 'limit': 10, 'offset': 0, 'type': 'track', 'market': None} returned 404 due to Not found.\n"
     ]
    },
    {
     "name": "stdout",
     "output_type": "stream",
     "text": [
      "http status: 404, code:-1 - https://api.spotify.com/v1/search?q=artist%3AKaskade+track%3AKaskade+%26+ZZTTN+vs.+Moguai+-+Something+Something+Champs+%28Kaskade%27s+Atmosphere+Mash+Up%29&limit=10&offset=0&type=track:\n",
      " Not found., reason: None\n",
      "http status: 404, code:-1 - https://api.spotify.com/v1/search?q=artist%3AKaskade+track%3AKaskade+%26+ZZTTN+vs.+Moguai+-+Something+Something+Champs+%28Kaskade%27s+Atmosphere+Mash+Up%29&limit=10&offset=0&type=track:\n",
      " Not found., reason: None\n"
     ]
    },
    {
     "name": "stderr",
     "output_type": "stream",
     "text": [
      "HTTP Error for GET to https://api.spotify.com/v1/search with Params: {'q': \"artist:Spinnin' Records track:Sander van Doorn, Martin Garrix, DVBBS ft Aleesia - Gold Skies (DubVision Remix) [Danny Howard Rip]\", 'limit': 10, 'offset': 0, 'type': 'track', 'market': None} returned 404 due to Not found.\n",
      "HTTP Error for GET to https://api.spotify.com/v1/search with Params: {'q': \"artist:Spinnin' Records track:Sander van Doorn, Martin Garrix, DVBBS ft Aleesia - Gold Skies (DubVision Remix) [Danny Howard Rip]\", 'limit': 10, 'offset': 0, 'type': 'track', 'market': None} returned 404 due to Not found.\n"
     ]
    },
    {
     "name": "stdout",
     "output_type": "stream",
     "text": [
      "http status: 404, code:-1 - https://api.spotify.com/v1/search?q=artist%3ASpinnin%27+Records+track%3ASander+van+Doorn%2C+Martin+Garrix%2C+DVBBS+ft+Aleesia+-+Gold+Skies+%28DubVision+Remix%29+%5BDanny+Howard+Rip%5D&limit=10&offset=0&type=track:\n",
      " Not found., reason: None\n",
      "http status: 404, code:-1 - https://api.spotify.com/v1/search?q=artist%3ASpinnin%27+Records+track%3ASander+van+Doorn%2C+Martin+Garrix%2C+DVBBS+ft+Aleesia+-+Gold+Skies+%28DubVision+Remix%29+%5BDanny+Howard+Rip%5D&limit=10&offset=0&type=track:\n",
      " Not found., reason: None\n"
     ]
    },
    {
     "name": "stderr",
     "output_type": "stream",
     "text": [
      "HTTP Error for GET to https://api.spotify.com/v1/search with Params: {'q': 'artist:Robin Schulz track:Lilly Wood & the Prick & Robin Schulz - Prayer In C (Robin Schulz Remix) BUY ON I TUNES NOW !!!', 'limit': 10, 'offset': 0, 'type': 'track', 'market': None} returned 404 due to Not found.\n",
      "HTTP Error for GET to https://api.spotify.com/v1/search with Params: {'q': 'artist:Robin Schulz track:Lilly Wood & the Prick & Robin Schulz - Prayer In C (Robin Schulz Remix) BUY ON I TUNES NOW !!!', 'limit': 10, 'offset': 0, 'type': 'track', 'market': None} returned 404 due to Not found.\n"
     ]
    },
    {
     "name": "stdout",
     "output_type": "stream",
     "text": [
      "http status: 404, code:-1 - https://api.spotify.com/v1/search?q=artist%3ARobin+Schulz+track%3ALilly+Wood+%26+the+Prick+%26+Robin+Schulz+-+Prayer+In+C+%28Robin+Schulz+Remix%29+BUY+ON+I+TUNES+NOW+%21%21%21&limit=10&offset=0&type=track:\n",
      " Not found., reason: None\n",
      "http status: 404, code:-1 - https://api.spotify.com/v1/search?q=artist%3ARobin+Schulz+track%3ALilly+Wood+%26+the+Prick+%26+Robin+Schulz+-+Prayer+In+C+%28Robin+Schulz+Remix%29+BUY+ON+I+TUNES+NOW+%21%21%21&limit=10&offset=0&type=track:\n",
      " Not found., reason: None\n"
     ]
    },
    {
     "name": "stderr",
     "output_type": "stream",
     "text": [
      "HTTP Error for GET to https://api.spotify.com/v1/search with Params: {'q': 'artist:Elephante track:Sander Van Doorn, Martin Garrix, DVBBS - Gold Skies (Elephante Remix) [SPINNIN]', 'limit': 10, 'offset': 0, 'type': 'track', 'market': None} returned 404 due to Not found.\n",
      "HTTP Error for GET to https://api.spotify.com/v1/search with Params: {'q': 'artist:Elephante track:Sander Van Doorn, Martin Garrix, DVBBS - Gold Skies (Elephante Remix) [SPINNIN]', 'limit': 10, 'offset': 0, 'type': 'track', 'market': None} returned 404 due to Not found.\n"
     ]
    },
    {
     "name": "stdout",
     "output_type": "stream",
     "text": [
      "http status: 404, code:-1 - https://api.spotify.com/v1/search?q=artist%3AElephante+track%3ASander+Van+Doorn%2C+Martin+Garrix%2C+DVBBS+-+Gold+Skies+%28Elephante+Remix%29+%5BSPINNIN%5D&limit=10&offset=0&type=track:\n",
      " Not found., reason: None\n",
      "http status: 404, code:-1 - https://api.spotify.com/v1/search?q=artist%3AElephante+track%3ASander+Van+Doorn%2C+Martin+Garrix%2C+DVBBS+-+Gold+Skies+%28Elephante+Remix%29+%5BSPINNIN%5D&limit=10&offset=0&type=track:\n",
      " Not found., reason: None\n"
     ]
    },
    {
     "name": "stderr",
     "output_type": "stream",
     "text": [
      "HTTP Error for GET to https://api.spotify.com/v1/search with Params: {'q': 'artist:DILLONFRANCIS track:Dillon Francis - Without You Feat. Totally Enormous Extinct Dinosaurs (The Rebirth)', 'limit': 10, 'offset': 0, 'type': 'track', 'market': None} returned 404 due to Not found.\n",
      "HTTP Error for GET to https://api.spotify.com/v1/search with Params: {'q': 'artist:DILLONFRANCIS track:Dillon Francis - Without You Feat. Totally Enormous Extinct Dinosaurs (The Rebirth)', 'limit': 10, 'offset': 0, 'type': 'track', 'market': None} returned 404 due to Not found.\n"
     ]
    },
    {
     "name": "stdout",
     "output_type": "stream",
     "text": [
      "http status: 404, code:-1 - https://api.spotify.com/v1/search?q=artist%3ADILLONFRANCIS+track%3ADillon+Francis+-+Without+You+Feat.+Totally+Enormous+Extinct+Dinosaurs+%28The+Rebirth%29&limit=10&offset=0&type=track:\n",
      " Not found., reason: None\n",
      "http status: 404, code:-1 - https://api.spotify.com/v1/search?q=artist%3ADILLONFRANCIS+track%3ADillon+Francis+-+Without+You+Feat.+Totally+Enormous+Extinct+Dinosaurs+%28The+Rebirth%29&limit=10&offset=0&type=track:\n",
      " Not found., reason: None\n"
     ]
    },
    {
     "name": "stderr",
     "output_type": "stream",
     "text": [
      "HTTP Error for GET to https://api.spotify.com/v1/search with Params: {'q': \"artist:Spinnin' Records track:Michael Woods ft. Lauren Dyson - In Your Arms (Pete Tong Rip) [Available July 14]\", 'limit': 10, 'offset': 0, 'type': 'track', 'market': None} returned 404 due to Not found.\n",
      "HTTP Error for GET to https://api.spotify.com/v1/search with Params: {'q': \"artist:Spinnin' Records track:Michael Woods ft. Lauren Dyson - In Your Arms (Pete Tong Rip) [Available July 14]\", 'limit': 10, 'offset': 0, 'type': 'track', 'market': None} returned 404 due to Not found.\n",
      "HTTP Error for GET to https://api.spotify.com/v1/search with Params: {'q': 'artist:Azureon: Surge track:Melbourne Bounce by Orkestrated and Fries & Shine ft. Big Nab (Deorro Remix)', 'limit': 10, 'offset': 0, 'type': 'track', 'market': None} returned 404 due to Not found.\n"
     ]
    },
    {
     "name": "stdout",
     "output_type": "stream",
     "text": [
      "http status: 404, code:-1 - https://api.spotify.com/v1/search?q=artist%3ASpinnin%27+Records+track%3AMichael+Woods+ft.+Lauren+Dyson+-+In+Your+Arms+%28Pete+Tong+Rip%29+%5BAvailable+July+14%5D&limit=10&offset=0&type=track:\n",
      " Not found., reason: None\n",
      "http status: 404, code:-1 - https://api.spotify.com/v1/search?q=artist%3ASpinnin%27+Records+track%3AMichael+Woods+ft.+Lauren+Dyson+-+In+Your+Arms+%28Pete+Tong+Rip%29+%5BAvailable+July+14%5D&limit=10&offset=0&type=track:\n",
      " Not found., reason: None\n",
      "http status: 404, code:-1 - https://api.spotify.com/v1/search?q=artist%3AAzureon%3A+Surge+track%3AMelbourne+Bounce+by+Orkestrated+and+Fries+%26+Shine+ft.+Big+Nab+%28Deorro+Remix%29&limit=10&offset=0&type=track:\n",
      " Not found., reason: None\n"
     ]
    },
    {
     "name": "stderr",
     "output_type": "stream",
     "text": [
      "HTTP Error for GET to https://api.spotify.com/v1/search with Params: {'q': 'artist:Azureon: Surge track:Melbourne Bounce by Orkestrated and Fries & Shine ft. Big Nab (Deorro Remix)', 'limit': 10, 'offset': 0, 'type': 'track', 'market': None} returned 404 due to Not found.\n"
     ]
    },
    {
     "name": "stdout",
     "output_type": "stream",
     "text": [
      "http status: 404, code:-1 - https://api.spotify.com/v1/search?q=artist%3AAzureon%3A+Surge+track%3AMelbourne+Bounce+by+Orkestrated+and+Fries+%26+Shine+ft.+Big+Nab+%28Deorro+Remix%29&limit=10&offset=0&type=track:\n",
      " Not found., reason: None\n"
     ]
    },
    {
     "name": "stderr",
     "output_type": "stream",
     "text": [
      "HTTP Error for GET to https://api.spotify.com/v1/search with Params: {'q': 'artist:Eyela Beret track:Lana Del Rey - Blue Jeans (Eyela Beret Bootleg Remix) [CLICK BUY TO DOWNLOAD]', 'limit': 10, 'offset': 0, 'type': 'track', 'market': None} returned 404 due to Not found.\n",
      "HTTP Error for GET to https://api.spotify.com/v1/search with Params: {'q': 'artist:Eyela Beret track:Lana Del Rey - Blue Jeans (Eyela Beret Bootleg Remix) [CLICK BUY TO DOWNLOAD]', 'limit': 10, 'offset': 0, 'type': 'track', 'market': None} returned 404 due to Not found.\n",
      "HTTP Error for GET to https://api.spotify.com/v1/search with Params: {'q': 'artist:Dash Berlin track:Cash Cash ft. John Rzeznik - Lightning (Dash Berlin 4AM Remix)[Exclusive Preview] OUT NOW', 'limit': 10, 'offset': 0, 'type': 'track', 'market': None} returned 404 due to Not found.\n"
     ]
    },
    {
     "name": "stdout",
     "output_type": "stream",
     "text": [
      "http status: 404, code:-1 - https://api.spotify.com/v1/search?q=artist%3AEyela+Beret+track%3ALana+Del+Rey+-+Blue+Jeans+%28Eyela+Beret+Bootleg+Remix%29+%5BCLICK+BUY+TO+DOWNLOAD%5D&limit=10&offset=0&type=track:\n",
      " Not found., reason: None\n",
      "http status: 404, code:-1 - https://api.spotify.com/v1/search?q=artist%3AEyela+Beret+track%3ALana+Del+Rey+-+Blue+Jeans+%28Eyela+Beret+Bootleg+Remix%29+%5BCLICK+BUY+TO+DOWNLOAD%5D&limit=10&offset=0&type=track:\n",
      " Not found., reason: None\n",
      "http status: 404, code:-1 - https://api.spotify.com/v1/search?q=artist%3ADash+Berlin+track%3ACash+Cash+ft.+John+Rzeznik+-+Lightning+%28Dash+Berlin+4AM+Remix%29%5BExclusive+Preview%5D+OUT+NOW&limit=10&offset=0&type=track:\n",
      " Not found., reason: None\n"
     ]
    },
    {
     "name": "stderr",
     "output_type": "stream",
     "text": [
      "HTTP Error for GET to https://api.spotify.com/v1/search with Params: {'q': 'artist:Dash Berlin track:Cash Cash ft. John Rzeznik - Lightning (Dash Berlin 4AM Remix)[Exclusive Preview] OUT NOW', 'limit': 10, 'offset': 0, 'type': 'track', 'market': None} returned 404 due to Not found.\n"
     ]
    },
    {
     "name": "stdout",
     "output_type": "stream",
     "text": [
      "http status: 404, code:-1 - https://api.spotify.com/v1/search?q=artist%3ADash+Berlin+track%3ACash+Cash+ft.+John+Rzeznik+-+Lightning+%28Dash+Berlin+4AM+Remix%29%5BExclusive+Preview%5D+OUT+NOW&limit=10&offset=0&type=track:\n",
      " Not found., reason: None\n"
     ]
    },
    {
     "name": "stderr",
     "output_type": "stream",
     "text": [
      "HTTP Error for GET to https://api.spotify.com/v1/search with Params: {'q': 'artist:Thissongissick.com track:Skrillex - Ease My Mind (Jai Wolf Remix) [Thissongissick.com Premiere]', 'limit': 10, 'offset': 0, 'type': 'track', 'market': None} returned 404 due to Not found.\n",
      "HTTP Error for GET to https://api.spotify.com/v1/search with Params: {'q': 'artist:Thissongissick.com track:Skrillex - Ease My Mind (Jai Wolf Remix) [Thissongissick.com Premiere]', 'limit': 10, 'offset': 0, 'type': 'track', 'market': None} returned 404 due to Not found.\n",
      "HTTP Error for GET to https://api.spotify.com/v1/search with Params: {'q': 'artist:Thissongissick.com track:Oh Honey - Be Okay (Dzeko & Torres Remix) [Thissongissick.com Premeire]', 'limit': 10, 'offset': 0, 'type': 'track', 'market': None} returned 404 due to Not found.\n"
     ]
    },
    {
     "name": "stdout",
     "output_type": "stream",
     "text": [
      "http status: 404, code:-1 - https://api.spotify.com/v1/search?q=artist%3AThissongissick.com+track%3ASkrillex+-+Ease+My+Mind+%28Jai+Wolf+Remix%29+%5BThissongissick.com+Premiere%5D&limit=10&offset=0&type=track:\n",
      " Not found., reason: None\n",
      "http status: 404, code:-1 - https://api.spotify.com/v1/search?q=artist%3AThissongissick.com+track%3ASkrillex+-+Ease+My+Mind+%28Jai+Wolf+Remix%29+%5BThissongissick.com+Premiere%5D&limit=10&offset=0&type=track:\n",
      " Not found., reason: None\n",
      "http status: 404, code:-1 - https://api.spotify.com/v1/search?q=artist%3AThissongissick.com+track%3AOh+Honey+-+Be+Okay+%28Dzeko+%26+Torres+Remix%29+%5BThissongissick.com+Premeire%5D&limit=10&offset=0&type=track:\n",
      " Not found., reason: None\n"
     ]
    },
    {
     "name": "stderr",
     "output_type": "stream",
     "text": [
      "HTTP Error for GET to https://api.spotify.com/v1/search with Params: {'q': 'artist:Thissongissick.com track:Oh Honey - Be Okay (Dzeko & Torres Remix) [Thissongissick.com Premeire]', 'limit': 10, 'offset': 0, 'type': 'track', 'market': None} returned 404 due to Not found.\n"
     ]
    },
    {
     "name": "stdout",
     "output_type": "stream",
     "text": [
      "http status: 404, code:-1 - https://api.spotify.com/v1/search?q=artist%3AThissongissick.com+track%3AOh+Honey+-+Be+Okay+%28Dzeko+%26+Torres+Remix%29+%5BThissongissick.com+Premeire%5D&limit=10&offset=0&type=track:\n",
      " Not found., reason: None\n"
     ]
    },
    {
     "name": "stderr",
     "output_type": "stream",
     "text": [
      "HTTP Error for GET to https://api.spotify.com/v1/search with Params: {'q': \"artist:Spinnin' Records track:Sander van Doorn, Martin Garrix, DVBBS ft Aleesia - Gold Skies (Preview) [Available June 2]\", 'limit': 10, 'offset': 0, 'type': 'track', 'market': None} returned 404 due to Not found.\n",
      "HTTP Error for GET to https://api.spotify.com/v1/search with Params: {'q': \"artist:Spinnin' Records track:Sander van Doorn, Martin Garrix, DVBBS ft Aleesia - Gold Skies (Preview) [Available June 2]\", 'limit': 10, 'offset': 0, 'type': 'track', 'market': None} returned 404 due to Not found.\n"
     ]
    },
    {
     "name": "stdout",
     "output_type": "stream",
     "text": [
      "http status: 404, code:-1 - https://api.spotify.com/v1/search?q=artist%3ASpinnin%27+Records+track%3ASander+van+Doorn%2C+Martin+Garrix%2C+DVBBS+ft+Aleesia+-+Gold+Skies+%28Preview%29+%5BAvailable+June+2%5D&limit=10&offset=0&type=track:\n",
      " Not found., reason: None\n",
      "http status: 404, code:-1 - https://api.spotify.com/v1/search?q=artist%3ASpinnin%27+Records+track%3ASander+van+Doorn%2C+Martin+Garrix%2C+DVBBS+ft+Aleesia+-+Gold+Skies+%28Preview%29+%5BAvailable+June+2%5D&limit=10&offset=0&type=track:\n",
      " Not found., reason: None\n"
     ]
    },
    {
     "name": "stderr",
     "output_type": "stream",
     "text": [
      "HTTP Error for GET to https://api.spotify.com/v1/search with Params: {'q': 'artist:Protocol Recordings track:Tritonal & Paris Blohm ft. Sterling Fox - Colors (Culture Code Remix)', 'limit': 10, 'offset': 0, 'type': 'track', 'market': None} returned 404 due to Not found.\n",
      "HTTP Error for GET to https://api.spotify.com/v1/search with Params: {'q': 'artist:Protocol Recordings track:Tritonal & Paris Blohm ft. Sterling Fox - Colors (Culture Code Remix)', 'limit': 10, 'offset': 0, 'type': 'track', 'market': None} returned 404 due to Not found.\n"
     ]
    },
    {
     "name": "stdout",
     "output_type": "stream",
     "text": [
      "http status: 404, code:-1 - https://api.spotify.com/v1/search?q=artist%3AProtocol+Recordings+track%3ATritonal+%26+Paris+Blohm+ft.+Sterling+Fox+-+Colors+%28Culture+Code+Remix%29&limit=10&offset=0&type=track:\n",
      " Not found., reason: None\n",
      "http status: 404, code:-1 - https://api.spotify.com/v1/search?q=artist%3AProtocol+Recordings+track%3ATritonal+%26+Paris+Blohm+ft.+Sterling+Fox+-+Colors+%28Culture+Code+Remix%29&limit=10&offset=0&type=track:\n",
      " Not found., reason: None\n"
     ]
    },
    {
     "name": "stderr",
     "output_type": "stream",
     "text": [
      "HTTP Error for GET to https://api.spotify.com/v1/search with Params: {'q': 'artist:Thissongissick.com track:Audien - Elysium (gLAdiator Remix) [Thissongissick.com Exclusive Download]', 'limit': 10, 'offset': 0, 'type': 'track', 'market': None} returned 404 due to Not found.\n",
      "HTTP Error for GET to https://api.spotify.com/v1/search with Params: {'q': 'artist:Thissongissick.com track:Audien - Elysium (gLAdiator Remix) [Thissongissick.com Exclusive Download]', 'limit': 10, 'offset': 0, 'type': 'track', 'market': None} returned 404 due to Not found.\n"
     ]
    },
    {
     "name": "stdout",
     "output_type": "stream",
     "text": [
      "http status: 404, code:-1 - https://api.spotify.com/v1/search?q=artist%3AThissongissick.com+track%3AAudien+-+Elysium+%28gLAdiator+Remix%29+%5BThissongissick.com+Exclusive+Download%5D&limit=10&offset=0&type=track:\n",
      " Not found., reason: None\n",
      "http status: 404, code:-1 - https://api.spotify.com/v1/search?q=artist%3AThissongissick.com+track%3AAudien+-+Elysium+%28gLAdiator+Remix%29+%5BThissongissick.com+Exclusive+Download%5D&limit=10&offset=0&type=track:\n",
      " Not found., reason: None\n"
     ]
    },
    {
     "name": "stderr",
     "output_type": "stream",
     "text": [
      "HTTP Error for GET to https://api.spotify.com/v1/search with Params: {'q': \"artist:Spinnin' Records track:Dimitri Vegas, Martin Garrix, Like Mike - Tremor (Sensation 2014 Anthem) (Original Mix)\", 'limit': 10, 'offset': 0, 'type': 'track', 'market': None} returned 404 due to Not found.\n",
      "HTTP Error for GET to https://api.spotify.com/v1/search with Params: {'q': \"artist:Spinnin' Records track:Dimitri Vegas, Martin Garrix, Like Mike - Tremor (Sensation 2014 Anthem) (Original Mix)\", 'limit': 10, 'offset': 0, 'type': 'track', 'market': None} returned 404 due to Not found.\n"
     ]
    },
    {
     "name": "stdout",
     "output_type": "stream",
     "text": [
      "http status: 404, code:-1 - https://api.spotify.com/v1/search?q=artist%3ASpinnin%27+Records+track%3ADimitri+Vegas%2C+Martin+Garrix%2C+Like+Mike+-+Tremor+%28Sensation+2014+Anthem%29+%28Original+Mix%29&limit=10&offset=0&type=track:\n",
      " Not found., reason: None\n",
      "http status: 404, code:-1 - https://api.spotify.com/v1/search?q=artist%3ASpinnin%27+Records+track%3ADimitri+Vegas%2C+Martin+Garrix%2C+Like+Mike+-+Tremor+%28Sensation+2014+Anthem%29+%28Original+Mix%29&limit=10&offset=0&type=track:\n",
      " Not found., reason: None\n"
     ]
    },
    {
     "name": "stderr",
     "output_type": "stream",
     "text": [
      "HTTP Error for GET to https://api.spotify.com/v1/search with Params: {'q': 'artist:Sikdope track:Borgore & Sikdope - Unicorn Zombie Apocalypse ( out now on Spinnin Records ) @sikdope', 'limit': 10, 'offset': 0, 'type': 'track', 'market': None} returned 404 due to Not found.\n",
      "HTTP Error for GET to https://api.spotify.com/v1/search with Params: {'q': 'artist:Sikdope track:Borgore & Sikdope - Unicorn Zombie Apocalypse ( out now on Spinnin Records ) @sikdope', 'limit': 10, 'offset': 0, 'type': 'track', 'market': None} returned 404 due to Not found.\n"
     ]
    },
    {
     "name": "stdout",
     "output_type": "stream",
     "text": [
      "http status: 404, code:-1 - https://api.spotify.com/v1/search?q=artist%3ASikdope+track%3ABorgore+%26+Sikdope+-+Unicorn+Zombie+Apocalypse+%28+out+now+on+Spinnin+Records+%29+%40sikdope&limit=10&offset=0&type=track:\n",
      " Not found., reason: None\n",
      "http status: 404, code:-1 - https://api.spotify.com/v1/search?q=artist%3ASikdope+track%3ABorgore+%26+Sikdope+-+Unicorn+Zombie+Apocalypse+%28+out+now+on+Spinnin+Records+%29+%40sikdope&limit=10&offset=0&type=track:\n",
      " Not found., reason: None\n"
     ]
    },
    {
     "name": "stderr",
     "output_type": "stream",
     "text": [
      "HTTP Error for GET to https://api.spotify.com/v1/search with Params: {'q': 'artist:OWSLA track:Zedd - Stay the Night (feat. Hayley Williams of Paramore) [Zedd & Kevin Drew Extended Remix]', 'limit': 10, 'offset': 0, 'type': 'track', 'market': None} returned 404 due to Not found.\n",
      "HTTP Error for GET to https://api.spotify.com/v1/search with Params: {'q': 'artist:OWSLA track:Zedd - Stay the Night (feat. Hayley Williams of Paramore) [Zedd & Kevin Drew Extended Remix]', 'limit': 10, 'offset': 0, 'type': 'track', 'market': None} returned 404 due to Not found.\n"
     ]
    },
    {
     "name": "stdout",
     "output_type": "stream",
     "text": [
      "http status: 404, code:-1 - https://api.spotify.com/v1/search?q=artist%3AOWSLA+track%3AZedd+-+Stay+the+Night+%28feat.+Hayley+Williams+of+Paramore%29+%5BZedd+%26+Kevin+Drew+Extended+Remix%5D&limit=10&offset=0&type=track:\n",
      " Not found., reason: None\n",
      "http status: 404, code:-1 - https://api.spotify.com/v1/search?q=artist%3AOWSLA+track%3AZedd+-+Stay+the+Night+%28feat.+Hayley+Williams+of+Paramore%29+%5BZedd+%26+Kevin+Drew+Extended+Remix%5D&limit=10&offset=0&type=track:\n",
      " Not found., reason: None\n"
     ]
    },
    {
     "name": "stderr",
     "output_type": "stream",
     "text": [
      "HTTP Error for GET to https://api.spotify.com/v1/search with Params: {'q': 'artist:Djuro track:Deorro Ft. Tess Marie - Lie (Djuro Remix) *Remix Competition* #5th Place. D/L In Description', 'limit': 10, 'offset': 0, 'type': 'track', 'market': None} returned 404 due to Not found.\n",
      "HTTP Error for GET to https://api.spotify.com/v1/search with Params: {'q': 'artist:Djuro track:Deorro Ft. Tess Marie - Lie (Djuro Remix) *Remix Competition* #5th Place. D/L In Description', 'limit': 10, 'offset': 0, 'type': 'track', 'market': None} returned 404 due to Not found.\n"
     ]
    },
    {
     "name": "stdout",
     "output_type": "stream",
     "text": [
      "http status: 404, code:-1 - https://api.spotify.com/v1/search?q=artist%3ADjuro+track%3ADeorro+Ft.+Tess+Marie+-+Lie+%28Djuro+Remix%29+%2ARemix+Competition%2A+%235th+Place.+D%2FL+In+Description&limit=10&offset=0&type=track:\n",
      " Not found., reason: None\n",
      "http status: 404, code:-1 - https://api.spotify.com/v1/search?q=artist%3ADjuro+track%3ADeorro+Ft.+Tess+Marie+-+Lie+%28Djuro+Remix%29+%2ARemix+Competition%2A+%235th+Place.+D%2FL+In+Description&limit=10&offset=0&type=track:\n",
      " Not found., reason: None\n"
     ]
    },
    {
     "name": "stderr",
     "output_type": "stream",
     "text": [
      "HTTP Error for GET to https://api.spotify.com/v1/search with Params: {'q': 'artist:dimitrivegasandlikemike track:Fatboy Slim VS Dimitri Vegas, Like Mike & Ummet Ozcan - Eat Sleep Rave Repeat ( Tomorrowland Mix )', 'limit': 10, 'offset': 0, 'type': 'track', 'market': None} returned 404 due to Not found.\n",
      "HTTP Error for GET to https://api.spotify.com/v1/search with Params: {'q': 'artist:dimitrivegasandlikemike track:Fatboy Slim VS Dimitri Vegas, Like Mike & Ummet Ozcan - Eat Sleep Rave Repeat ( Tomorrowland Mix )', 'limit': 10, 'offset': 0, 'type': 'track', 'market': None} returned 404 due to Not found.\n"
     ]
    },
    {
     "name": "stdout",
     "output_type": "stream",
     "text": [
      "http status: 404, code:-1 - https://api.spotify.com/v1/search?q=artist%3Adimitrivegasandlikemike+track%3AFatboy+Slim+VS+Dimitri+Vegas%2C+Like+Mike+%26+Ummet+Ozcan+-+Eat+Sleep+Rave+Repeat+%28+Tomorrowland+Mix+%29&limit=10&offset=0&type=track:\n",
      " Not found., reason: None\n",
      "http status: 404, code:-1 - https://api.spotify.com/v1/search?q=artist%3Adimitrivegasandlikemike+track%3AFatboy+Slim+VS+Dimitri+Vegas%2C+Like+Mike+%26+Ummet+Ozcan+-+Eat+Sleep+Rave+Repeat+%28+Tomorrowland+Mix+%29&limit=10&offset=0&type=track:\n",
      " Not found., reason: None\n"
     ]
    },
    {
     "name": "stderr",
     "output_type": "stream",
     "text": [
      "HTTP Error for GET to https://api.spotify.com/v1/search with Params: {'q': \"artist:Spinnin' Records track:Dimitri Vegas & Like Mike vs DVBBS & Borgeous - Stampede (Major Lazer X P.A.F.F. Remix) [March 10]\", 'limit': 10, 'offset': 0, 'type': 'track', 'market': None} returned 404 due to Not found.\n",
      "HTTP Error for GET to https://api.spotify.com/v1/search with Params: {'q': \"artist:Spinnin' Records track:Dimitri Vegas & Like Mike vs DVBBS & Borgeous - Stampede (Major Lazer X P.A.F.F. Remix) [March 10]\", 'limit': 10, 'offset': 0, 'type': 'track', 'market': None} returned 404 due to Not found.\n"
     ]
    },
    {
     "name": "stdout",
     "output_type": "stream",
     "text": [
      "http status: 404, code:-1 - https://api.spotify.com/v1/search?q=artist%3ASpinnin%27+Records+track%3ADimitri+Vegas+%26+Like+Mike+vs+DVBBS+%26+Borgeous+-+Stampede+%28Major+Lazer+X+P.A.F.F.+Remix%29+%5BMarch+10%5D&limit=10&offset=0&type=track:\n",
      " Not found., reason: None\n",
      "http status: 404, code:-1 - https://api.spotify.com/v1/search?q=artist%3ASpinnin%27+Records+track%3ADimitri+Vegas+%26+Like+Mike+vs+DVBBS+%26+Borgeous+-+Stampede+%28Major+Lazer+X+P.A.F.F.+Remix%29+%5BMarch+10%5D&limit=10&offset=0&type=track:\n",
      " Not found., reason: None\n"
     ]
    },
    {
     "name": "stderr",
     "output_type": "stream",
     "text": [
      "HTTP Error for GET to https://api.spotify.com/v1/search with Params: {'q': 'artist:dimitrivegasandlikemike track:Dimitri Vegas & Like Mike ft Boostedkids - G.I.P.S.Y - OUT NOW @ BEATPORT', 'limit': 10, 'offset': 0, 'type': 'track', 'market': None} returned 404 due to Not found.\n",
      "HTTP Error for GET to https://api.spotify.com/v1/search with Params: {'q': 'artist:dimitrivegasandlikemike track:Dimitri Vegas & Like Mike ft Boostedkids - G.I.P.S.Y - OUT NOW @ BEATPORT', 'limit': 10, 'offset': 0, 'type': 'track', 'market': None} returned 404 due to Not found.\n"
     ]
    },
    {
     "name": "stdout",
     "output_type": "stream",
     "text": [
      "http status: 404, code:-1 - https://api.spotify.com/v1/search?q=artist%3Adimitrivegasandlikemike+track%3ADimitri+Vegas+%26+Like+Mike+ft+Boostedkids+-+G.I.P.S.Y+-+OUT+NOW+%40+BEATPORT&limit=10&offset=0&type=track:\n",
      " Not found., reason: None\n",
      "http status: 404, code:-1 - https://api.spotify.com/v1/search?q=artist%3Adimitrivegasandlikemike+track%3ADimitri+Vegas+%26+Like+Mike+ft+Boostedkids+-+G.I.P.S.Y+-+OUT+NOW+%40+BEATPORT&limit=10&offset=0&type=track:\n",
      " Not found., reason: None\n"
     ]
    },
    {
     "name": "stderr",
     "output_type": "stream",
     "text": [
      "HTTP Error for GET to https://api.spotify.com/v1/search with Params: {'q': 'artist:dimitrivegasandlikemike track:Dimitri Vegas & Like Mike vs DVBBS & Borgeous - STAMPEDE - BEATPORT #1', 'limit': 10, 'offset': 0, 'type': 'track', 'market': None} returned 404 due to Not found.\n",
      "HTTP Error for GET to https://api.spotify.com/v1/search with Params: {'q': 'artist:dimitrivegasandlikemike track:Dimitri Vegas & Like Mike vs DVBBS & Borgeous - STAMPEDE - BEATPORT #1', 'limit': 10, 'offset': 0, 'type': 'track', 'market': None} returned 404 due to Not found.\n"
     ]
    },
    {
     "name": "stdout",
     "output_type": "stream",
     "text": [
      "http status: 404, code:-1 - https://api.spotify.com/v1/search?q=artist%3Adimitrivegasandlikemike+track%3ADimitri+Vegas+%26+Like+Mike+vs+DVBBS+%26+Borgeous+-+STAMPEDE+-+BEATPORT+%231&limit=10&offset=0&type=track:\n",
      " Not found., reason: None\n",
      "http status: 404, code:-1 - https://api.spotify.com/v1/search?q=artist%3Adimitrivegasandlikemike+track%3ADimitri+Vegas+%26+Like+Mike+vs+DVBBS+%26+Borgeous+-+STAMPEDE+-+BEATPORT+%231&limit=10&offset=0&type=track:\n",
      " Not found., reason: None\n"
     ]
    },
    {
     "name": "stderr",
     "output_type": "stream",
     "text": [
      "HTTP Error for GET to https://api.spotify.com/v1/search with Params: {'q': 'artist:Fatboy Slim track:Fatboy Slim, Riva Starr & Beardyman - Eat, Sleep, Rave, Repeat - Calvin Harris Remix (Preview)', 'limit': 10, 'offset': 0, 'type': 'track', 'market': None} returned 404 due to Not found.\n",
      "HTTP Error for GET to https://api.spotify.com/v1/search with Params: {'q': 'artist:Fatboy Slim track:Fatboy Slim, Riva Starr & Beardyman - Eat, Sleep, Rave, Repeat - Calvin Harris Remix (Preview)', 'limit': 10, 'offset': 0, 'type': 'track', 'market': None} returned 404 due to Not found.\n"
     ]
    },
    {
     "name": "stdout",
     "output_type": "stream",
     "text": [
      "http status: 404, code:-1 - https://api.spotify.com/v1/search?q=artist%3AFatboy+Slim+track%3AFatboy+Slim%2C+Riva+Starr+%26+Beardyman+-+Eat%2C+Sleep%2C+Rave%2C+Repeat+-+Calvin+Harris+Remix+%28Preview%29&limit=10&offset=0&type=track:\n",
      " Not found., reason: None\n",
      "http status: 404, code:-1 - https://api.spotify.com/v1/search?q=artist%3AFatboy+Slim+track%3AFatboy+Slim%2C+Riva+Starr+%26+Beardyman+-+Eat%2C+Sleep%2C+Rave%2C+Repeat+-+Calvin+Harris+Remix+%28Preview%29&limit=10&offset=0&type=track:\n",
      " Not found., reason: None\n"
     ]
    }
   ],
   "source": [
    "\n",
    "count = 0\n",
    "for like in likes_attributes:\n",
    "    count += 1\n",
    "    spotify_features = sp.get_features(like['title'], like['artist'])\n",
    "    like['spotify_track_id'] = spotify_features['id']\n",
    "    like['acousticness'] = spotify_features['acousticness']\n",
    "    like['danceability'] = spotify_features['danceability']\n",
    "    like['energy'] = spotify_features['energy']\n",
    "    like['instrumentalness'] = spotify_features['instrumentalness']\n",
    "    like['key'] = spotify_features['key']\n",
    "    like['liveness'] = spotify_features['liveness']\n",
    "    like['loudness'] = spotify_features['loudness']\n",
    "    like['mode'] = spotify_features['mode']\n",
    "    like['tempo'] = spotify_features['tempo']\n",
    "    like['time_signature'] = spotify_features['time_signature']\n",
    "    like['valence'] = spotify_features['valence']\n"
   ]
  },
  {
   "cell_type": "code",
   "execution_count": 5,
   "metadata": {},
   "outputs": [],
   "source": [
    "import json"
   ]
  },
  {
   "cell_type": "code",
   "execution_count": 7,
   "metadata": {},
   "outputs": [
    {
     "name": "stdout",
     "output_type": "stream",
     "text": [
      "958 2100\n"
     ]
    }
   ],
   "source": [
    "valid, invalid = 0, 0\n",
    "for like in likes_attributes:\n",
    "    if like['tempo']:\n",
    "        valid += 1\n",
    "    else:\n",
    "        invalid += 1\n",
    "print(valid, invalid)"
   ]
  },
  {
   "cell_type": "code",
   "execution_count": 6,
   "metadata": {},
   "outputs": [],
   "source": [
    "with open('liked_songs7_16_22.json', 'w') as fp:\n",
    "    json.dump(likes_attributes, fp, indent=4, sort_keys=True, default = str)"
   ]
  },
  {
   "cell_type": "code",
   "execution_count": 6,
   "metadata": {},
   "outputs": [
    {
     "name": "stdout",
     "output_type": "stream",
     "text": [
      "None\n"
     ]
    }
   ],
   "source": [
    "x = None\n",
    "test_dict = {}\n",
    "test_dict['test_key'] = x\n",
    "print(test_dict['test_key'])"
   ]
  },
  {
   "cell_type": "code",
   "execution_count": null,
   "metadata": {},
   "outputs": [],
   "source": []
  }
 ],
 "metadata": {
  "interpreter": {
   "hash": "31f2aee4e71d21fbe5cf8b01ff0e069b9275f58929596ceb00d14d90e3e16cd6"
  },
  "kernelspec": {
   "display_name": "Python 3.8.9 64-bit",
   "language": "python",
   "name": "python3"
  },
  "language_info": {
   "codemirror_mode": {
    "name": "ipython",
    "version": 3
   },
   "file_extension": ".py",
   "mimetype": "text/x-python",
   "name": "python",
   "nbconvert_exporter": "python",
   "pygments_lexer": "ipython3",
   "version": "3.8.9"
  },
  "orig_nbformat": 4
 },
 "nbformat": 4,
 "nbformat_minor": 2
}
